{
 "cells": [
  {
   "cell_type": "code",
   "execution_count": 55,
   "metadata": {
    "init_cell": true
   },
   "outputs": [],
   "source": [
    "%logstop\n",
    "%logstart -rtq ~/.logs/pw.py append\n",
    "import seaborn as sns\n",
    "sns.set()"
   ]
  },
  {
   "cell_type": "code",
   "execution_count": 3,
   "metadata": {},
   "outputs": [],
   "source": [
    "from static_grader import grader"
   ]
  },
  {
   "cell_type": "markdown",
   "metadata": {},
   "source": [
    "# PW Miniproject\n",
    "## Introduction\n",
    "\n",
    "The objective of this miniproject is to exercise your ability to use basic Python data structures, define functions, and control program flow. We will be using these concepts to perform some fundamental data wrangling tasks such as joining data sets together, splitting data into groups, and aggregating data into summary statistics.\n",
    "**Please do not use `pandas` or `numpy` to answer these questions.**\n",
    "\n",
    "We will be working with medical data from the British NHS on prescription drugs. Since this is real data, it contains many ambiguities that we will need to confront in our analysis. This is commonplace in data science, and is one of the lessons you will learn in this miniproject."
   ]
  },
  {
   "cell_type": "markdown",
   "metadata": {},
   "source": [
    "## Downloading the data\n",
    "\n",
    "We first need to download the data we'll be using from Amazon S3:"
   ]
  },
  {
   "cell_type": "code",
   "execution_count": 4,
   "metadata": {},
   "outputs": [
    {
     "name": "stderr",
     "output_type": "stream",
     "text": [
      "mkdir: cannot create directory ‘pw-data’: File exists\n",
      "File ‘./pw-data/201701scripts_sample.json.gz’ already there; not retrieving.\n",
      "\n",
      "File ‘./pw-data/practices.json.gz’ already there; not retrieving.\n",
      "\n"
     ]
    }
   ],
   "source": [
    "%%bash\n",
    "mkdir pw-data\n",
    "wget http://dataincubator-wqu.s3.amazonaws.com/pwdata/201701scripts_sample.json.gz -nc -P ./pw-data\n",
    "wget http://dataincubator-wqu.s3.amazonaws.com/pwdata/practices.json.gz -nc -P ./pw-data"
   ]
  },
  {
   "cell_type": "markdown",
   "metadata": {},
   "source": [
    "## Loading the data\n",
    "\n",
    "The first step of the project is to read in the data. We will discuss reading and writing various kinds of files later in the course, but the code below should get you started."
   ]
  },
  {
   "cell_type": "code",
   "execution_count": 5,
   "metadata": {},
   "outputs": [],
   "source": [
    "import gzip\n",
    "import simplejson as json"
   ]
  },
  {
   "cell_type": "code",
   "execution_count": 6,
   "metadata": {},
   "outputs": [],
   "source": [
    "with gzip.open('./pw-data/201701scripts_sample.json.gz', 'rb') as f:\n",
    "    scripts = json.load(f)\n",
    "\n",
    "with gzip.open('./pw-data/practices.json.gz', 'rb') as f:\n",
    "    practices = json.load(f)"
   ]
  },
  {
   "cell_type": "markdown",
   "metadata": {},
   "source": [
    "This data set comes from Britain's National Health Service. The `scripts` variable is a list of prescriptions issued by NHS doctors. Each prescription is represented by a dictionary with various data fields: `'practice'`, `'bnf_code'`, `'bnf_name'`, `'quantity'`, `'items'`, `'nic'`, and `'act_cost'`. "
   ]
  },
  {
   "cell_type": "code",
   "execution_count": 7,
   "metadata": {},
   "outputs": [
    {
     "data": {
      "text/plain": [
       "[{'bnf_code': '0101010G0AAABAB',\n",
       "  'items': 2,\n",
       "  'practice': 'N81013',\n",
       "  'bnf_name': 'Co-Magaldrox_Susp 195mg/220mg/5ml S/F',\n",
       "  'nic': 5.98,\n",
       "  'act_cost': 5.56,\n",
       "  'quantity': 1000},\n",
       " {'bnf_code': '0101021B0AAAHAH',\n",
       "  'items': 1,\n",
       "  'practice': 'N81013',\n",
       "  'bnf_name': 'Alginate_Raft-Forming Oral Susp S/F',\n",
       "  'nic': 1.95,\n",
       "  'act_cost': 1.82,\n",
       "  'quantity': 500}]"
      ]
     },
     "execution_count": 7,
     "metadata": {},
     "output_type": "execute_result"
    }
   ],
   "source": [
    "scripts[:2]"
   ]
  },
  {
   "cell_type": "markdown",
   "metadata": {},
   "source": [
    "A [glossary of terms](http://webarchive.nationalarchives.gov.uk/20180328130852tf_/http://content.digital.nhs.uk/media/10686/Download-glossary-of-terms-for-GP-prescribing---presentation-level/pdf/PLP_Presentation_Level_Glossary_April_2015.pdf/) and [FAQ](http://webarchive.nationalarchives.gov.uk/20180328130852tf_/http://content.digital.nhs.uk/media/10048/FAQs-Practice-Level-Prescribingpdf/pdf/PLP_FAQs_April_2015.pdf/) is available from the NHS regarding the data. Below we supply a data dictionary briefly describing what these fields mean.\n",
    "\n",
    "| Data field |Description|\n",
    "|:----------:|-----------|\n",
    "|`'practice'`|Code designating the medical practice issuing the prescription|\n",
    "|`'bnf_code'`|British National Formulary drug code|\n",
    "|`'bnf_name'`|British National Formulary drug name|\n",
    "|`'quantity'`|Number of capsules/quantity of liquid/grams of powder prescribed|\n",
    "| `'items'`  |Number of refills (e.g. if `'quantity'` is 30 capsules, 3 `'items'` means 3 bottles of 30 capsules)|\n",
    "|  `'nic'`   |Net ingredient cost|\n",
    "|`'act_cost'`|Total cost including containers, fees, and discounts|"
   ]
  },
  {
   "cell_type": "markdown",
   "metadata": {},
   "source": [
    "The `practices` variable is a list of member medical practices of the NHS. Each practice is represented by a dictionary containing identifying information for the medical practice. Most of the data fields are self-explanatory. Notice the values in the `'code'` field of `practices` match the values in the `'practice'` field of `scripts`."
   ]
  },
  {
   "cell_type": "code",
   "execution_count": 8,
   "metadata": {},
   "outputs": [
    {
     "data": {
      "text/plain": [
       "[{'code': 'A81001',\n",
       "  'name': 'THE DENSHAM SURGERY',\n",
       "  'addr_1': 'THE HEALTH CENTRE',\n",
       "  'addr_2': 'LAWSON STREET',\n",
       "  'borough': 'STOCKTON ON TEES',\n",
       "  'village': 'CLEVELAND',\n",
       "  'post_code': 'TS18 1HU'},\n",
       " {'code': 'A81002',\n",
       "  'name': 'QUEENS PARK MEDICAL CENTRE',\n",
       "  'addr_1': 'QUEENS PARK MEDICAL CTR',\n",
       "  'addr_2': 'FARRER STREET',\n",
       "  'borough': 'STOCKTON ON TEES',\n",
       "  'village': 'CLEVELAND',\n",
       "  'post_code': 'TS18 2AW'}]"
      ]
     },
     "execution_count": 8,
     "metadata": {},
     "output_type": "execute_result"
    }
   ],
   "source": [
    "practices[:2]"
   ]
  },
  {
   "cell_type": "markdown",
   "metadata": {},
   "source": [
    "In the following questions we will ask you to explore this data set. You may need to combine pieces of the data set together in order to answer some questions. Not every element of the data set will be used in answering the questions."
   ]
  },
  {
   "cell_type": "markdown",
   "metadata": {},
   "source": [
    "## Question 1: summary_statistics\n",
    "\n",
    "Our beneficiary data (`scripts`) contains quantitative data on the number of items dispensed (`'items'`), the total quantity of item dispensed (`'quantity'`), the net cost of the ingredients (`'nic'`), and the actual cost to the patient (`'act_cost'`). Whenever working with a new data set, it can be useful to calculate summary statistics to develop a feeling for the volume and character of the data. This makes it easier to spot trends and significant features during further stages of analysis.\n",
    "\n",
    "Calculate the sum, mean, standard deviation, and quartile statistics for each of these quantities. Format your results for each quantity as a list: `[sum, mean, standard deviation, 1st quartile, median, 3rd quartile]`. We'll create a `tuple` with these lists for each quantity as a final result."
   ]
  },
  {
   "cell_type": "code",
   "execution_count": 9,
   "metadata": {},
   "outputs": [
    {
     "name": "stdout",
     "output_type": "stream",
     "text": [
      "11.522744731217633\n",
      "33.11220959820685\n",
      "half1: [1, 3, 3, 4, 5]\n",
      "half2: [6, 6, 7, 8, 8]\n",
      "med: 5.5\n",
      "q25: 3.0\n",
      "q75: 7.0\n",
      "np_med: 5.5\n",
      "np_q25: 3.25\n",
      "np_q75: 6.75\n"
     ]
    }
   ],
   "source": [
    "\n",
    "import math\n",
    "import numpy as np\n",
    "import statistics\n",
    "N = len(scripts)\n",
    "mean = sum([scripts[x]['items'] for x in range(N)]) / N\n",
    "print(mean)\n",
    "print(math.sqrt(sum([(scripts[x]['items'] - mean)**2 for x in range(N)])/(N-1)))\n",
    "#sortedlist_ = sorted([scripts[x]['items'] for x in range(len(scripts)-1)])\n",
    "sortedlist_ = [1, 3, 3, 4, 5, 6, 6, 7, 8, 8]\n",
    "N = len(sortedlist_)\n",
    "med = (sortedlist_[math.ceil((N+1)/2)-1] + sortedlist_[math.floor((N+1)/2)-1]) / 2\n",
    "half1 = [sortedlist_[x] for x in range(N) if sortedlist_[x] <= med]\n",
    "print(\"half1:\",half1)\n",
    "half2 = [sortedlist_[x] for x in range(N) if sortedlist_[x] >= med]\n",
    "print(\"half2:\",half2)\n",
    "n1 = len(half1)\n",
    "n2 = len(half2)\n",
    "print(\"med:\",med)\n",
    "print(\"q25:\",((half1[math.ceil((n1+1)/2)-1] + half1[math.floor((n1+1)/2)-1]) / 2))#+((med - math.floor(med)))\n",
    "print(\"q75:\",((half2[math.ceil((n2+1)/2)-1] + half2[math.floor((n2+1)/2)-1]) / 2))#-((med - math.floor(med)))\n",
    "np_list = np.array(sortedlist_)\n",
    "print(\"np_med:\",np.percentile(np_list,50))\n",
    "print(\"np_q25:\",np.percentile(np_list,25))\n",
    "print(\"np_q75:\",np.percentile(np_list,75))"
   ]
  },
  {
   "cell_type": "code",
   "execution_count": 10,
   "metadata": {},
   "outputs": [],
   "source": [
    "\n",
    "import math\n",
    "def describe(key):\n",
    "    N = len(scripts)\n",
    "    list_ = [scripts[x][key] for x in range(N)]\n",
    "    total = sum(list_)\n",
    "    avg = total / N\n",
    "    s = math.sqrt(sum([(scripts[x][key] - avg)**2 for x in range(N)])/(N-1))\n",
    "    sortedlist_ = sorted(list_)\n",
    "    med = (sortedlist_[math.ceil((N+1)/2)-1] + sortedlist_[math.floor((N+1)/2)-1]) / 2\n",
    "    q25 = np.percentile(sortedlist_,25)\n",
    "    q75 = np.percentile(sortedlist_,75)\n",
    "    half1 = [sortedlist_[x] for x in range(N) if sortedlist_[x] <= med]\n",
    "    half2 = [sortedlist_[x] for x in range(N) if sortedlist_[x] >= med]\n",
    "    n1 = len(half1)\n",
    "    n2 = len(half2)\n",
    "    half2 = [sortedlist_[x] for x in range(N) if sortedlist_[x] > med]\n",
    "    #q25 = ((half1[math.ceil((n1+1)/2)-1] + half1[math.floor((n1+1)/2)-1]) / 2)\n",
    "    #q75 = ((half2[math.ceil((n2+1)/2)-1] + half2[math.floor((n2+1)/2)-1]) / 2)\n",
    "\n",
    "    return (total, avg, s, q25, med, q75)"
   ]
  },
  {
   "cell_type": "code",
   "execution_count": null,
   "metadata": {},
   "outputs": [],
   "source": []
  },
  {
   "cell_type": "code",
   "execution_count": 13,
   "metadata": {},
   "outputs": [
    {
     "data": {
      "text/plain": [
       "[('items', (4410054, 11.522744731217633, 33.11220959820685, 1.0, 3.0, 8.0)),\n",
       " ('quantity',\n",
       "  (316356836, 826.5883059943667, 3872.186073305146, 30.0, 120.0, 466.0)),\n",
       " ('nic',\n",
       "  (29048309.790000338,\n",
       "   75.89844899484315,\n",
       "   197.57308474088356,\n",
       "   7.7,\n",
       "   22.62,\n",
       "   65.94)),\n",
       " ('act_cost',\n",
       "  (27053937.599999707,\n",
       "   70.68748295124895,\n",
       "   183.26755837716715,\n",
       "   7.25,\n",
       "   21.24,\n",
       "   61.53))]"
      ]
     },
     "execution_count": 13,
     "metadata": {},
     "output_type": "execute_result"
    }
   ],
   "source": [
    "\n",
    "summary = [('items', describe('items')),\n",
    "           ('quantity', describe('quantity')),\n",
    "           ('nic', describe('nic')),\n",
    "           ('act_cost', describe('act_cost'))]\n",
    "summary"
   ]
  },
  {
   "cell_type": "code",
   "execution_count": 14,
   "metadata": {},
   "outputs": [
    {
     "name": "stdout",
     "output_type": "stream",
     "text": [
      "==================\n",
      "Your score: 1.000\n",
      "==================\n"
     ]
    }
   ],
   "source": [
    "grader.score.pw__summary_statistics(summary)"
   ]
  },
  {
   "cell_type": "markdown",
   "metadata": {},
   "source": [
    "## Question 2: most_common_item\n",
    "\n",
    "Often we are not interested only in how the data is distributed in our entire data set, but within particular groups -- for example, how many items of each drug (i.e. `'bnf_name'`) were prescribed? Calculate the total items prescribed for each `'bnf_name'`. What is the most commonly prescribed `'bnf_name'` in our data?\n",
    "\n",
    "To calculate this, we first need to split our data set into groups corresponding with the different values of `'bnf_name'`. Then we can sum the number of items dispensed within in each group. Finally we can find the largest sum.\n",
    "\n",
    "We'll use `'bnf_name'` to construct our groups. You should have *5619* unique values for `'bnf_name'`."
   ]
  },
  {
   "cell_type": "code",
   "execution_count": 15,
   "metadata": {},
   "outputs": [],
   "source": [
    "\n",
    "check = []\n",
    "bnf_names = []\n",
    "for x in range(len(scripts)):\n",
    "    if scripts[x]['bnf_name'] not in check:\n",
    "        check.append(scripts[x]['bnf_name'])\n",
    "        bnf_names.append(scripts[x]['bnf_name'])"
   ]
  },
  {
   "cell_type": "code",
   "execution_count": 16,
   "metadata": {},
   "outputs": [],
   "source": [
    "bnf_names\n",
    "assert(len(bnf_names) == 5619)"
   ]
  },
  {
   "cell_type": "markdown",
   "metadata": {},
   "source": [
    "We want to construct \"groups\" identified by `'bnf_name'`, where each group is a collection of prescriptions (i.e. dictionaries from `scripts`). We'll construct a dictionary called `groups`, using `bnf_names` as the keys. We'll represent a group with a `list`, since we can easily append new members to the group. To split our `scripts` into groups by `'bnf_name'`, we should iterate over `scripts`, appending prescription dictionaries to each group as we encounter them."
   ]
  },
  {
   "cell_type": "code",
   "execution_count": 17,
   "metadata": {},
   "outputs": [],
   "source": [
    "groups = {name: [] for name in bnf_names}\n",
    "for script in scripts:\n",
    "    for key in groups.keys():\n",
    "        if script['bnf_name'] == key:\n",
    "            groups[key].append(script)\n",
    "            break"
   ]
  },
  {
   "cell_type": "code",
   "execution_count": 18,
   "metadata": {},
   "outputs": [
    {
     "data": {
      "text/plain": [
       "[{'bnf_code': '23803108006',\n",
       "  'items': 3,\n",
       "  'practice': 'N81013',\n",
       "  'bnf_name': '3m Health Care_Cavilon Durable Barrier C',\n",
       "  'nic': 24.36,\n",
       "  'act_cost': 22.58,\n",
       "  'quantity': 3},\n",
       " {'bnf_code': '23803108011',\n",
       "  'items': 2,\n",
       "  'practice': 'N81013',\n",
       "  'bnf_name': '3m Health Care_Cavilon Durable Barrier C',\n",
       "  'nic': 7.96,\n",
       "  'act_cost': 7.37,\n",
       "  'quantity': 2},\n",
       " {'bnf_code': '23803108006',\n",
       "  'items': 7,\n",
       "  'practice': 'N81029',\n",
       "  'bnf_name': '3m Health Care_Cavilon Durable Barrier C',\n",
       "  'nic': 64.96,\n",
       "  'act_cost': 60.23,\n",
       "  'quantity': 8},\n",
       " {'bnf_code': '23803108006',\n",
       "  'items': 4,\n",
       "  'practice': 'N81062',\n",
       "  'bnf_name': '3m Health Care_Cavilon Durable Barrier C',\n",
       "  'nic': 32.48,\n",
       "  'act_cost': 30.12,\n",
       "  'quantity': 4},\n",
       " {'bnf_code': '23803108011',\n",
       "  'items': 1,\n",
       "  'practice': 'N81062',\n",
       "  'bnf_name': '3m Health Care_Cavilon Durable Barrier C',\n",
       "  'nic': 3.98,\n",
       "  'act_cost': 3.68,\n",
       "  'quantity': 1}]"
      ]
     },
     "execution_count": 18,
     "metadata": {},
     "output_type": "execute_result"
    }
   ],
   "source": [
    "groups['3m Health Care_Cavilon Durable Barrier C'][:5]"
   ]
  },
  {
   "cell_type": "markdown",
   "metadata": {},
   "source": [
    "Now that we've constructed our groups we should sum up `'items'` in each group and find the `'bnf_name'` with the largest sum. The result, `max_item`, should have the form `[(bnf_name, item total)]`, e.g. `[('Foobar', 2000)]`."
   ]
  },
  {
   "cell_type": "code",
   "execution_count": 19,
   "metadata": {},
   "outputs": [],
   "source": [
    "\n",
    "q = [(key, sum([groups[key][x]['items']\n",
    "     for x in range(len(groups[key]))])) for key in groups.keys()]\n",
    "q_ = [q[x][1] for x in range(len(q))]\n",
    "max_item = [q[q_.index(max(q_))]]"
   ]
  },
  {
   "cell_type": "markdown",
   "metadata": {},
   "source": [
    "**TIP:** If you are getting an error from the grader below, please make sure your answer conforms to the correct format of `[(bnf_name, item total)]`."
   ]
  },
  {
   "cell_type": "code",
   "execution_count": 20,
   "metadata": {},
   "outputs": [
    {
     "name": "stdout",
     "output_type": "stream",
     "text": [
      "==================\n",
      "Your score: 1.000\n",
      "==================\n"
     ]
    }
   ],
   "source": [
    "grader.score.pw__most_common_item(max_item)"
   ]
  },
  {
   "cell_type": "markdown",
   "metadata": {},
   "source": [
    "**Challenge:** Write a function that constructs groups as we did above. The function should accept a list of dictionaries (e.g. `scripts` or `practices`) and a tuple of fields to `groupby` (e.g. `('bnf_name',)` or `('bnf_name', 'post_code')`) and returns a dictionary of groups. The following questions will require you to aggregate data in groups, so this could be a useful function for the rest of the miniproject."
   ]
  },
  {
   "cell_type": "code",
   "execution_count": 21,
   "metadata": {},
   "outputs": [],
   "source": [
    "def group_by_field(data, fields):\n",
    "    byfields = {field: [] for field in fields}\n",
    "    groups = {field: {} for field in fields}\n",
    "    for key in byfields.keys():\n",
    "        check = []\n",
    "        for x in range(len(data)):\n",
    "            if data[x][key] not in check:\n",
    "                check.append(data[x][key])\n",
    "                byfields[key].append(data[x][key])\n",
    "    for field in byfields.keys():\n",
    "        byfieldsgroups = {name: [] for name in byfields[field]}\n",
    "        for item in data:\n",
    "            for name in byfieldsgroups.keys():\n",
    "                if item[field] == name:\n",
    "                    byfieldsgroups[name].append(item)\n",
    "                    break\n",
    "        \n",
    "        groups[field] = byfieldsgroups\n",
    "    \n",
    "    return groups"
   ]
  },
  {
   "cell_type": "code",
   "execution_count": 22,
   "metadata": {},
   "outputs": [],
   "source": [
    "def group_by_field_(data, fields):\n",
    "    for field in fields:\n",
    "        check = []\n",
    "        names = []\n",
    "        for x in range(len(data)):\n",
    "            if data[x][field] not in check:\n",
    "                check.append(data[x][field])\n",
    "                names.append(data[x][field])\n",
    "        groups = {name: [] for name in names}\n",
    "        for item in data:\n",
    "            for key in groups.keys():\n",
    "                if item[field] == key:\n",
    "                    groups[key].append(item)\n",
    "                    break\n",
    "        \n",
    "        #data = \n",
    "    return groups"
   ]
  },
  {
   "cell_type": "code",
   "execution_count": 23,
   "metadata": {},
   "outputs": [],
   "source": [
    "groups_ = group_by_field_(scripts, ('bnf_name',))"
   ]
  },
  {
   "cell_type": "code",
   "execution_count": 24,
   "metadata": {},
   "outputs": [
    {
     "data": {
      "text/plain": [
       "dict_keys(['Co-Magaldrox_Susp 195mg/220mg/5ml S/F', 'Alginate_Raft-Forming Oral Susp S/F', 'Sod Algin/Pot Bicarb_Susp S/F', 'Sod Alginate/Pot Bicarb_Tab Chble 500mg', 'Gaviscon Infant_Sach 2g (Dual Pack) S/F', 'Gaviscon Advance_Liq (Aniseed) (Reckitt)', 'Gaviscon Advance_Tab Chble Mint(Reckitt)', 'Gaviscon Advance_Liq (Peppermint) S/F', 'Peptac_Liq (Peppermint) S/F', 'Alverine Cit_Cap 60mg', 'Hyoscine Butylbrom_Inj 20mg/ml 1ml Amp', 'Hyoscine Butylbrom_Tab 10mg', 'Mebeverine HCl_Tab 135mg', 'Mebeverine HCl_Cap 200mg M/R', 'Peppermint Oil_Cap E/C 0.2ml', 'Peppermint Oil_Cap E/C 0.2ml M/R', 'Colpermin_Cap E/C 0.2ml M/R', 'Ispag/Mebeverine_Gran Eff 3.5g/135mg S/F', 'Fybogel Mebeverine_Eff Gran Sach S/F', 'Ranitidine HCl_Tab 150mg', 'Ranitidine HCl_Tab 300mg', 'Ranitidine HCl_Oral Soln 75mg/5ml S/F', 'Esomeprazole_Tab E/C 20mg', 'Esomeprazole_Tab E/C 40mg', 'Emozul_Cap E/C 20mg', 'Emozul_Cap E/C 40mg', 'Lansoprazole_Cap 30mg (E/C Gran)', 'Lansoprazole_Cap 15mg (E/C Gran)', 'Lansoprazole_Orodisper Tab 15mg', 'Lansoprazole_Orodisper Tab 30mg', 'Zoton_FasTab Tab 30mg', 'Omeprazole_Cap E/C 20mg', 'Omeprazole_Cap E/C 40mg', 'Omeprazole_Cap E/C 10mg', 'Omeprazole_Tab E/C 20mg', 'Omeprazole_Oral Susp 10mg/5ml', 'Losec_Cap E/C 20mg', 'Pantoprazole_Tab E/C 40mg', 'Pantoprazole_Tab E/C 20mg', 'Loperamide HCl_Cap 2mg', 'Loperamide HCl_Oral Soln 1mg/5ml S/F', 'Loperamide HCl_Tab 2mg', 'Mesalazine_Tab 500mg M/R', 'Mesalazine_Suppos 1g', 'Mesalazine_Gran Sach 2g M/R S/F', 'Pentasa SR_Tab 500mg', 'Pentasa_Suppos 1g', 'Pentasa_Gran Sach 1g M/R', 'Mezavant XL_Tab G/R 1.2g', 'Octasa_MR Tab E/C 800mg', 'Octasa_MR Tab E/C 400mg', 'Balsalazide Sod_Cap 750mg', 'Sulfasalazine_Tab 500mg', 'Salazopyrin-En_Tab 500mg', 'Prednisolone_20mg/Applic Foam Enema(14D)', 'Ispag Husk_Gran Eff Sach 3.5g G/F S/F', 'Fybogel_Gran Sach 3.5g Orange G/F S/F', 'Normacol Plus_Gran', 'Bisacodyl_Tab E/C 5mg', 'Docusate Sod_Cap 100mg', \"Glycerol_Suppos Infant's (1g)\", \"Glycerol_Suppos Adult's (4g)\", 'Senna_Tab 7.5mg', 'Sod Picosulf_Oral Soln 5mg/5ml S/F', 'Lactulose_Soln 3.1g-3.7g/5ml', 'Macrogol_Co Oral Pdr Sach S/F', 'Movicol_Pdr Sach 13.8g (Lem & Lim)', 'Movicol Plain_Pdr Sach 13.7g', 'Movicol Plain_Paed Pdr Sach 6.9g', 'Laxido_Oral Pdr Sach (Orange) S/F', 'Laxido_Paed Plain Oral Pdr Sach 6.9g', 'Molaxole_Pdr Sach', 'Phos Enem_(For B) 128ml Stnd Tube', 'Anusol HC_Oint', 'Scheriproct_Oint', 'Scheriproct_Suppos', 'Ursodeoxycholic Acid_Cap 250mg', 'Creon 25000_Cap E/C', 'Creon 10000_Cap E/C', 'Digoxin_Tab 62.5mcg', 'Digoxin_Tab 125mcg', 'Digoxin_Tab 250mcg', 'Bendroflumethiazide_Tab 2.5mg', 'Indapamide_Tab 2.5mg', 'Indapamide_Tab 1.5mg M/R', 'Bumetanide_Tab 1mg', 'Bumetanide_Tab 5mg', 'Furosemide_Tab 20mg', 'Furosemide_Tab 40mg', 'Amiloride HCl_Tab 5mg', 'Spironol_Tab 25mg', 'Spironol_Tab 50mg', 'Spironol_Tab 100mg', 'Eplerenone_Tab 25mg', 'Eplerenone_Tab 50mg', 'Co-Amilofruse_Tab 5mg/40mg', 'Co-Amilofruse_Tab 2.5mg/20mg', 'Amiodarone HCl_Tab 100mg', 'Amiodarone HCl_Tab 200mg', 'Flecainide Acet_Tab 100mg', 'Flecainide Acet_Tab 50mg', 'Atenolol_Tab 50mg', 'Atenolol_Tab 100mg', 'Atenolol_Tab 25mg', 'Tenormin L.S._Tab 50mg', 'Bisoprolol Fumar_Tab 5mg', 'Bisoprolol Fumar_Tab 10mg', 'Bisoprolol Fumar_Tab 2.5mg', 'Bisoprolol Fumar_Tab 3.75mg', 'Bisoprolol Fumar_Tab 7.5mg', 'Bisoprolol Fumar_Tab 1.25mg', 'Cardicor_Tab 1.25mg', 'Labetalol HCl_Tab 200mg', 'Metoprolol Tart_Tab 50mg', 'Propranolol HCl_Cap 80mg M/R', 'Propranolol HCl_Cap 160mg M/R', 'Propranolol HCl_Tab 10mg', 'Propranolol HCl_Tab 40mg', 'Propranolol HCl_Tab 80mg', 'Sotalol HCl_Tab 40mg', 'Co-Tenidone_Tab 50mg/12.5mg', 'Carvedilol_Tab 12.5mg', 'Carvedilol_Tab 25mg', 'Carvedilol_Tab 6.25mg', 'Methyldopa_Tab 250mg', 'Methyldopa_Tab 500mg', 'Moxonidine_Tab 200mcg', 'Doxazosin Mesil_Tab 1mg', 'Doxazosin Mesil_Tab 2mg', 'Doxazosin Mesil_Tab 4mg', 'Doxazosin Mesil_Tab 4mg M/R', 'Doxazosin Mesil_Tab 8mg M/R', 'Captopril_Tab 50mg', 'Enalapril Mal_Tab 2.5mg', 'Enalapril Mal_Tab 5mg', 'Enalapril Mal_Tab 10mg', 'Enalapril Mal_Tab 20mg', 'Lisinopril/Hydchloroth_Tab 20mg/12.5mg', 'Lisinopril_Tab 2.5mg', 'Lisinopril_Tab 5mg', 'Lisinopril_Tab 10mg', 'Lisinopril_Tab 20mg', 'Perindopril Erbumine_Tab 2mg', 'Perindopril Erbumine_Tab 4mg', 'Perindopril Erbumine_Tab 8mg', 'Ramipril_Cap 1.25mg', 'Ramipril_Cap 2.5mg', 'Ramipril_Cap 5mg', 'Ramipril_Cap 10mg', 'Ramipril_Tab 1.25mg', 'Ramipril_Tab 2.5mg', 'Ramipril_Tab 10mg', 'Trandolapril_Cap 2mg', 'Irbesartan/Hydchloroth_Tab 150mg/12.5mg', 'Candesartan Cilexetil_Tab 4mg', 'Candesartan Cilexetil_Tab 8mg', 'Candesartan Cilexetil_Tab 16mg', 'Candesartan Cilexetil_Tab 32mg', 'Irbesartan_Tab 75mg', 'Irbesartan_Tab 300mg', 'Losartan Pot_Tab 25mg', 'Losartan Pot_Tab 50mg', 'Losartan Pot_Tab 100mg', 'Losartan Pot/Hydchloroth_Tab 50mg/12.5mg', 'Telmisartan_Tab 80mg', 'Valsartan_Cap 40mg', 'Valsartan_Cap 80mg', 'Valsartan_Cap 160mg', 'Valsartan/Hydchloroth_Tab 80mg/12.5mg', 'Glyceryl Trinit_Sub P/Spy 400mcg (180D)', 'Glyceryl Trinit_Sub P/Spy 400mcg (200D)', 'Nitrolingual_P/Spy 400mcg (180 D)', 'Nitromin_P/Spy 400mcg (180 D)', 'Isosorbide Mononit_Tab 10mg', 'Isosorbide Mononit_Tab 20mg', 'Isosorbide Mononit_Cap 60mg M/R', 'Isosorbide Mononit_Tab 25mg M/R', 'Isotard 60 XL_Tab 60mg', 'Isotard 40 XL_Tab 40mg', 'Isotard 50 XL_Tab 50mg', 'Monomax XL_Tab 60mg', 'Monomil XL_Tab 60mg', 'Amlodipine_Tab 5mg', 'Amlodipine_Tab 10mg', 'Diltiazem HCl_Cap 120mg M/R', 'Diltiazem HCl_Cap 180mg M/R', 'Diltiazem HCl_Cap 200mg M/R', 'Tildiem_Tab 60mg', 'Tildiem Ret 90_Tab 90mg', 'Tildiem LA 200_Cap 200mg', 'Adizem-SR_Cap 120mg', 'Adizem-XL_Cap 120mg', 'Adizem-XL_Cap 180mg', 'Felodipine_Tab 5mg M/R', 'Felodipine_Tab 10mg M/R', 'Felodipine_Tab 2.5mg M/R', 'Lacidipine_Tab 4mg', 'Lercanidipine HCl_Tab 10mg', 'Lercanidipine HCl_Tab 20mg', 'Nifedipine_Cap 5mg', 'Nifedipine_Cap 10mg', 'Nifedipine_Tab 30mg M/R', 'Nifedipine_Tab 60mg M/R', 'Nifedipine_Tab 20mg M/R', 'Adalat Ret_Tab 10mg', 'Adalat LA 30_Tab 30mg', 'Adalat LA 60_Tab 60mg', 'Adalat LA 20_Tab 20mg', 'Verapamil HCl_Tab 40mg', 'Verapamil HCl_Tab 80mg', 'Verapamil HCl_Tab 120mg M/R', 'Nicorandil_Tab 10mg', 'Nicorandil_Tab 20mg', 'Ivabradine_Tab 5mg', 'Ivabradine_Tab 7.5mg', 'Tinzaparin Sod_Inj 20 000u/ml 0.6ml Pfs', 'Warfarin Sod_Tab 1mg', 'Warfarin Sod_Tab 3mg', 'Warfarin Sod_Tab 5mg', 'Warfarin Sod_Tab 500mcg', 'Dabigatran Etexilate_Cap 110mg', 'Rivaroxaban_Tab 20mg', 'Apixaban_Tab 2.5mg', 'Apixaban_Tab 5mg', 'Aspirin Disper_Tab 75mg', 'Aspirin_Tab 75mg', 'Aspirin_Tab E/C 75mg', 'Clopidogrel_Tab 75mg', 'Dipyridamole_Cap 200mg M/R', 'Ticagrelor_Tab 90mg', 'Tranexamic Acid_Tab 500mg', 'Rosuvastatin Calc_Tab 10mg', 'Rosuvastatin Calc_Tab 20mg', 'Rosuvastatin Calc_Tab 5mg', 'Omacor_Cap', 'Atorvastatin_Tab 10mg', 'Atorvastatin_Tab 20mg', 'Atorvastatin_Tab 40mg', 'Atorvastatin_Tab 80mg', 'Bezafibrate_Tab 400mg M/R', 'Questran Light_Sach 9g (4g Of Ingredient', 'Ezetimibe_Tab 10mg', 'Fenofibrate_Cap 200mg (Micronised)', 'Fenofibrate_Cap 67mg (Micronised)', 'Fenofibrate_Cap 267mg (Micronised)', 'Fenofibrate_Tab 160mg (Micronised)', 'Pravastatin Sod_Tab 10mg', 'Pravastatin Sod_Tab 20mg', 'Pravastatin Sod_Tab 40mg', 'Simvastatin_Tab 10mg', 'Simvastatin_Tab 20mg', 'Simvastatin_Tab 40mg', 'Simvastatin_Tab 80mg', 'Salbutamol_Inha 100mcg (200 D) CFF', 'Salbutamol_Pdr For Inh 200mcg (60 D)', 'Salbutamol_Inha B/A 100mcg (200 D) CFF', 'Ventolin_Accuhaler 200mcg (60 D)', 'Ventolin_Evohaler 100mcg (200 D)', 'Ventolin_Nebules Soln 2.5mg/2.5ml Ud', 'Salamol_Inha 100mcg (200 D) CFF (Teva)', 'Salamol E-Breathe_Inh 100mcg (200 D) CFF', 'Salmeterol_Pdr For Inh 50mcg (60 D)', 'Salmeterol_Inha 25mcg (120 D) CFF', 'Serevent_Evohaler 25mcg (120 D)', 'Terbut Sulf_B/A Inha 500mcg (100 D)', 'Bricanyl_Turbohaler 500mcg (100 D)', 'Ipratrop Brom_Inha 20mcg (200 D) CFF', 'Atrovent_Inha 20mcg (200 D) CFF', 'Tiotropium_Pdr For Inh Cap 18mcg + Dev', 'Tiotropium_Pdr For Inh Cap 18mcg', 'Spiriva_Pdr For Inh Cap 18mcg', 'Spiriva Respimat_Inha 2.5mcg (60D) + Dev', 'Aclidinium Brom_Pdr For Inh 375mcg (60D)', 'Incruse Ellipta_Inh 55mcg (30D)', 'Phyllocontin Continus_Tab 225mg', 'Phyllocontin Fte Continus_Tab 350mg', 'Uniphyllin Continus_Tab 300mg', 'Beclomet Diprop_Inha 100mcg (200 D) CFF', 'Beclomet Diprop/Formoterol_Inh100/6(120D', 'Clenil Modulite_Inha 50mcg (200D)', 'Clenil Modulite_Inha 100mcg (200D)', 'Clenil Modulite_Inha 200mcg (200D)', 'Clenil Modulite_Inha 250mcg (200D)', 'Fostair_Inh 100mcg/6mcg (120D) CFF', 'Fostair_Inh 200mcg/6mcg (120D) CFF', 'Fostair NEXThaler_Inh 100mcg/6mcg (120D)', 'Budesonide_Pdr For Inh 200mcg (100 D)', 'Budesonide_Pdr For Inh 400mcg (50 D)', 'Budesonide/Formoterol Inh B/A 100/6(120D', 'Budesonide/Formoterol Inh B/A 200/6(120D', 'Pulmicort_Turbohaler 400mcg (50 D)', 'Symbicort_Turbohaler 100mcg/6mcg (120 D)', 'Symbicort_Turbohaler 200mcg/6mcg (120 D)', 'Symbicort_Turbohaler 400mcg/12mcg (60 D)', 'DuoResp Spiromax_Inh 160mcg/4.5mcg(120D)', 'DuoResp Spiromax_Inh 320mcg/9mcg (60 D)', 'Fluticasone Prop_Pdr For Inh 250mcg(60D)', 'Fluticasone/Salmeterol_Inh 100/50mcg 60D', 'Fluticasone/Salmeterol_Inh 250/50mcg 60D', 'Fluticasone/Salmeterol_Inh 500/50mcg 60D', 'Fluticasone Prop_Inha 125mcg (120 D) CFF', 'Fluticasone Prop_Inha 250mcg (120 D) CFF', 'Fluticasone/Salmeterol_Inh 125/25mcg120D', 'Fluticasone/Salmeterol_Inh 250/25mcg120D', 'Fluticasone Prop_Inha 50mcg (120 D) CFF', 'Fluticasone/Formoterol_Inh 125/5mcg 120D', 'Fluticasone/Formoterol_Inh 250/10mcg120D', 'Seretide 250_Accuhaler 250mcg/50mcg(60D)', 'Seretide 500_Accuhaler 500mcg/50mcg(60D)', 'Seretide 125_Evohaler 125mcg/25mcg(120D)', 'Seretide 250_Evohaler 250mcg/25mcg(120D)', 'Flutiform_Inha 125/5mcg (120 D)', 'Flutiform_Inha 250/10mcg (120 D)', 'Sirdupla_Inh 125mcg/25mcg (120D)', 'Sirdupla_Inh 250mcg/25mcg (120D)', 'AirFluSal Forspiro_Inh 500/50mcg (60D)', 'Fluticasone/Vilanterol_Inha 92/22mcg 30D', 'Montelukast_Tab Chble 5mg S/F', 'Montelukast_Tab 10mg', 'Zafirlukast_Tab 20mg', 'Desloratadine_Tab 5mg', 'Levocetirizine_Tab 5mg', 'Acrivastine_Cap 8mg', 'Loratadine_Tab 10mg', 'Loratadine_Oral Soln 5mg/5ml', 'Fexofenadine HCl_Tab 120mg', 'Fexofenadine HCl_Tab 180mg', 'Chlorphenamine Mal_Oral Soln 2mg/5ml', 'Chlorphenamine Mal_Tab 4mg', 'Cetirizine HCl_Tab 10mg', 'Cetirizine HCl_Oral Soln 1mg/1ml S/F', 'Hydroxyzine HCl_Tab 10mg', 'Hydroxyzine HCl_Tab 25mg', 'Epipen_Auto-Inj 1/1000 1mg/ml 0.3ml', 'Carbocisteine_Cap 375mg', 'Carbocisteine_Oral Soln 250mg/5ml', 'Pholcodine_Linct 5mg/5ml', 'Simple_Linct S/F', 'Pseudoephed HCl_Tab 60mg', 'Melatonin_Tab 2mg M/R', 'Circadin_Tab 2mg M/R', 'Lormetazepam_Tab 1mg', 'Nitrazepam_Tab 5mg', 'Temazepam_Tab 10mg', 'Zolpidem Tart_Tab 5mg', 'Zolpidem Tart_Tab 10mg', 'Zopiclone_Tab 7.5mg', 'Zopiclone_Tab 3.75mg', 'Buspirone HCl_Tab 5mg', 'Buspirone HCl_Tab 10mg', 'Chlordiazepox HCl_Cap 5mg', 'Diazepam_Tab 2mg', 'Diazepam_Tab 5mg', 'Diazepam_Tab 10mg', 'Diazepam_Oral Soln 2mg/5ml S/F', 'Lorazepam_Tab 1mg', 'Quetiapine_Tab 25mg', 'Quetiapine_Tab 100mg', 'Quetiapine_Tab 200mg', 'Quetiapine_Tab 150mg', 'Quetiapine_Tab 300mg', 'Biquelle XL_Tab 150mg', 'Aripiprazole_Tab 10mg', 'Aripiprazole_Tab 15mg', 'Amisulpride_Tab 200mg', 'Chlorpromazine HCl_Tab 25mg', 'Chlorpromazine HCl_Tab 50mg', 'Haloperidol_Tab 1.5mg', 'Haloperidol_Tab 5mg', 'Haloperidol_Oral Soln 1mg/1ml S/F', 'Promazine HCl_Tab 25mg', 'Trifluoperazine_Tab 1mg', 'Risperidone_Tab 1mg', 'Risperidone_Tab 2mg', 'Risperidone_Tab 4mg', 'Risperidone_Tab 500mcg', 'Olanzapine_Tab 5mg', 'Olanzapine_Tab 7.5mg', 'Olanzapine_Tab 10mg', 'Olanzapine_Tab 2.5mg', 'Olanzapine_Tab 15mg', 'Olanzapine_Orodisper Tab 10mg S/F', 'Olanzapine_Orodisper Tab 15mg', 'Lithium Carb_Tab 400mg M/R', 'Lithium Carb_Tab 200mg M/R', 'Priadel_Tab 400mg', 'Priadel_Tab 200mg', 'Valproic Acid_Tab G/R 250mg', 'Valproic Acid_Tab G/R 500mg', 'Depakote_Tab G/R 250mg', 'Depakote_Tab G/R 500mg', 'Amitriptyline HCl_Tab 10mg', 'Amitriptyline HCl_Tab 25mg', 'Amitriptyline HCl_Tab 50mg', 'Clomipramine HCl_Cap 10mg', 'Clomipramine HCl_Cap 25mg', 'Clomipramine HCl_Cap 50mg', 'Dosulepin HCl_Cap 25mg', 'Dosulepin HCl_Tab 75mg', 'Imipramine HCl_Tab 10mg', 'Lofepramine HCl_Tab 70mg', 'Nortriptyline_Tab 10mg', 'Nortriptyline_Tab 25mg', 'Trazodone HCl_Cap 50mg', 'Trazodone HCl_Cap 100mg', 'Trazodone HCl_Oral Liq 50mg/5ml S/F', 'Citalopram Hydrob_Tab 20mg', 'Citalopram Hydrob_Tab 10mg', 'Citalopram Hydrob_Tab 40mg', 'Fluoxetine HCl_Cap 20mg', 'Fluoxetine HCl_Cap 40mg', 'Fluvoxamine Mal_Tab 50mg', 'Paroxetine HCl_Tab 20mg', 'Paroxetine HCl_Tab 30mg', 'Paroxetine HCl_Tab 10mg', 'Sertraline HCl_Tab 50mg', 'Sertraline HCl_Tab 100mg', 'Lustral_Tab 100mg', 'Escitalopram_Tab 10mg', 'Escitalopram_Tab 20mg', 'Citalopram HCl_Oral Dps 40mg/ml S/F', 'Reboxetine_Tab 4mg', 'Venlafaxine_Tab 37.5mg', 'Venlafaxine_Tab 75mg', 'Venlafaxine_Tab 225mg M/R', 'Venlafaxine_Tab 37.5mg M/R', 'Efexor XL_Cap 150mg', 'Vensir XL_Cap 75mg', 'Vensir XL_Cap 150mg', 'Vensir XL_Cap 225mg', 'Venaxx XL_Cap 150mg', 'Mirtazapine_Tab 30mg', 'Mirtazapine_Orodisper Tab 15mg', 'Mirtazapine_Orodisper Tab 45mg', 'Mirtazapine_Tab 15mg', 'Mirtazapine_Tab 45mg', 'Duloxetine HCl_Cap G/R 30mg', 'Duloxetine HCl_Cap G/R 60mg', 'Methylphenidate HCl_Tab 20mg', 'Methylphenidate HCl_Tab 18mg M/R', 'Methylphenidate HCl_Tab 36mg M/R', 'Equasym XL_Cap 10mg', 'Equasym XL_Cap 20mg', 'Equasym XL_Cap 30mg', 'Concerta_XL Tab 54mg', 'Modafinil_Tab 200mg', 'Atomoxetine HCl_Cap 10mg', 'Atomoxetine HCl_Cap 60mg', 'Lisdexamfetamine_Cap 50mg', 'Lisdexamfetamine_Cap 70mg', 'Elvanse_Cap 70mg', 'Elvanse_Cap 40mg', 'Orlistat_Cap 120mg', 'Hyoscine_Skin Patch 1mg/72hrs', 'Betahistine HCl_Tab 8mg', 'Betahistine HCl_Tab 16mg', 'Cinnarizine_Tab 15mg', 'Cyclizine HCl_Tab 50mg', 'Domperidone_Susp 5mg/5ml S/F', 'Domperidone_Tab 10mg', 'Hyoscine Hydrob_Tab 150mcg', 'Hyoscine Hydrob_Tab 300mcg', 'Metoclopramide HCl_Tab 10mg', 'Ondansetron HCl_Tab 4mg', 'Prochlpzine Mal_Tab 5mg', 'Prochlpzine Mal_Tab Buccal 3mg', 'Aspirin Disper_Tab 300mg', 'Co-Codamol_Tab 8mg/500mg', 'Co-Codamol Eff_Tab 8mg/500mg', 'Co-Codamol_Tab 30mg/500mg', 'Co-Codamol_Tab 15mg/500mg', 'Solpadol_Tab Eff 30mg/500mg', 'Zapain_Tab 30mg/500mg', 'Zapain_Cap 30mg/500mg', 'Paracet_Cap 500mg', 'Paracet_Tab 500mg', 'Paracet_Tab Solb 500mg', 'Paracet_Oral Susp 250mg/5ml S/F', 'Co-Dydramol_Tab 10mg/500mg', 'Paracet/Dihydrocodeine_Tab 500mg/20mg', 'Oxycodone HCl_Oral Soln 5mg/5ml S/F', 'Longtec_Tab 5mg M/R', 'Longtec_Tab 10mg M/R', 'Longtec_Tab 20mg M/R', 'Longtec_Tab 40mg M/R', 'Longtec_Tab 30mg M/R', 'Shortec_Cap 5mg', 'Shortec_Cap 20mg', 'Fentanyl_Transdermal Patch 12mcg/hr', 'Durogesic DTrans_T/Derm Patch 25mcg', 'Durogesic DTrans_T/Derm Patch 12mcg', 'Matrifen_Patch 12mcg/hr', 'Matrifen_Patch 25mcg/hr', 'Matrifen_Patch 50mcg/hr', 'Matrifen_Patch 100mcg/hr', 'Fencino_Transdermal Patch 12mcg/hr', 'Fencino_Transdermal Patch 25mcg/hr', 'Fencino_Transdermal Patch 50mcg/hr', 'Buprenorphine_Tab Subling 200mcg S/F', 'Buprenorphine_Tab Subling 400mcg S/F', 'Buprenorphine_Patch 35mcg/hr (96hr)', 'Buprenorphine_Patch 70mcg/hr (96hr)', 'Transtec_T/Derm Patch 35mcg/hr (20mg)', 'Butec_Transdermal Patch 5mcg/hr', 'Butec_Transdermal Patch 10mcg/hr', 'Butec_Transdermal Patch 20mcg/hr', 'Codeine Phos_Oral Soln 25mg/5ml', 'Codeine Phos_Tab 15mg', 'Codeine Phos_Tab 30mg', 'Dihydrocodeine Tart_Tab 30mg', 'Dihydrocodeine Tart_Tab 60mg M/R', 'Dihydrocodeine Tart_Tab 120mg M/R', 'Morph Sulf_Tab 5mg M/R', 'Morph Sulf_Oral Soln 10mg/5ml', 'Oramorph_Oral Soln 10mg/5ml', 'Zomorph_Cap 10mg', 'Zomorph_Cap 30mg', 'Zomorph_Cap 60mg', 'Tramadol HCl_Cap 50mg', 'Tramadol HCl_Cap 100mg M/R', 'Tramadol HCl/Paracet_Tab 37.5mg/325mg', 'Marol_Tab 200mg M/R (Teva)', 'Marol_Tab 150mg M/R (Teva)', 'Marol_Tab 100mg M/R (Teva)', 'Maxitram SR_Cap 50mg', 'Migraleve_Pink Tab', 'Rizatriptan_Oral Lyophilisate Tab 10mg', 'Rizatriptan_Orodisper Tab 10mg S/F', 'Sumatriptan_Tab 100mg', 'Sumatriptan_Inj 6mg/0.5ml Pfs + Dev', 'Sumatriptan_Tab 50mg', 'Sumatriptan_Aq Nsl Spy 20mg/0.1ml Ud', 'Zolmitriptan_Tab 2.5mg', 'Zolmitriptan_Orodisper Tab 2.5mg S/F', 'Zomig_Rapimelt Orodisper Tab 2.5mg', 'Clonidine HCl_Tab 25mcg', 'Pizotifen Malate_Tab 500mcg', 'Zonisamide_Cap 100mg', 'Zonegran_Cap 50mg', 'Zonegran_Cap 100mg', 'Pregabalin_Cap 50mg', 'Lyrica_Cap 25mg', 'Lyrica_Cap 50mg', 'Lyrica_Cap 75mg', 'Lyrica_Cap 100mg', 'Lyrica_Cap 150mg', 'Lyrica_Cap 200mg', 'Lyrica_Cap 300mg', 'Levetiracetam_Tab 250mg', 'Levetiracetam_Tab 500mg', 'Levetiracetam_Tab 1g', 'Levetiracetam_Oral Soln 500mg/5ml S/F', 'Keppra_Tab 250mg', 'Keppra_Tab 500mg', 'Keppra_Tab 1g', 'Carbamazepine_Tab 100mg', 'Carbamazepine_Tab 200mg', 'Tegretol_Tab 200mg', 'Tegretol Prolonged Release_Tab 200mg M/R', 'Tegretol Prolonged Release_Tab 400mg M/R', 'Clonazepam_Tab 500mcg', 'Clonazepam_Tab 2mg', 'Gabapentin_Cap 100mg', 'Gabapentin_Cap 300mg', 'Gabapentin_Cap 400mg', 'Gabapentin_Tab 600mg', 'Lamotrigine_Tab 100mg', 'Lamotrigine_Tab 50mg', 'Lamotrigine_Tab 25mg', 'Lamotrigine_Tab Disper 5mg S/F', 'Lamotrigine_Tab Disper 25mg S/F', 'Lamotrigine_Tab Disper 100mg S/F', 'Lamotrigine_Tab 200mg', 'Lamictal_Tab 50mg', 'Lamictal_Tab 100mg', 'Lamictal_Tab 25mg', 'Phenobarb_Tab 60mg', 'Phenytoin_Sod Cap 100mg', 'Phenytoin_Sod Cap 50mg', 'Phenytoin_Sod Cap 300mg', 'Sod Valpr_Tab E/C 200mg', 'Sod Valpr_Tab E/C 500mg', 'Sod Valpr_Tab 200mg M/R', 'Sod Valpr_Tab 300mg M/R', 'Sod Valpr_Tab 500mg M/R', 'Epilim_Crble Tab 100mg', 'Epilim 200_Tab E/C 200mg', 'Epilim 500_Tab E/C 500mg', 'Epilim Chrono 200_Tab 200mg C/R', 'Epilim Chrono 300_Tab 300mg C/R', 'Epilim Chrono 500_Tab 500mg C/R', 'Episenta_Cap 300mg M/R', 'Topiramate_Tab 50mg', 'Topiramate_Tab 100mg', 'Topiramate_Tab 200mg', 'Topiramate_Tab 25mg', 'Clobazam_Tab 10mg', 'Ropinirole HCl_Tab 1mg', 'Ropinirole HCl_Tab 2mg', 'Ipinnia XL_Tab 8mg', 'Co-Beneldopa_Cap 12.5mg/50mg', 'Co-Beneldopa_Tab Disper 12.5mg/50mg S/F', 'Sinemet_Tab 25mg/250mg', 'Sinemet-Plus_Tab 125mg', 'Half Sinemet CR_Tab 125mg', 'Sinemet_Tab 12.5mg/50mg', 'Entacapone_Tab 200mg', 'Pramipexole_Tab 180mcg', 'Rasagiline Mesil_Tab 1mg', 'Rotigotine_Transdermal Patch 2mg/24hrs', 'Trihexyphenidyl HCl_Tab 2mg', 'Orphenadrine HCl_Oral Soln 50mg/5ml S/F', 'Procyclidine HCl_Tab 5mg', 'Bupropion HCl_Tab 150mg M/R', 'Varenicline Tart_Tab 1mg', 'Varenicline Tart_2Wk Init(Tab 0.5mg/1mg)', 'Buprenorphine_Tab Subling 2mg S/F', 'Methadone HCl_Mix 1mg/1ml', 'Methadone HCl_Mix 1mg/1ml S/F', 'Donepezil HCl_Tab 10mg', 'Rivastigmine_Cap 3mg', 'Gatalin XL_Cap 24mg', 'Memantine HCl_Tab 10mg', 'Memantine HCl_Tab 20mg', 'Phenoxymethylpenicillin_Soln 125mg/5ml', 'Phenoxymethylpenicillin_Soln 250mg/5ml', 'Phenoxymethylpenicillin Pot_Tab 250mg', 'Fluclox Sod_Cap 250mg', 'Fluclox Sod_Cap 500mg', 'Fluclox Sod_Oral Soln 125mg/5ml', 'Amoxicillin_Cap 250mg', 'Amoxicillin_Cap 500mg', 'Amoxicillin_Oral Susp 125mg/5ml', 'Amoxicillin_Oral Susp 250mg/5ml', 'Amoxicillin_Oral Susp 125mg/5ml S/F', 'Amoxicillin_Oral Susp 250mg/5ml S/F', 'Co-Amoxiclav_Susp 125mg/31mg/5ml S/F', 'Co-Amoxiclav_Tab 500mg/125mg', 'Pivmecillinam HCl_Tab 200mg', 'Cefalexin_Cap 250mg', 'Cefalexin_Cap 500mg', 'Cefalexin_Oral Susp 250mg/5ml', 'Cefalexin_Tab 250mg', 'Doxycycline Hyclate_Cap 100mg', 'Lymecycline_Cap 408mg', 'Tetralysal 300_Cap', 'Oxytetracycline_Tab 250mg', 'Azithromycin_Oral Susp 200mg/5ml', 'Azithromycin_Tab 250mg', 'Clarithromycin_Tab 250mg', 'Clarithromycin_Oral Susp 125mg/5ml', 'Clarithromycin_Tab 500mg', 'Erythromycin_Tab E/C 250mg', 'Erythromycin_Ethylsuc Susp 250mg/5ml S/F', 'Clindamycin HCl_Cap 150mg', 'Co-Trimoxazole_Tab 80mg/400mg', 'Trimethoprim_Tab 100mg', 'Trimethoprim_Tab 200mg', 'Trimethoprim_Oral Susp 50mg/5ml S/F', 'Metronidazole_Tab 400mg', 'Ciprofloxacin_Tab 500mg', 'Nitrofurantoin_Cap 50mg', 'Nitrofurantoin_Tab 50mg', 'Nitrofurantoin_Tab 100mg', 'Nitrofurantoin_Cap 100mg M/R', 'Fluconazole_Cap 50mg', 'Fluconazole_Cap 150mg', 'Itraconazole_Cap 100mg', 'Nystan_Susp (Ready Mixed)', 'Terbinafine HCl_Tab 250mg', 'Valaciclovir_Tab 500mg', 'Aciclovir_Tab 400mg', 'Aciclovir_Tab 800mg', 'Aciclovir_Tab Disper 800mg', 'Aciclovir_Tab Disper 200mg', 'Quinine Sulf_Tab 200mg', 'Quinine Sulf_Tab 300mg', 'Ins Aspart_Inj 100u/ml 3ml Cart', 'Ins NovoRapid_Penfill 100u/ml 3ml Cart', 'Ins NovoRapid_FlexPen 100u/ml 3ml Pf Pen', 'Ins Humalog_100u/ml 3ml Cart', 'Ins Humulin M3_100u/ml 3ml Cart', 'Ins Humulin M3_KwikPen 100u/ml 3ml PfPen', 'Ins Humalog Mix 50_100u/ml 3ml Cart', 'Ins Innolet Insulat_100u/ml 3ml Pf Pen', 'Ins Humulin I_100u/ml 3ml Cart', 'Ins Lantus_100u/ml 3ml Cart', 'Ins Lantus SoloStar_100u/ml 3ml Pf Pen', 'Ins NovoMix 30_Penfill 100u/ml 3ml Cart', 'Ins NovoMix 30_FlexPen 100u/ml 3ml PfPen', 'Ins Levemir_Penfill 100u/ml 3ml Cart', 'Ins Levemir_FlexPen 100u/ml 3ml Pf Pen', 'Glimepiride_Tab 2mg', 'Glimepiride_Tab 1mg', 'Glimepiride_Tab 3mg', 'Glimepiride_Tab 4mg', 'Gliclazide_Tab 80mg', 'Gliclazide_Tab 40mg', 'Glipizide_Tab 5mg', 'Metformin HCl_Tab 500mg', 'Metformin HCl_Tab 850mg', 'Metformin HCl_Oral Soln 500mg/5ml S/F', 'Metformin HCl_Tab 500mg M/R', 'Metformin HCl_Tab 750mg M/R', 'Metformin HCl_Tab 1g M/R', 'Liraglutide_Inj 6mg/ml 3ml PF Pen', 'Saxagliptin_Tab 5mg', 'Saxagliptin_Tab 2.5mg', 'Metformin HCl/Sitagliptin_Tab 1g/50mg', 'Linagliptin_Tab 5mg', 'Dapagliflozin_Tab 5mg', 'Dapagliflozin_Tab 10mg', 'Forxiga_Tab 10mg', 'Lixisenatide_Inj 20mcg/0.2ml 3ml Pf Pen', 'Pioglitazone HCl_Tab 15mg', 'Pioglitazone HCl_Tab 30mg', 'Repaglinide_Tab 1mg', 'Sitagliptin_Tab 100mg', 'Sitagliptin_Tab 50mg', 'Sitagliptin_Tab 25mg', 'Exenatide_Inj 10mcg/0.04ml 2.4mlPfs(60D)', 'Vildagliptin/Metformin HCl_Tab 50mg/1g', 'Glucose_Gel 40%', 'GlucoGel_Gel 40% (Original)', 'OneTouch Ultra (Reagent)_Strips', 'GlucoMen LX Sensor (Reagent)_Strips', 'Active (Reagent)_Strips', 'FreeStyle (Reagent)_Strips', 'FreeStyle Lite (Reagent)_Strips', 'Aviva (Reagent)_Strips', 'Mobile (Reagent)_Strips', 'GlucoRx Nexus (Reagent)_Strips', 'Omnitest 3 (Reagent)_Strips', 'Contour Next (Reagent)_Strips', 'TRUEyou (Reagent)_Strips', 'Performa (Reagent)_Strips', 'Ketostix (Reagent)_Strips', 'GlucoMen LX Ketone Reagent_Strips', 'Levothyrox Sod_Tab 25mcg', 'Levothyrox Sod_Tab 50mcg', 'Levothyrox Sod_Tab 100mcg', 'Carbimazole_Tab 5mg', 'Carbimazole_Tab 20mg', 'Propylthiouracil_Tab 50mg', 'Fludrocort Acet_Tab 100mcg', 'Hydrocort_Tab 10mg', 'Prednisolone_Tab 1mg', 'Prednisolone_Tab 2.5mg', 'Prednisolone_Tab 5mg', 'Prednisolone_Tab E/C 2.5mg', 'Prednisolone_Tab E/C 5mg', 'Prednisolone_Tab 25mg', 'Prednisolone_Tab Solb 5mg', 'Estradiol_Tab 2mg', 'Estraderm MX 100_Patch', 'Evorel 75_Patch', 'Estradiol_Val Tab 1mg', 'Estradiol_Val Tab 2mg', 'Estradiol/Norethist Acet_Tab 2mg/1mg', 'Estradiol/Norethist Acet_Tab 1mg/0.5mg', 'Evorel Conti_Patch', 'Evorel Sequi_Patch', 'Elleste Duet_Tab 2mg', 'Elleste Duet_Tab 1mg', 'Elleste Duet Conti_Tab', 'Kliovance_Tab', 'Prempak-C_C/Pk Tab 625mcg/150mcg', 'Premique_Tab 0.625mg/5mg', 'Premique_Low D Tab 0.3mg/1.5mg', 'Tibolone_Tab 2.5mg', 'Norethist_Tab 5mg', 'Utovlan_Tab 5mg', 'Finasteride_Tab 5mg', 'Testosterone_Gel 2% (10mg per actuation)', 'Testosterone Undecan_Inj 250mg/ml 4ml Vl', 'Genotropin GoQuick_Inj 5.3mg Pfs Cart', 'Desmopressin Acet_I/Nsl Spy 10mcg (60 D)', 'Alendronic Acid_Tab 70mg', 'Risedronate Sod_Tab 5mg', 'Risedronate Sod_Tab 35mg', 'Ibandronic Acid_Tab 150mg', 'Strontium Ranelate_Susp Gran Sach 2g S/F', 'Denosumab_Inj 60mg/1ml Pfs', 'Cabergoline_Tab 0.5mg', 'Estriol_Crm 0.1% + Applic', 'Estriol_Crm 0.01% + Applic', 'Estradiol_Pess 10mcg', 'Vagifem_Vag Tab 10mcg', 'Clotrimazole_Crm 2%', 'Clotrimazole_Pess 500mg/Crm 2%', 'Ethinylest/Desogestrel_Tab 20mcg/150mcg', 'Gedarel_Tab 20/150mcg', 'Ethinylest/Desogestrel_Tab 30mcg/150mcg', 'Ethinylest/Levonorgest_Tab 30/150mcg', 'Ethinylestr/Drospirenone_Tab 30mcg/3mg', 'Microgynon 30_Tab', 'Loestrin 30_Tab', 'Rigevidon_Tab', 'Gedarel_Tab 30/150mcg', 'Millinette_Tab 30/75mcg', 'Lucette_Tab 0.03mg/3mg', 'Ethinylest/Norgestimate_Tab 35mcg/250mcg', 'Cilest_Tab', 'Cilique_Tab', 'TriRegol_Tab', 'Norethist_Tab 350mcg', 'Noriday_Tab 350mcg', 'Desogestrel_Tab 75mcg', 'Cerazette_Tab 75mcg', 'Cerelle_Tab 75mcg', 'Depo-Provera_Inj 150mg/ml 1ml Pfs', 'Alfuzosin HCl_Tab 10mg M/R', 'Tamsulosin HCl_Cap 400mcg M/R', 'Duloxetine HCl_Cap G/R 20mg', 'Solifenacin_Tab 5mg', 'Solifenacin_Tab 10mg', 'Darifenacin Hydrob_Tab 15mg M/R', 'Fesoterodine Fumar_Tab 4mg M/R', 'Fesoterodine Fumar_Tab 8mg M/R', 'Mirabegron_Tab 50mg M/R', 'Oxybutynin HCl_Tab 2.5mg', 'Oxybutynin HCl_Tab 5mg', 'Oxybutynin HCl_Tab 5mg M/R', 'Oxybutynin HCl_Tab 10mg M/R', 'Tolterodine_Tab 1mg', 'Tolterodine_Tab 2mg', 'Neditol XL_Cap 4mg', 'Trospium Chlor_Tab 20mg', 'Trospium Chlor_Cap 60mg M/R', 'Regurin XL_Cap 60mg', 'Tadalafil_Tab 10mg', 'Tadalafil_Tab 20mg', 'Tadalafil_Tab 5mg', 'Cialis_Tab 20mg', 'Sildenafil_Tab 50mg', 'Sildenafil_Tab 25mg', 'Sildenafil_Tab 100mg', 'Hydroxycarbamide_Cap 500mg', 'Azathioprine_Tab 25mg', 'Azathioprine_Tab 50mg', 'Neoral_Cap 50mg', 'Prograf_Cap 1mg', 'Prograf_Cap 500mcg', 'Diethylstilbestrol_Tab 1mg', 'Anastrozole_Tab 1mg', 'Letrozole_Tab 2.5mg', 'Tamoxifen Cit_Tab 20mg', 'Bicalutamide_Tab 50mg', 'Zoladex LA_Implant 10.8mg SafeSystem Pfs', 'Leuprorelin Acet_Inj 11.25mg Dil + Pfs', 'Prostap 3_DCS Inj 11.25mg Dil + Pfs', 'Ferr Fumar_Tab 210mg', 'Ferr Fumar_Cap 305mg', 'Ferr Fumar_Tab 322mg', 'Ferr Sulf_Tab 200mg', 'Ferrograd_Filmtab', 'Cyanocobalamin_Tab 50mcg', 'Folic Acid_Tab 5mg', 'Hydroxocobalamin_Inj 1mg/ml 1ml Amp', 'Dioralyte_Pdr Sach (Blkcurrant)', 'Sod Chlor_Tab 600mg M/R', 'Slow Sod_Tab 600mg', 'Sod Bicarb_Cap 500mg', 'Water For Inj_5ml Amp', 'Juvela_G/F W/F Pure Oats', 'Glutafin_G/F W/F Cracker', 'Glutafin_G/F W/F Mini Cracker', 'Juvela_G/F Fibre Loaf Brown (Cut)', 'Juvela_G/F Bread Roll Wte', 'Juvela_G/F Fresh Loaf Wte (Cut)', 'Juvela_G/F Fresh Fibre Loaf (Cut)', 'Glutafin Select_G/F Loaf Wte (Cut)', 'Glutafin_G/F Fibre Roll x 4 P/bake', 'Orgran_G/F Self Raising Flour', 'Glucose_Tab', 'Glucotabs_Tab (Tangy Orange)', 'Glutafin_G/F Fibre Fusilli', 'Calogen_Emuls (Sbery)', 'Nutramigen 2 LIPIL_Pdr', 'Nutramigen 1 LIPIL_Pdr', 'Neocate LCP_Pdr', 'Juvela_G/F Fibre Mix', 'Juvela_G/F Mix Wte', 'Glutafin_G/F Multipurpose Wte Mix', 'Glutafin_G/F W/F Spaghetti', 'Glutafin_G/F W/F Tagliatelle Nest', 'Juvela_G/F W/F Spaghetti', 'Pro-Cal_Pdr', 'Foodlink_Complete Pdr (4 Flav)', 'PaediaSure Plus Fibre_Liq (3 Flav)', 'Jevity 1.5kcal_Liq', 'Ensure Plus Juce_Liq Feed (6 Flav)', 'Complan_Shake Pdr Sach 57g (Sbery)', 'Ensure Plus_Milkshake Style Liq(10 Flav)', 'Ensure TwoCal_Liq (4 Flav)', 'Ensure Shake_Oral Pdr Sach 57g (Banana)', 'Ensure Compact_Liq (4 Flav)', 'Calc Carb_Tab Chble 1.25g (500mg) S/F', 'Calc Carb_Tab Chble 1.5g (600mg) S/F', 'Calcichew_Tab Chble 1.25g (500mg)', 'MagnaPhate_Tab Chble 97.2mg', 'Calc Acet_Tab 1g', 'Pyridox HCl_Tab 50mg', 'Thiamine HCl_Tab 50mg', 'Thiamine HCl_Tab 100mg', 'Vit B Co Strong_Tab', 'Alfacalcidol_Cap 250ng', 'Alfacalcidol_Cap 1mcg', 'Colecal_Cap 800u', 'Colecal & Calc_Tab Chble 200u/1.25g', 'Colecal & Calc_Tab Chble 400u/1.25g', 'Colecal/Calc_Eff Gran Sach 440u/1.25g 4g', 'Colecal & Calc_Tab Chble 400u/1.5g', 'Colecal_Tab 800u', 'Colecal_Cap 20 000u', 'Pro D3_Cap 400u', 'Pro D3_Cap 1 000u', 'Pro D3_Cap 20 000u', 'Accrete D3_Tab', 'Adcal-D3_Tab Chble (Tutti-Frutti)', 'Adcal-D3_Tab Chble (Lem)', 'Calceos_Tab Chble 500mg/400u', 'Calcichew D3_Tab Chble', 'Calcichew D3 Fte_Tab Chble', 'Fultium-D3_Cap 800u', 'Fultium-D3_Cap 20 000u', 'Hux D3_Cap 20 000u', 'Desunin_Tab 800u', 'Forceval_Cap', 'Abidec_Dps', 'Forceval_Tab Solb', 'Renavit_Tab', 'Similac High Energy_Liq', 'Preservision_Original Cap', 'Preservision_Lutein Cap', 'ICaps OAD_Tab', 'Celecoxib_Cap 200mg', 'Etoricoxib_Tab 90mg', 'Diclofenac Sod_Tab E/C 50mg', 'Diclofenac Sod_Tab 100mg M/R', 'Diclofenac Sod_Cap 75mg M/R', 'Ibuprofen_Tab 200mg', 'Ibuprofen_Tab 400mg', 'Ibuprofen_Oral Susp 100mg/5ml S/F', 'Indometacin_Cap 25mg', 'Mefenamic Acid_Tab 500mg', 'Naproxen_Tab 250mg', 'Naproxen_Tab 500mg', 'Naproxen_Tab E/C 250mg', 'Naproxen_Tab E/C 500mg', 'Nabumetone_Tab 500mg', 'Methylpred Acet_Inj 40mg/ml 1ml Vl', 'Triamcinol Aceton_Inj 40mg/ml 1ml Vl', 'Hydroxychlor Sulf_Tab 200mg', 'Methotrexate_Tab 2.5mg', 'Allopurinol_Tab 100mg', 'Allopurinol_Tab 300mg', 'Colchicine_Tab 500mcg', 'Baclofen_Oral Soln 5mg/5ml S/F', 'Baclofen_Tab 10mg', 'Tizanidine HCl_Tab 4mg', 'Tizanidine HCl_Tab 2mg', 'Capsaicin_Crm 0.075%', 'Ibuprofen_Gel 5%', 'Fenbid_Gel 5%', 'Fenbid Fte_Gel 10%', 'Piroxicam_Gel 0.5%', 'Diclofenac Sod_Gel 1.16%', 'Voltarol Emulgel_Aq Gel 1.16%', 'Salicylic Acid/Mucopolysac_Gel 2%/0.2%', 'Movelat_Gel', 'Ketoprofen_Gel 2.5%', 'Chloramphen_Eye Dps 0.5%', 'Chloramphen_Eye Oint 1%', 'Fusidic Acid_Viscous Eye Dps 1%', 'Betameth Sod Phos_Ear/Eye/Nsl Dps 0.1%', 'Dexameth_Eye Dps 0.1%', 'Maxitrol_Eye Dps', 'Pred Fte_Eye Dps 1%', 'Sod Cromoglicate_Eye Dps Aq 2%', 'Opticrom_Eye Dps 2% (Aq)', 'Olopatadine_Eye Dps 1mg/ml', 'Opatanol_Eye Dps 1mg/ml', 'Atrop Sulf_Eye Dps 1%', 'Brimonidine Tart_Eye Dps 0.2%', 'Dorzolamide/Timolol_Eye Dps 2%/0.5%', 'Dorzolamide/Timolol_EyeDps2/0.5% 0.2mlUd', 'Brinzolamide_Eye Dps 10mg/ml', 'Latanoprost/Timolol_Eye Dps 50mcg/5mg/ml', 'Travoprost_Eye Dps 40mcg/ml', 'Travatan_Eye Dps 40mcg/ml', 'Bimatoprost_Eye Dps 100mcg/ml', 'Bimatoprost_Eye Dps 300mcg/ml 0.4ml Ud', 'Brimonidine/Timolol_Eye Dps 2mg/5mg/ml', 'Travoprost/Timolol_Eye Dps 40mcg/5mg', 'Bimatoprost/Timolol_Eye Dps 300mcg/5mg', 'Ganfort_Eye Dps 300mcg/5mg', 'Brinzolamide/Timolol_Eye Dps 10mg/5mg/ml', 'Tafluprost_Eye Dps 15mcg/ml 0.3ml Ud P/F', 'Saflutan_Eye Dps 15mcg/ml 0.3ml Ud', 'Brinzolamide/Brimonidine_EyeDps10mg2mgml', 'Simbrinza_Eye Dps 10mg/ml / 2mg/ml', 'Latanoprost_Eye Dps 50mcg/ml', 'Monopost_Eye Dps 50mcg/ml 0.2mlUd P/F', 'Dorzolamide_Eye Dps 2%', 'Timolol_Eye Dps 0.25%', 'Timolol_Gel Eye Dps 0.25%', 'Timoptol-LA_Ophth Gel-Forming Soln 0.25%', 'Tiopex_Gel Eye Dps 1mg/g 0.4g Ud', 'Viscotears_Liq Gel 2mg/g', 'Carmellose Sod_Eye Dps 0.5% 0.4ml Ud P/F', 'Celluvisc_Eye Dps 1% 0.4ml Ud', 'Hypromellose_Eye Dps 0.3%', 'Hypromellose_Eye Dps 0.5%', 'Lacri-Lube_Ophth Oint', 'Acetic Acid_Ear Spy 2% 5ml', 'EarCalm_P/Spy 2% 5ml', 'Gentamicin/Hydrocort Acet_Ear Dps 0.3/1%', 'Otomize_Ear Spy 5ml', 'Ciprofloxacin/Dexameth_Ear Dps 0.3%/0.1%', 'Beclomet Diprop_Nsl Spy 50mcg (200 D)', 'Beconase_Aq Nsl Spy 50mcg (200 D) 22g', 'Fluticasone Prop_Susp Nsl Dps 400mcg Ud', 'Fluticasone Prop_Nsl Spy 50mcg (150 D)', 'Nasofan_Aq Nsl Spy 50mcg (150 D)', 'Mometasone Fur_Aq N/Spy 50mcg (140 D)', 'Nasonex_Aq N/Spy 50mcg (140 D)', 'Fluticasone Fur_Nsl Spy 27.5mcg (120D)', 'Avamys_Nsl Spy 27.5mcg (120D)', 'Fluticasone/Azelastine_Spy50/137mcg 120D', 'Saline Steripoule_Inh Soln 0.9% 2.5ml Ud', 'Mupirocin_Nsl Oint 2%', 'Chlorhex HCl/Neomycin Sulf_Crm 0.1/0.5%', 'Benzydamine HCl_Mthwsh 0.15% S/F', 'Benzydamine HCl_Spy 0.15% 30ml S/F', 'Difflam_Oral Rinse Soln 0.15%', 'Difflam_P/Spy 0.15% 30ml', 'Hydrocort_Mucoadh Buccal Tab 2.5mg S/F', 'Miconazole_Oromucosal Gel 20mg/g S/F', 'Chlorhex Glucon_Mthwsh 0.2%', 'Corsodyl_Mthwsh (Mint) 0.2%', 'Urea_Crm 10%', 'Urea/Lauromacrogols_Crm 5%/3%', 'Balneum Plus_Crm', 'E45_Itch Relief Crm', 'White Soft Paraf/Liq Paraf_(S) 50%/50%', 'Liq Paraf/Isopropyl Myrist_Gel 15%/15%', 'Diprobase_Oint', 'Diprobase_Crm', 'E45_Crm', 'Aveeno_Crm', 'Dermol 500_Lot', 'Doublebase_Gel', 'Oilatum_Crm (New Form) (Liq)', 'Dermol_Crm', 'Liq Paraf Light_Gel 70%', 'Liq Paraf Light_Bath Add 63.4%', 'Hydromol_Bath & Shower Emollient', 'Oilatum Plus_Bath Additive', 'Cetraben_Bath Oil', 'Oilatum_Shower Gel Fragrance Free', 'Oilatum Jnr_Bath Additive', 'Emulsiderm_Emollient', 'Aq_Crm', 'Aveeno_Bath Oil', 'Balneum Plus_Bath Oil', 'Dermol 600_Bath Emollient', 'Dermol 200_Shower Emollient', 'Dermol Wash_Cutaneous Emuls', 'Sudocrem_Antis Healing Crm', 'Metanium_Nappy Rash Oint', 'Dermacool_Crm 0.5%', 'Doxepin HCl_Crm 5%', 'Crotamiton_Crm 10%', 'Eurax_Crm 10%', 'Betameth/Salic Acid_Scalp Applic 0.05/2%', 'Betameth Diprop/Clotrimazole_Crm0.064/1%', 'Diprosalic_Oint 0.05%/3%', 'Diprosalic_Scalp Applic 0.05%/2%', 'Betameth Val_Crm 0.1%', 'Betameth Val_Crm 0.025% (1 in 4)', 'Betameth Val_Oint 0.1%', 'Betameth Val_Oint 0.025% (1 in 4)', 'Betameth Val_Scalp Applic 0.1%', 'Betameth Val/Fusidic Acid_Crm 0.1%/2%', 'Betnovate_Crm 0.1%', 'Betnovate_Oint 0.1%', 'Fucibet_Crm', 'Clobetasol Prop_Crm 0.05%', 'Clobetasol Prop_Oint 0.05%', 'Clobet But_Crm 0.05%', 'Clobet But_Oint 0.05%', 'Eumovate_Crm 0.05%', 'Eumovate_Oint 0.05%', 'Trimovate_Crm', 'Fluocinolone Aceton_Gel 0.025%', 'Synalar_Gel 0.025%', 'Fludroxycortide_Oint 0.0125%', 'Hydrocort_Crm 0.5%', 'Hydrocort_Crm 1%', 'Hydrocort/Crotamiton_Crm 0.25%/10%', 'Hydrocort_Oint 0.5%', 'Hydrocort_Oint 1%', 'Hydrocort/Miconazole Nit_Crm 1%/2%', 'Hydrocort/Clotrimazole_Crm 1%/1%', 'Eurax-Hc_Crm', 'Timodine_Crm', 'Daktacort_Crm 2%/1%', 'Daktacort_Oint', 'Hydrocort Acet/Fusidic Acid_Crm 1%/2%', 'Fucidin H_Crm', 'Mometasone Fur_Scalp Lot 0.1%', 'Acitretin_Cap 25mg', 'Calcipotriol_Oint 50mcg/1g', 'Calcipotriol_Scalp Soln 50mcg/ml', 'Calcipotriol/Betameth_Oint 0.005%/0.05%', 'Calcipotriol/Betameth_Gel 0.005%/0.05%', 'Dovonex_Oint 50mcg/1g', 'Dovobet_Oint 0.005%/0.05%', 'Enstilar_Foam Aero 50mcg/0.5mg/g', 'Cocois_Oint', 'Calcitriol_Oint 0.0003%', 'Pimecrolimus_Crm 1%', 'Azelaic Acid_Gel 15%', 'Benzoyl Per_Gel 5%', 'Dalacin T_Top Lot 1%', 'Adapalene_Gel 0.1%', 'Adapalene_Crm 0.1%', 'Erythromycin/Zn Acet_Lot 40mg/Ml/12mg/ml', 'Zineryt_Lot', 'Benzoyl Per/Clindamycin Phos_Gel 5%/1%', 'Adapalene/Benzoyl Per_Gel 0.1%/2.5%', 'Co-Cyprindiol_Tab 2mg/35mcg', 'Salic Acid_Oint 50%', 'Diclofenac Sod_Gel 3%', 'Sunsense_Ultra Lot Spf 50+', 'Neutrogena_T/Gel Therapeutic Shampoo 2%', 'Capasal_Therapeutic Shampoo', 'Ketoconazole_Shampoo 2%', 'Nizoral_Shampoo 2%', 'Fusidic Acid_Crm 2%', 'Metronidazole_Gel 0.75%', 'Metronidazole_Crm 0.75%', 'Rozex_Gel 0.75%', 'Amorolfine HCl_Nail Lacquer Kit 5% 5ml', 'Clotrimazole_Crm 1%', 'Miconazole Nit_Crm 2%', 'Permethrin_Crm 5%', 'Savlon_Antis Crm', 'Anhydrol Fte_A-Pers Soln 20%', 'Hirudoid_Crm 0.3%', 'ViATIM_Vac D/Chamber 160u/25mcg 1ml Pfs', 'Revaxis_Vac 0.5ml Pfs', 'Engerix B_Vac 20mcg/ml 1ml Pfs', 'Influenza_Vac Inact 0.5ml Pfs', 'Pneumococcal_Vac 0.5ml Vl (23 Valent)', 'Typhim VI_Vac 0.5ml Pfs', 'VAQTA_Vac Adult 50u/ml 1ml Pfs', 'Lido HCl_Inj 2% 2ml Amp', 'Lido_Medic Plastr 5%', 'Xylocaine + Adren_Inj 2% 20ml Vl', 'Instillagel_Gel 6ml Pfs', 'Emla_Crm 5%', 'Oilatum_Scalp Tt Shampoo', 'Resource_ThickenUp Pdr Clr', 'K-Lite 10cm x 4.5m M/Layer Compress Band', 'Atrauman 5cm x 5cm Ktd Polyester Dress', 'Atrauman 20cm x 30cm Ktd Polyester Dress', 'Melolin 5cm x 5cm Pfa Plas Faced Dress', 'Mepore 7cm x 8cm Pfa + Adh Border Dress', 'Mepore 10cm x 11cm Pfa + Adh Border Dres', 'Inadine 5cm x 5cm Povidone Iodine Fabric', 'Inadine 9.5cm x 9.5 cm Povidone Iodine F', 'Dressit Ster Dress Pack', 'Tegaderm Film 6cm x 7cm VP Adh Film Dres', 'C-View 6cm x 7cm VP Adh Film Dress', 'Zetuvit E 20cm x 40cm Pfa Cellulose Dres', 'Zetuvit E (Non-Ster) 10cm x 20cm Pfa Cel', 'Zetuvit E (Non-Ster) 20cm x 40cm Pfa Cel', 'Allevyn Adh 10cm x 10cm Wound Dress Poly', 'Allevyn 10cm x 10cm Wound Dress Polyuret', 'Mepitel 8cm x 10cm Wound Dress Soft Slc', 'Mepilex Border 7cm x 7.5cm Wound Dress S', 'Allevyn Gentle Border 7.5cm x 7.5cm Woun', 'Allevyn Gentle Border 10cm x 10cm Wound', 'Durafiber 10cm x 10cm Wound Dress Protea', 'Durafiber Ag 5cm x 5cm Wound Dress Prote', 'CliniFast 3.5cm x 1m (Red) Stkntte Elasc', 'CliniFast 7.5cm x 5m (Blue) Stkntte Elas', 'CliniFast 10.75cm x 5m (Yellow) Stkntte', 'Clinipore 2.5cm x 5m Surg Adh Tape Perm', 'Clinipore 2.5cm x 10m Surg Adh Tape Perm', 'Mefix 10cm x 5m Surg Adh Tape Perm Non-W', 'Hypafix 5cm x 5m Surg Adh Tape Perm Non-', 'Non-Woven Fabric Swab 10cm x 10cm Non-St', 'Non-Woven Fabric Swab 7.5cm x 7.5cm Ster', 'Volumatic', 'Volumatic Paed + Mask', 'Aerochamber Plus', 'Aerochamber Plus + Adult/Child/Infant Ma', 'Able Spacer', 'Able Spacer + Sml/Med Mask', 'Sharpsguard 1L', 'Sharpsafe 1L', 'U100 Syrg Sle Use 1ml + 8mm Needle-Ster', 'Softclix Lancets 0.4mm/28 Gauge', 'Omnican Lance Soft 0.3mm/30 Gauge', 'OneTouch UltraSoft Lancets 0.4mm/28 Gaug', 'BD Microfine+ Needles Pen Inj Screw On 5', 'BD Microfine+ Needles Pen Inj Screw On 8', 'BD Micro-Fine Ultra Needles Pen Inj Scre', 'Multiclix Lancets 0.3mm/30 Gauge', 'FastClix Lancets 0.3mm/30 Gauge', 'GlucoRx Lancets 0.31mm/30 Gauge', 'NovoFine Needles Pen Inj Screw On 6mm', 'Unifine Pentips Needles Pen Inj Screw On', 'Unistik 3 Comfort Lancets 1.8mm/28 Gauge', 'Omnican Fine Needles Pen Inj Screw On 8m', 'GlucoRX FinePoint Needles Pen Inj Screw', 'NovoPen 5 Blue 3ml 1u (1-60u) Hypod Reus', 'Nitrile-Pro Gloves Sml/Med/Lge/Exlge Pro', 'CliniFix Tube Holder 140mm x 40mm Cath A', 'Otovent Inflation Dev Auto', 'Alissa Olive Oil Ear Dps Ear Wax Softeni', 'Rusch Brillant AquaFlate All Slc Foy Mal', 'Rusch Sympacath AquaFlate Male H/Gel Ctd', 'Hollister VaPro Hydrophilic Male Size 8-', 'Class 1 Stnd C/Kt B/Knee Stkn Elas Hose', 'Clement Clarke Stnd Range Peak Flow Mete', 'Medicareplus Stnd Range Peak Flow Meter', 'Optiflo G Cath Maint Soln 50ml', 'Optiflo S Cath Maint Soln 50ml', 'Uro-Tainer NaCl 50ml Cath Maint Soln', 'Sutherland Lubri Jelly Ster', 'Aquagel Lubri Jelly Sach 5g', 'Irripod Sod Chlor Top Irrig 20ml', 'Salivix Pastil (App)', 'Glandosane A/Spy 50ml (App)', 'Epaderm Oint', 'Epaderm Crm', 'Flexitol Urea Heel Balm', 'Dermatonics Once Heel Balm', 'Zeroderm Oint', 'Hydromol Oint', 'QV Crm', 'QV Gentle Wsh', 'Zerobase Crm (Appl)', 'Zerocream (Appl)', 'ZeroAQS Crm', 'Zerodouble Gel', 'Cetraben Crm 150g', 'Cetraben Crm 500g', 'ReplensMD Vag Moist 6D Pack', 'ReplensMD Vag Moist 35g Tube', 'Sterimar Isotonic Nsl Spy 50ml', 'Hylo-Tear Sod Hyaluronate Eye Dps 0.1% P', 'Blink Intensive Tears Sod Hyaluronate Ey', 'Hyabak Sod Hyaluronate Eye Dps 10ml P/F', 'Systane Hydroxypropyl Guar Eye Dps 10ml', 'Hylo-Forte Sod Hyaluronate Eye Dps 0.2%', 'Hylo-Fresh Sod Hyaluronate Eye Dps P/F 1', 'Alissa Carmellose 0.5% Eye Dps 10ml', 'Carmize 0.5% Carmellose Eye Dps 10ml', 'Sod Chlor 5% Eye Dps 10ml', 'Systane Balance Hydroxypropyl Guar Eye D', 'Optive 0.5% Carmellose Eye Dps 10ml', 'Liquifilm 1.4% Polyvinyl Alcohol Eye Dps', 'Sno Tears 1.4% Polyvinyl Alcohol Eye Dps', 'Clinitas Carbomer Eye Gel', 'Vita-POS Paraf Eye Oint P/F', 'Xailin Night Paraf Eye Oint P/F 5g', 'Debrisoft Lolly Physical Debridement Pad', 'Flexicare_E-Z Flow Cath Valve', 'Coloplast_Conveen Optima Urisheath (Non', 'CliniSupplies_ProSys Leg Bag Ster 500ml', 'CliniSupplies_ProSys Leg Bag Ster + Tap', 'Coloplast_Simpla Profile Leg Bag 500ml 6', 'Coloplast_Simpla Profile Leg Bag 500ml 2', 'CliniSupplies_ProSys Night Bag Slide Out', 'CliniSupplies_ProSys Night Bag Non-Ster', 'Coloplast_S2 Urine Drain Bag + Nrv + Stn', 'Bard_Urisleeve Leg Bag Holder Sml (24-39', 'CliniSupplies_Leg Bag Straps + Slc Leg G', 'Jade_Velcro Leg Strap', 'CliniMed_HydroFrame Flng Extender', 'Coloplast_Brava Elas Tape', 'C D Medical_Peel Easy Adh Remover Spy 50', 'Coloplast_Assura Insp Midi Closed Bag S/', 'Coloplast_SenSura Mio Orig Maxi Clsd Bag', 'Coloplast_Sensura Mio Maxi Clsd Bag + Fl', 'Salts_Confidence Natural Soft Convex Cls', 'CliniMed_LiMone Deod A/Spy 50ml', 'Coloplast_SenSura Midi Drnbl Bag SplitS/', 'Coloplast_Sensura Mio Midi DrnblBag Grey', 'Coloplast_Sensura Mio Maxi DrnblBag Grey', 'Dansac_Irri-Drain Adh', 'Aspen_Sorbaderm No-Sting Barrier Film 1m', 'Aspen_Sorbaderm Barrier Crm 92g', 'CliniMed_LBF Ster No Sting Barrier Film', '3m Health Care_Cavilon Durable Barrier C', 'Convatec_Stomahesive Paste', 'C D Medical_Clinifilm Wipes', 'Hollister_Adapt Barrier Rings 98mm', 'Hollister_Adapt Slim Barrier Rings 48mm', 'Dansac_Seals 30mm (57.5mm Outer Diam)', 'Gaviscon_Liq Orig Aniseed Relief', 'Gaviscon_Liq Relief Peppermint', 'Buscopan_Tab 10mg', 'Propantheline Brom_Tab 15mg', 'Nizatidine_Cap 300mg', 'Esomeprazole_Cap E/C 20mg', 'Esomeprazole_Cap E/C 40mg', 'Nexium_Tab 20mg', 'Nexium_Tab 40mg', 'Omeprazole_Tab Disper 10mg (E/C Pellets)', 'Omeprazole_Tab Disper 20mg (E/C Pellets)', 'Losec MUPS_Tab Disper 20mg (E/C Pellets)', 'Rabeprazole Sod_Tab E/C 10mg', 'Rabeprazole Sod_Tab E/C 20mg', 'Sulfasalazine_Tab E/C 500mg', 'Sod Cromoglicate_Cap 100mg', 'Fybogel_Gran Sach 3.5g Plain G/F S/F', 'Fybogel_Gran Sach 3.5g Lem G/F S/F', 'Methylcellulose_Tab 500mg', 'Sterculia_Gran 62% G/F', 'Bisacodyl_Suppos 10mg', 'Docusate Sod_Oral Soln 50mg/5ml S/F', 'Senna_Oral Soln 7.5mg/5ml S/F', 'CosmoCol_Oral Pdr Sach (Lem & Lim)', 'CosmoCol_Oral Pdr Sach (Plain)', 'Prucalopride_Tab 2mg', 'Anusol_Crm', 'Cinchocaine HCl/Hydrocort_Oint 0.5%/0.5%', 'Rectogesic_Oint 0.4%', 'Bendroflumethiazide_Tab 5mg', 'Nebivolol_Tab 5mg', 'Nebivolol_Tab 2.5mg', 'Atenolol_Oral Soln 25mg/5ml S/F', 'Sotalol HCl_Tab 80mg', 'Sotalol HCl_Tab 160mg', 'Co-Tenidone_Tab 100mg/25mg', 'Carvedilol_Tab 3.125mg', 'Hydralazine HCl_Tab 25mg', 'Moxonidine_Tab 300mcg', 'Lisinopril/Hydchloroth_Tab 10mg/12.5mg', 'Ramipril_Tab 5mg', 'Perindopril Argin/Indapam_Tab 5mg/1.25mg', 'Sacubitril/Valsartan_Tab 49mg/51mg', 'Candesartan Cilexetil_Tab 2mg', 'Irbesartan_Tab 150mg', 'Losartan Pot_Tab 12.5mg', 'Telmisartan_Tab 40mg', 'Isosorbide Mononit_Cap 25mg M/R', 'Isotard 25 XL_Tab 25mg', 'Tildiem Ret 120_Tab 120mg', 'Tildiem LA 300_Cap 300mg', 'Adizem-XL_Cap 240mg', 'Adizem-XL_Cap 200mg', 'Nifedipine_Tab 10mg M/R', 'Adalat Ret_Tab 20mg', 'Coracten SR_Cap 10mg', 'Coracten XL_Cap 60mg', 'Verapamil HCl_Tab 120mg', 'Verapamil HCl_Tab 240mg M/R', 'Verapamil HCl_Cap 120mg M/R', 'Verapamil HCl_Cap 240mg M/R', 'Securon SR_Tab 240mg', 'Ranolazine_Tab 375mg M/R', 'Ranolazine_Tab 500mg M/R', 'Naftidrofuryl Oxal_Cap 100mg', 'Midodrine HCl_Tab 2.5mg', 'CoaguChek XS PT (Reagent)_Strips', 'Dabigatran Etexilate_Cap 150mg', 'Rivaroxaban_Tab 15mg', 'Rosuvastatin Calc_Tab 40mg', 'Colesevelam HCl_Tab 625mg', 'Lipitor_Tab 10mg', 'Lipitor_Tab 40mg', 'Bezafibrate_Tab 200mg', 'Colestyramine/Aspartame_Pdr Sach 4g S/F', 'Questran_Sach 9g (4g Of Ingredient)', 'Salbutamol_Inh Soln 2.5mg/2.5ml Ud', 'Salbutamol_Inh Soln 5mg/2.5ml Ud', 'Salbutamol_Pdr For Inh 100mcg (200 D)', 'Ventolin_Nebules Soln 5mg/2.5ml Ud', 'Ipratrop Brom_Inh Soln 500mcg/2ml Ud', 'Ipratrop Brom_Inh Soln 250mcg/1ml Ud', 'Tiotropium_Inha 2.5mcg (60D) CFF + Dev', 'Eklira_Inh 322mcg (60D) (Genuair)', 'Aminophylline Hydrate_Tab 225mg M/R', 'Slo-Phyllin_Cap 125mg', 'Slo-Phyllin_Cap 250mg', 'Uniphyllin Continus_Tab 400mg', 'Uniphyllin Continus_Tab 200mg', 'Umeclidinium/Vilanterol_Inha 65/22mcg30D', 'Anoro Ellipta_Inha 55mcg/22mcg (30D)', 'Qvar 100_Inha 100mcg (200 D)', 'Budesonide_Pdr For Inh 100mcg (200 D)', 'Pulmicort_Turbohaler 200mcg (100 D)', 'Fluticasone/Salmeterol_Inh 50/25mcg 120D', 'Flixotide_Evohaler 125mcg (120 D)', 'Flixotide_Evohaler 250mcg (120 D)', 'Seretide 100_Accuhaler 100mcg/50mcg(60D)', 'Seretide 50_Evohaler 50mcg/25mcg (120 D)', 'Fluticasone/Vilanterol_Inha 184/22mcg30D', 'Relvar Ellipta_Inha 92mcg/22mcg (30 D)', 'Montelukast_Gran Sach 4mg S/F', 'Mizolastine_Tab 10mg M/R', 'Promethazine HCl_Tab 25mg', 'Alimemazine Tart_Tab 10mg', 'Jext_Inj 1/1000 0.15ml Pf Pen Autoinject', 'Jext_Inj 1/1000 0.3ml Pf Pen Autoinject', 'Codeine Phos_Linct 15mg/5ml', 'Codeine Phos_Linct 15mg/5ml S/F', 'Simple_Linct', 'Temazepam_Tab 20mg', 'Ebesque XL_Tab 400mg', 'Amisulpride_Tab 50mg', 'Amisulpride_Tab 100mg', 'Haloperidol_Cap 500mcg', 'Haloperidol_Inj 5mg/ml 1ml Amp', 'Levomeprom Mal_Tab 25mg', 'Levomeprom HCl_Inj 25mg/ml 1ml Amp', 'Promazine HCl_Oral Soln 25mg/5ml', 'Promazine HCl_Tab 50mg', 'Zuclopenth HCl_Tab 2mg', 'Trifluoperazine_Oral Soln 5mg/5ml S/F', 'Olanzapine_Tab 20mg', 'Haloperidol Decan_Inj 100mg/ml 1ml Amp', 'Trazodone HCl_Tab 150mg', 'Trimipramine Mal_Cap 50mg', 'Moclobemide_Tab 300mg', 'Fluoxetine HCl_Oral Soln 20mg/5ml', 'Seroxat_Tab 20mg', 'Flupentixol HCl_Tab 1mg', 'Venlafaxine_Cap 150mg M/R', 'Venlafaxine_Tab 150mg M/R', 'Venlafaxine_Cap 37.5mg M/R', 'Efexor XL_Cap 75mg', 'Venlalic XL_Tab 225mg', 'Mirtazapine_Orodisper Tab 30mg', 'Methylphenidate HCl_Tab 10mg', 'Concerta_XL Tab 18mg', 'Concerta_XL Tab 36mg', 'Concerta_XL Tab 27mg', 'Medikinet XL_Cap 10mg', 'Medikinet XL_Cap 20mg', 'Medikinet XL_Cap 30mg', 'Medikinet XL_Cap 40mg', 'Medikinet XL_Cap 5mg', 'Xenidate XL_Tab 18mg', 'Elvanse_Cap 60mg', 'Cyclizine Lact_Inj 50mg/ml 1ml Amp', 'Stemetil_Tab 5mg', 'Co-Codamol_Cap 8mg/500mg', 'Co-Codamol_Cap 30mg/500mg', 'Co-Codamol Eff_Tab 30mg/500mg', 'Paracet_Oral Susp 250mg/5ml', 'Paracet_Oral Susp Paed 120mg/5ml S/F', 'OxyNorm_Oral Soln 5mg/5ml S/F', 'OxyNorm_Cap 5mg', 'Longtec_Tab 80mg M/R', 'Longtec_Tab 15mg M/R', 'Shortec_Cap 10mg', 'Durogesic DTrans_T/Derm Patch 75mcg', 'Durogesic DTrans_T/Derm Patch 100mcg', 'Fencino_Transdermal Patch 75mcg/hr', 'Buprenorphine_Patch 5mcg/hr (7day)', 'Buprenorphine_Patch 10mcg/hr (7day)', 'Temgesic_Tab Subling 400mcg', 'BuTrans_Transdermal Patch 5mcg/hr', 'BuTrans_Transdermal Patch 10mcg/hr', 'Diamorph HCl_Inj 5mg Amp', 'Diamorph HCl_Inj 10mg Amp', 'Morph Sulf_Tab 10mg M/R', 'Morph Sulf_Tab 30mg M/R', 'Morph Sulf_Tab 10mg', 'Morph Sulf_Cap 10mg M/R', 'Mst Continus_Tab 10mg', 'Mst Continus_Tab 30mg', 'Zomorph_Cap 100mg', 'Migraleve Complete_Tab', 'Naratriptan HCl_Tab 2.5mg', 'Zolmitriptan_Nsl Spy 5mg/0.1ml Ud', 'Zolmitriptan_Orodisper Tab 5mg S/F', 'Zonisamide_Cap 50mg', 'Pregabalin_Cap 25mg', 'Pregabalin_Cap 75mg', 'Pregabalin_Cap 100mg', 'Pregabalin_Cap 150mg', 'Pregabalin_Cap 200mg', 'Lyrica_Cap 225mg', 'Keppra_Oral Soln 100mg/ml', 'Carbamazepine_Tab 200mg M/R', 'Tegretol_Liq 100mg/5ml S/F', 'Lamictal_Tab 200mg', 'Ethosuximide_Cap 250mg', 'Phenobarb_Tab 30mg', 'Phenytoin_Sod Tab 100mg', 'Primidone_Tab 250mg', 'Sod Valpr_Oral Soln 200mg/5ml S/F', 'Epilim_Liq 200mg/5ml S/F', 'Topamax_Tab 100mg', 'Midazolam_Liq Spec 50mg/5ml', 'Ropinirole HCl_Tab 250mcg', 'Ropinirole HCl_Tab 500mcg', 'Co-Beneldopa_Tab Disper 25mg/100mg S/F', 'Madopar_Cap 50mg/12.5mg', 'Madopar_Tab Disper 50mg/12.5mg', 'Co-Careldopa_Tab 25mg/100mg', 'Co-Careldopa_Tab 12.5mg/50mg', 'Co-Careldopa_Tab 25mg/100mg M/R', 'Sinemet CR_Tab 250mg', 'Selegiline HCl_Tab 5mg', 'Pramipexole_Tab 88mcg', 'Pramipexole_Tab 260mcg M/R', 'Rotigotine_Transdermal Patch 1mg/24hrs', 'Acamprosate Calc_Tab E/C 333mg', 'Donepezil HCl_Tab 5mg', 'Rivastigmine_Cap 1.5mg', 'Rivastigmine_Cap 6mg', 'Rivastigmine_Skin Patch 9.5mg/24hrs', 'Alzest_Skin Patch 4.6mg/24hrs', 'Alzest_Skin Patch 9.5mg/24hrs', 'Gatalin XL_Cap 16mg', 'Memantine HCl_Oral Soln 10mg/ml S/F', 'Fluclox Sod_Oral Soln 250mg/5ml', 'Amoxil_Cap 500mg', 'Cefalexin_Oral Susp 125mg/5ml', 'Doxycycline Hyclate_Tab Disper 100mg S/F', 'Minocycline HCl_Cap 100mg M/R', 'Azithromycin_Tab 500mg', 'Erythromycin_Ethylsuc Susp 250mg/5ml', 'Co-Trimoxazole_Tab 160mg/800mg', 'Dapsone_Tab 50mg', 'Ciprofloxacin_Tab 250mg', 'Nitrofurantoin_Cap 100mg', 'Nystatin_Oral Susp 100 000u/ml', 'Aciclovir_Tab 200mg', 'Quinine Bisulf_Tab 300mg', 'Ins Aspart_Inj 100u/ml 3ml Pf Pen', 'Ins NovoRapid_Inj 100u/ml 10ml Vl', 'Ins Apidra SoloStar_100u/ml 3ml PF Pen', 'Ins Insulat_(Ge) 100u/ml 10ml Vl', 'Ins Humulin I_KwikPen 100u/ml 3ml Pf Pen', 'Ins Insuman Basal SoloStar_3ml Pf Pen', 'Ins Lantus_100u/ml 10ml Vl', 'Toujeo_300u/ml 1.5ml Pf SoloStar Pen', 'Gliclazide_Tab 30mg M/R', 'Tolbutamide_Tab 500mg', 'Glucophage SR_Tab 500mg', 'Glucophage SR_Tab 1000mg', 'Metabet SR_Tab 500mg (Morningside)', 'Vildagliptin_Tab 50mg', 'Victoza_Inj 6mg/ml 3ml PF Pen', 'Canagliflozin_Tab 100mg', 'Pioglitazone HCl_Tab 45mg', 'Glucagon_Inj (rys) 1mg Vl + Dil', 'GlucaGen_HypoKit Inj 1mg Vl + Dil', 'Dextrogel_Gel 40%', 'OneTouch Verio (Reagent)_Strips', 'FreeStyle Optium (Reagent)_Strips', 'Contour (Reagent)_Strips', 'FreeStyle Optium B-Ketone Reagent_Strips', 'Liothyronine Sod_Tab 20mcg', 'Dexameth_Tab 2mg', 'Estradiol_Tab 1mg', 'Evorel 50_Patch', 'Evorel 25_Patch', 'Oestrogel_Gel 0.06% 80g (64 Applic)', 'Elleste Solo_Tab 1mg', 'Elleste Solo_Tab 2mg', 'Kliofem_Tab', 'Femoston 2/10mg_Tab', 'Femoston 1/10mg_Tab', 'Femoston-conti_Tab 1mg/5mg', 'FemSeven Conti_Patch', 'Oestro Conj_Tab 625mcg', 'Premarin_Tab 1.25mg', 'Raloxifene HCl_Tab 60mg', 'Dutasteride_Cap 500mcg', 'Testosterone_Gel 50mg/5g Ud Sach', 'Tostran_Gel 2%', 'Desmopressin Acet_Tab 200mcg', 'DesmoMelt_Oral Lyoph 120mcg', 'Ovestin_Crm 1mg + Applic', 'Clotrimazole_Pess 500mg', 'Loestrin 20_Tab', 'Femodette_Tab', 'Marvelon_Tab', 'Microgynon 30 ED_Tab', 'Femodene_Tab', 'Yasmin_Tab', 'Medroxyprogest Acet_Inj 150mg/ml 1ml Pfs', 'Levonorgest_Tab 1.5mg', 'Alfuzosin HCl_Tab 2.5mg', 'Xatral_XL Tab 10mg', 'Combodart_Cap 0.5mg/0.4mg', 'Darifenacin Hydrob_Tab 7.5mg M/R', 'Mirabegron_Tab 25mg M/R', 'Oxybutynin_Transdermal Patch 3.9mg/24hrs', 'Pot Cit_Mix', 'Vardenafil_Tab 20mg', 'Mercaptopurine_Tab 50mg', 'Neoral_Cap 25mg', 'Neoral_Cap 100mg', 'Exemestane_Tab 25mg', 'Bicalutamide_Tab 150mg', 'Goserelin Acet_Implant 10.8mg Pfs', 'Zoladex_Implant 3.6mg SafeSystem Pfs', 'Ferr Fumar_Oral Soln 140mg/5ml', 'Ferr Fumar_Oral Soln 140mg/5ml S/F', 'Ferr Glucon_Tab 300mg', 'Ferr Sulf  Dried_Tab 325mg M/R', 'Folic Acid_Tab 400mcg', 'Sando-K_Tab Eff 470mg', 'Dioralyte_Pdr Sach (Natur)', 'Water For Inj_10ml Amp', 'Juvela_G/F W/F Harvest Mix', 'Juvela_G/F W/F Flakes', 'Juvela_G/F W/F Fibre Flakes', \"Nairn's_G/F W/F Oat Porridge\", 'Glutafin_G/F W/F Cornflakes', 'Glutafin_G/F W/F H/Fbre Cracker', 'Glutafin_G/F W/F Diges Bisc', 'Juvela_G/F Fibre Bread Roll', 'Juvela_G/F Pizza Base', 'Glutafin Select_G/F Fresh Loaf Wte (Cut)', 'Glutafin_G/F Wte Bread (Cut)', 'Genius_G/F Bread Brown (Cut)', 'Genius_G/F Bread Wte (Cut)', 'Duocal_Super Solb Pdr', 'Fortijuce_Liq (7 Flav)', 'Nutramigen PurAmino_Pdr', 'Glutafin Select_G/F Multipurpose Wte Mix', 'Juvela_G/F W/F Lasagne', 'Juvela_G/F W/F Fibre Penne', 'Ensure_Liq Feed (3 Flav)', 'Optifibre_Pdr', 'PaediaSure_Liq (4 Flav)', 'Aptamil_Pepti 1 Pdr', 'Complan_Shake Pdr Sach 57g (Choc)', 'Complan_Shake Pdr Sach 57g (Vanilla)', 'Complan_Shake Pdr Sach 57g (Milk)', 'Complan_Shake Pdr Sach 57g (Banana)', 'Fresubin 5kcal Shot_Drink (Neutral)', 'Adcal_Tab Chble 1.5g', 'Sevelamer_Tab 800mg', 'Sod Fluoride_Dental Paste 1.1% S/F', 'Duraphat_Fluoride Toothpaste (2800ppm)', 'Ascorbic Acid_Tab 50mg', 'Ascorbic Acid_Tab 200mg', 'Alfacalcidol_Cap 500ng', 'One-Alpha_Cap 250ng', 'One-Alpha_Cap 1mcg', 'Colecal_Cap 1 000u', 'Adcal-D3_Capl 750mg/200u', 'Cacit D3_Eff Gran Sach 4g', 'Calcichew D3_Capl 500mg/400u', 'Vit E_Cap 200u', 'Vit_Cap', 'Dalivit_Dps', 'TwoCal_Liq', 'Meloxicam_Tab 7.5mg', 'Etoricoxib_Tab 60mg', 'Indometacin_Cap 50mg', 'Depo-Medrone_Inj 40mg/1ml Vl', 'Leflunomide_Tab 20mg', 'Capsaicin_Crm 0.025%', 'Diethylamine Sal_Crm 10% BP', 'Algesal_Crm 10%', 'Ibuprofen_Gel 10%', 'Movelat_Crm', 'Betnesol_Ear/Eye/Nose Dps 0.1%', 'Fluorome_Eye Dps 0.1%', 'Otrivine-Antistin_Eye Dps', 'Nedocromil Sod_Eye Dps Aq 2%', 'Atrop Sulf_Eye Dps 1% Ud', 'Cyclopentolate HCl_Eye Dps 1%', 'Cosopt_Ocumeter Plus Eye Dps', 'Xalacom_Eye Dps 50mcg/5mg/ml', 'Lumigan_Eye Dps 100mcg/ml', 'DuoTrav_Eye Dps 40mcg/ml / 5mg/ml', 'Acetazolamide_Tab 250mg', 'Latanoprost_Eye Dps 50mcg/ml 0.2mlUd P/F', 'Dorzolamide_Eye Dps 2% 0.2ml Ud', 'Piloc HCl_Eye Dps 4%', 'Timolol_Eye Dps 0.5%', 'Timolol_Eye Dps 0.25% 0.2ml Ud P/F', 'Carbomer 980_Gel Eye Dps 0.2% 0.6mlUdP/F', 'Carmellose Sod_Eye Dps 1% 0.4ml Ud P/F', 'Celluvisc_Eye Dps 0.5% 0.4ml Ud', 'Hypromellose/Dextran 70_Eye Dps 0.3/0.1%', 'Isopto_Alkaline 1%', 'Tears Naturale_Eye Dps', 'Minims_Artificial Tears Ud P/F', 'Blephasol_Lot', 'Flumetasone/Clioquinol_Ear Dps 0.02%/1%', 'Sofradex_Ear/Eye Dps', 'Flixonase_Aq Nasule Dps 400mcg Ud', 'Flixonase_Aq Nsl Spy 50mcg (150 D)', 'Dymista_Nsl Spy 50mcg/137mcg (120 D)', 'Ipratrop Brom_Aq Nsl Spy 21mcg (180D)CFF', 'Rinatec_Aq Nsl Spy 21mcg (180D) 15ml CFF', 'Xylomet HCl_Nsl Spy 0.1% 10ml', 'Naseptin_Crm', 'Bonjela_Gel 8.7% S/F', 'Oilatum_Crm', 'Oilatum_Gel', 'Oilatum_Bath For', 'Oilatum_Emollient', 'Doublebase_Emollient Shower Gel', 'Dimeticone/Benzalk Chlor_Crm 22%/0.1%', 'Conotrane_Crm', 'Lotriderm_Crm', 'Bettamousse_Foam Aero 0.1% 100g', 'Dermovate_Crm 0.05%', 'Fluocinolone Aceton_Crm 0.00625%', 'Hydrocort/Miconazole Nit_Oint 1%/2%', 'Mometasone Fur_Crm 0.1%', 'Mometasone Fur_Oint 0.1%', 'Elocon_Crm 0.1%', 'Exorex_Lot', 'Dovobet_Gel 0.005%/0.05%', 'Skinoren_Crm 20%', 'Benzoyl Per/Clindamycin Phos_Gel 3%/1%', 'Duac_Once Daily Gel (5% and 1%)', 'Epiduo_Gel 0.1%/2.5%', 'Salic Acid_Gel 26%', 'Solaraze_Gel 3%', 'Efudix_Crm 5%', 'Coal Tar_Ext Shampoo 2%', 'Alphosyl_Shampoo 2 In 1', 'Dermax Therapeutic_Shampoo 0.5%', 'Eflornithine Monohyd Chlor_Crm 11.5%', 'Miconazole Nit_Dust Pdr 2%', 'Terbinafine HCl_Crm 1%', 'Aciclovir_Crm 5%', 'Malathion_Aq Lot 0.5%', 'Heparinoid_Crm 0.3%', 'Havrix Monodose_Vac 1440u/ml 1ml Pfs', 'Avaxim_Vac 320u/ml 0.5ml Pfs', 'Twinrix Adult_Vac 720u/20mcg/ml 1ml Pfs', 'Glycopyrronium Brom_Inj 0.2mg/ml 1ml Amp', 'Midazolam HCl_Inj 5mg/ml 2ml Amp', 'Lido_Oint 5%', 'Unspec Drug Code_', 'Thick & Easy_Food Thickener', 'Resource_ThickenUp Pdr', 'K-Soft 10cm x 3.5m M/Layer Compress Band', 'Polyfield Nitrile Patient Pack Ster Dres', 'C-View 15cm x 20cm VP Adh Film Dress', 'Eclypse Adherent 15cm x 15cm Pfa Cellulo', 'Zetuvit E 10cm x 20cm Pfa Cellulose Dres', 'Zetuvit E 20cm x 20cm Pfa Cellulose Dres', 'Tegaderm H/Coll 10cm x 12cm Wound Dress', 'Tegaderm H/Coll Thin 10cm x 12cm Wound D', 'Allevyn Adh 7.5cm x 7.5cm Wound Dress Po', 'Allevyn Adh 17.5cm x 17.5cm Wound Dress', 'Tegaderm Foam Adh Square 14.3cmx14.3cm W', 'Tegaderm Foam Adh Oval 10cm x 11cm Wound', 'Mepilex Lite 15cm x 15cm Wound Dress Sof', 'Allevyn Gentle Border 12.5cm x 12.5cm Wo', 'Urgotul SSD 10cm x 12cm Wound Dress Soft', 'Aquacel Ag 5cm x 5cm Wound Dress Proteas', 'Aquacel Ag 10cm x 10cm Wound Dress Prote', 'Aquacel Extra 10cm x 10cm Wound Dress Pr', 'Durafiber Ag 2cm x 45cm Wound Dress Prot', 'Acticoat Flex 3 5cm x 5cm Wound Dress Si', 'Tubigrip 10cm x 1m Stkntte Elasctd Tublr', 'Comfifast 7.5cm x 5m (Blue) Stkntte Elas', 'Acti-Fast 2-Way Stch 10.75cmx5m(Yell)Stk', 'Tubifast 2-Way Stch 7.5cm x 5m (Blue) St', 'Tubifast 2-Way Stch 10.75cm x 5m YellowS', 'Hypafix 10cm x 5m Surg Adh Tape Perm Non', 'Gz Swabs BP 10cm x 10cm', 'U100 Syrg Sle Use 0.3ml + 8mm Needle-Ste', 'U100 Syrg Sle Use 0.5ml + 8mm Needle-Ste', 'Thin Lancets 0.36mm/28 Gauge', 'BD AutoShield Duo Needles Pen Inj Screw', 'BD Viva Needles Pen Inj Screw On 4mm/32', 'Mylife Clickfine Needles Pen Inj Snap On', 'Microlet Lancets 0.5mm/28 Gauge', 'CarePoint Needles Pen Inj Screw On 6mm', 'Omnican Fine Needles Pen Inj Screw On 4m', 'Omnican Fine Needles Pen Inj Screw On 6m', 'PVC Ring Pess 50-80mm 1.25cm Thick', 'Ema Film Gloves Disp (Non-Ster) Sml/Med/', 'T & R Sod Bicarb Ear Dps 5% Ear Wax Soft', 'Care Olive Oil Ear Dps Ear Wax Softening', 'Arjun Olive Oil Ear Dps Ear Wax Softenin', 'St Georges Olive Oil Ear Dps Ear Wax Sof', 'Rusch Brillant AquaFlate All Slc Foy Fle', 'Rusch Sympacath AquaFlate Fle H/Gel Ctd', 'Coloplast SpeediCath Compact Fle Size 8-', 'Coloplast SpeediCath Compact Plus Fle 10', 'LoFric Primo Nelaton Male NonPVC 8-18(30', 'Class 11 Stnd C/Kt B/Knee Stkn Elas Hose', 'Class 11 Stnd C/Kt Thigh Stkn Elas Hose', 'Cathejell Lidocaine C Lubricant Gel 8.5g', 'Cathejell Lidocaine C Lubricant Gel 12.5', 'Biotene Oralbalance Gel', 'Balneum Crm', 'Hydromol Sod Pidolate Crm 2.5% 500g (App', 'Sylk Vag Moist 40g Tube', 'Jobst Elvarex For L/Extrem Class 2 Knee', 'Peristeen Accessory Unit', 'Clinitas Sod Hyaluronate Eye Dps 0.5ml U', 'Systane Hydroxypropyl Guar Eye Dps 0.8ml', 'Alissa Carmellose 0.5% Eye Dps 0.4ml Ud', 'Optive Fusion Sod Hyaluronate Eye Dps 10', 'Systane Ultra Hydroxypropyl Guar Eye Dps', 'PF Drops Hypromellose 0.3% Eye Dps 10ml', 'Optive Plus 0.5% Carmellose Eye Dps', 'Xailin Carbomer Eye Gel 10g', 'Nebusal Sod Chlor 7% Inh Soln 4ml', 'KerraPro 10 x 10 x 1.2cm Sheet Low Frict', 'UCS Physical Debridement Pad', 'Bard_Flip-Flo Cath Valve', 'Rochester_Clr Advantage Slc Sheath + Alo', 'JLJ_Urifix Tape 5m', 'Coloplast_G-Strap Adult', 'Salts_SecuPlast Hydro', 'Pelican_Release Non-Sting Adh Remover Sa', 'ConvaTec_ConvaTec Niltac Sting Free Medi', 'Coloplast_Assura Insp Closed Bag +D/Fltr', 'Coloplast_SenSura Soft Seal Bag SplitMid', 'Coloplast_SenSura Soft Seal Bag Split Mi', 'Coloplast_Assura Insp Midi Drnbl Bag H/A', 'Coloplast_SenSura Mio Maxi Drnbl Bag S/C', 'Salts_Confidence Natural Soft Convex Drn', 'Aspen_Sorbaderm No-Sting Barrier Film Sp', 'H & R_Proshield Foam & Spy Skin Cleanser', 'H & R_Proshield Plus Skin Prote 115g', '3m Health Care_Cavilon No Sting Barrier', 'Opus_SkinSafe Non Sting Prote Film', 'Salts_Peri-Prep Sens No-Sting Prote Film', 'Hollister_Adapt Barrier Rings 48mm', 'Coloplast_Coloplast Prote Rings 20mm', 'Mucogel_Susp 195mg/220mg/5ml S/F', 'Peptac_Liq (Aniseed) S/F', 'Colofac MR_Cap 200mg', 'Mesalazine_Foam Aero Enem 1g/D 14g', 'Asacol_MR Tab E/C 400mg', 'Olsalazine Sod_Tab 500mg', 'Salazopyrin_Tab 500mg', 'Budesonide_Cap 3mg (E/C Pellets)', 'Colifoam_Foam Aero Enem 10% 20.8g (14 D)', 'Movicol-Half_Pdr Sach 6.9g (Lem & Lim)', 'Movicol_Paed Pdr Sach 6.9g (Choc)', 'Cleen_Enem Phos 133ml', 'Micralax_Micro-Enem 5ml', 'Linaclotide_Cap 290mcg', 'Proctosedyl_Oint', 'Xyloproct_Oint 5%/0.275%', 'Cinchocaine/Prednisolone_Oint 0.5%/0.19%', 'Ursodeoxycholic Acid_Tab 500mg', 'Co-Amilozide_Tab 2.5mg/25mg', 'Propafenone HCl_Tab 150mg', 'Prazosin HCl_Tab 1mg', 'Zestoretic 20_Tab', 'Zestril_Tab 5mg', 'Zestril_Tab 10mg', 'Losartan Pot/Hydchloroth_Tab 100mg/25mg', 'Losartan Pot/Hydchloroth_Tab 100/12.5mg', 'Isosorbide Mononit_Tab 60mg M/R', 'Monomax SR 40_Cap 40mg', 'Diltiazem HCl_Cap 60mg M/R', 'Adizem-SR_Cap 90mg', 'Adizem-SR_Cap 180mg', 'Slozem 180_Cap 180mg', 'Nifedipine_Cap 20mg M/R', 'Nifedipine_Cap 10mg M/R', 'Adalat_Cap 5mg', 'Nifedipress MR 10_Tab 10mg', 'Nifedipress MR 20_Tab 20mg', 'Acenocoumarol_Tab 1mg', 'Plavix_Tab 75mg', 'EPA/DHA_Cap 460mg/380mg', 'Serevent_Accuhaler 50mcg (60 D)', 'Spiriva_Pdr For Inh Cap 18mcg+HandiHaler', 'Glycopyrronium Brom_Inh Cap 55mcg + Dev', 'Seebri_Breezhaler Inh Cap 55mcg + Dev', 'Umeclidinium Brom_Inh 65mcg (30D)', 'Aclid/Formot_PdrFor Inh 396/11.8mcg(60D)', 'Duaklir Genuair_340mcg/12mcg (60D)', 'Ultibro Breezhaler_Pdr Inh Cap + Dev', 'Beclomet/Formoterol_Inh 100/6 (120D) Dry', 'Budesonide/Formoterol Inh B/A 400/12(60D', 'Fluticasone Prop_Pdr For Inh 100mcg(60D)', 'Flutiform_Inha 50/5mcg (120 D)', 'Ciclesonide_Inh 160mcg (60 D) CFF', 'Relvar Ellipta_Inha 184mcg/22mcg (30 D)', 'Montelukast_Tab Chble 4mg S/F', 'Piriton_Tab 4mg', 'Oxazepam_Tab 15mg', 'Aripiprazole_Tab 5mg', 'Promazine HCl_Oral Soln 50mg/5ml', 'Sulpiride_Tab 200mg', 'Risperidone_Tab 3mg', 'Risperidone_Oral Soln 1mg/1ml S/F', 'Doxepin_Cap 25mg', 'Paroxetine HCl_Oral Soln 10mg/5ml S/F', 'Escitalopram_Tab 5mg', 'Venlafaxine_Tab 75mg M/R', 'Venaxx XL_Cap 75mg', 'Dexamfet Sulf_Tab 5mg', 'Methylphenidate HCl_Tab 5mg', 'Atomoxetine HCl_Cap 18mg', 'Atomoxetine HCl_Cap 25mg', 'Elvanse_Cap 30mg', 'Elvanse_Cap 50mg', 'Metoclopramide HCl_Oral Soln 5mg/5ml S/F', 'Aspirin_Tab E/C 300mg', 'Kapake_Tab 30mg/500mg', 'Fencino_Transdermal Patch 100mcg/hr', 'Buprenorphine_Patch 20mcg/hr (7day)', 'Buprenorphine_Patch 15mcg/hr (7day)', 'Methadone HCl_Tab 5mg', 'Morph Sulf_Tab 60mg M/R', 'Tramacet_Tab 37.5mg/325mg', 'Frovatriptan_Tab 2.5mg', 'Rizatriptan_Tab 5mg', 'Imigran_Tab 100mg', 'Pizotifen Malate_Tab 1.5mg', 'Pregabalin_Cap 300mg', 'Lacosamide_Tab 50mg', 'Tegretol_Tab 100mg', 'Lamictal_Tab Disper 100mg', 'Phenytoin_Sod Cap 25mg', 'Primidone_Tab 50mg', 'Sod Valpr_Tab 100mg', 'Topamax_Tab 50mg', 'Madopar_Cap 100mg/25mg', 'Co-Careldopa_Tab 50mg/200mg M/R', 'Cefaclor_Tab 375mg M/R', 'Doxycycline Hyclate_Cap 50mg', 'Clarithromycin_Oral Susp 250mg/5ml', 'Erythromycin_Ethylsuc Susp 125mg/5ml S/F', 'Promixin_Pdr For Neb 1mega u', 'Rifampicin_Cap 300mg', 'Ofloxacin_Tab 400mg', 'Levofloxacin_Tab 500mg', 'Nitrofurantoin_Oral Susp 25mg/5ml S/F', 'Ins NovoRapid_PumpCart 100u/ml 1.6mlCart', 'Ins Humalog_KwikPen 100u/ml 3ml Pf Pen', 'Ins Humulin S_100u/ml 3ml Cart', 'Ins Humalog Mix 25_KwikPen 100u/ml 3mlPf', 'Ins Hum Insulat_Penfill 100u/ml 3ml', 'Ins Glargine_Inj 100u/ml 3ml Pf Pen', 'Ins Degludec_100u/ml 3ml Pf Pen', 'Prednisolone_Oral Soln 5mg/5ml Ud', 'Estraderm MX 25_Patch', 'Progynova_Tab 1mg', 'Progynova_Tab 2mg', 'Femoston-conti_Tab 0.5mg/2.5mg', 'Premarin_Tab 625mcg', 'Livial_Tab 2.5mg', 'Nebido_Inj 1000mg/4ml Vl', 'Desmopressin Acet_Tab 100mcg', 'Desmopressin Acet_Oral Lyoph 120mcg', 'Bromocriptine Mesil_Tab 2.5mg', 'Clotrimazole_Pess 200mg', 'Clotrimazole_Crm 10%', 'Ethinylest/Norethist_Tab 35mcg/500mcg', 'Brevinor_Tab', 'Norimin_Tab', 'Logynon_Tab', 'Micronor_Tab 350mcg', 'Tamsulosin/Dutasteride HCl_Cap 0.4/0.5mg', 'Cialis_Tab 5mg', 'Mycophenolate Mofetil_Tab 500mg', 'Ciclosporin_Cap 100mg', 'Sod Feredetate_Oral Soln 190mg/5ml S/F', 'Dioralyte_Pdr Sach (Citrus)', 'Juvela_G/F Bread Roll Wte P/Bke', 'Glutafin Select_G/F Seeded Loaf', 'Genius_G/F Bread Brown Sandwich (Cut)', 'Juvela_G/F W/F Fusilli', 'Fortisip Bottle_Liq (8 Flav)', 'PaediaSure Fibre_Liq (3 Flav)', 'Ensure Plus Fibre_Liq Feed (5 Flav)', 'Aptamil_Pepti 2 Pdr', 'Nutilis_Complete Stage 2 Custard (3Flav)', 'Mag Glycerophos_Oral Soln 121.25mg/5ml', 'Duraphat_Fluoride Toothpaste (5000ppm)', 'Colecal_Tab 1 000u', 'Colecal & Calc_Tab Eff 400u/1.5g (Lem)', 'Colecal & Calc_Tab 200u/750mg', 'Pro D3_Cap 10 000u', 'Natecal D3_Tab Chble 600mg/400u', 'Calc & Ergocalciferol_Tab 400u', 'Menadiol Sod Phos_Tab 10mg', 'Sanatogen Complete_A-Z Tab OAD', 'Diclofenac Sod_Tab 75mg M/R', 'Diclofenac Sod_Cap E/C 25mg/50mg M/R', 'Ibuprofen_Cap 200mg', 'Ibuprofen_Tab 800mg M/R', 'Depo-Medrone/Lidoc_Inj 40/10mg/ml 2ml Vl', 'Febuxostat_Tab 80mg', 'Dantrolene Sod_Cap 25mg', 'Maxidex_Eye Dps 0.1%', 'Prednisolone Acet_Eye Dps 1%', 'Azelastine HCl_Aq Eye Dps 0.05%', 'Cosopt_Eye Dps 0.2ml Ud P/F', 'Azopt_Eye Dps 10mg/ml', 'Timolol_Gel Eye Dps 1mg/g 0.4g Ud P/F', 'Carbomer 980_Gel Eye Dps 0.2%', 'Viscotears_Eye Gel 2mg/g 0.6ml Ud', 'GelTears_Ophth Gel 0.2%', 'Corsodyl_Mthwsh 0.2%', 'Emulsif_Oint', 'Calmurid_Crm', 'Ultrabase_Crm', 'E45_Lot', 'Unguentum M_Crm', 'Aveeno_Lot', 'Oilatum Jnr_Crm (Liq)', 'E45_Emollient Bath Oil', 'Gppe Oint_Metanium', 'Menthol In Aq_Crm 2%', 'Betameth Diprop/Salic Acid_Oint 0.05/3%', 'Betnovate RD_Crm 0.025%', 'Betnovate RD_Oint 0.025%', 'Betnovate_Scalp Applic 0.1%', 'Dermovate_Oint 0.05%', 'Canesten HC_Crm', 'Locoid_Crm 0.1%', 'Tacrolimus_Oint 0.1%', 'Finacea_Gel 15%', 'Acnecide_Gel Wash 5%', 'Clindamycin Phos_Top Soln 1% + Applic', 'Duac_Once Daily Gel (3% and 1%)', 'Verrugon_Complete', 'Fluorouracil_Crm 5%', 'Selsun_Shampoo 2.5%', 'Mupirocin_Oint 2%', 'Fucidin_Crm 20mg/g', 'Fucidin_Oint 20mg/g', 'Canesten_Crm 1%', 'Ketoconazole_Crm 2%', 'Daktarin_Crm 2%', 'Tioconazole_Medic Nail Lacquer 283mg/ml', 'Hibiscrub_Soln', 'Vivotif_(Oral Vac) Cap', 'Octenisan_Antimicrobial Wsh Lot', 'Aveeno_Body Wash', 'Atrauman 10cm x 20cm Ktd Polyester Dress', 'Mepore 11cm x 15cm Pfa + Adh Border Dres', 'Ster Dress Pack', 'C-View 10cm x 12cm VP Adh Film Dress', 'Activon Medic Grade Manuka 25g Wound Dre', 'Tegaderm H/Coll 10cm x 10cm Wound Dress', 'Tegaderm Foam Adh Oval 14.3cm x 15.6cm W', 'Tegaderm Foam Adh Oval 6.9cm x 7.6cm Wou', 'Aquacel Ribbon 2cm x 45cm Wound Dress Ca', 'ActiFormCool 5cm x 6.5cm Wound Dress H/G', 'Urgotul 5cm x 5cm Wound Dress Soft Polym', 'Durafiber 5cm x 5cm Wound Dress Protease', 'Activon Tulle 5cm x 5cm Manuka Honey Ste', 'Activon Tulle 10cm x 10cm Manuka Honey S', 'Comfifast 3.5cm x 1m (Red) Stkntte Elasc', 'Micropore 2.5cm x 5m Surg Adh Tape Perm', 'Mefix 2.5cm x 5m Surg Adh Tape Perm Non-', 'Mefix 5cm x 5m Surg Adh Tape Perm Non-Wo', 'Needle Clipping (Chopping) Dev', 'BD Micro-Fine + Lancets 0.3mm/30 Gauge', 'NovoPen Echo Blue Pen 3ml 0.5u (0.5-30u)', 'FreeStyle Lancets 0.5mm/28 Gauge', 'NovoFine Needles Pen Inj Screw On 8mm', 'Unistik 3 Normal Lancets 1.8mm/23 Gauge', 'L.IN.C All Slc Stnd+Water 16-24 10ml Uni', 'Optiflo R Cath Maint Soln 50ml', 'OptiLube Ster Lubri Jelly Sach 5g', 'Normasol Sod Chlor Top Irrig 0.9% 25ml S', 'Fifty:50 Oint', 'Yes water-based Intimate Lubricant Vag M', 'Orbis Nor Saline Sod Chlor 0.9% Nsl Dps', 'Almus Sod Chlor 0.9% Nsl Dps', 'Sigvaris Advance 1 Low Comp A/Sleeve+G/T', 'Hylo-Care Sod Hyaluronate Eye Dps P/F 10', 'Hydromoor Hypromellose Eye Dps 0.4ml Ud', 'Balance Activ BV Vag PH Correction Gel 5', 'DebriSoft 10cm x 10cm Physical Debrideme', 'Hollister_InView Incont Sheath Self-Adh', 'Coloplast_Conveen Sheath Liner', 'CliniMed_Appeel No Sting Medical Adh Rem', 'Coloplast_Assura Insp Maxi Closed Bag S/', 'Coloplast_SenSura Mio Orig Midi Clsd Bag', 'Dansac_Nova 1 Drnbl + E/Fld Ileo Bag Sym', 'Coloplast_SenSura Maxi Drnbl Bag SplitS/', 'Coloplast_SenSura Soft Seal Maxi Transpt', '3m Health Care_Cavilon No Sting 1ml Barr', 'Dansac_Nova 1 Convex Urost Pouch Clr C/F', 'Losec MUPS_Tab Disper 10mg (E/C Pellets)', 'CosmoCol_Paed Oral Pdr Sach 6.9g', 'Ursodeoxycholic Acid_Tab 150mg', 'Natrilix_Tab 2.5mg', 'Furosemide_Tab 500mg', 'Labetalol HCl_Tab 100mg', 'Diltiazem HCl_Tab 60mg M/R', 'Adizem-XL_Cap 300mg', 'Zemtard 120 XL_Cap 120mg', 'Half Securon SR_Tab 120mg', 'Gemfibrozil_Tab 600mg', 'Sod Cromoglicate_Inha 5mg (112D) CFF', 'Lorazepam_Tab 2.5mg', 'Doxepin_Cap 50mg', 'Flupentixol HCl_Tab 500mcg', 'Morph Sulf_Cap 30mg M/R', 'Zomorph_Cap 200mg', 'Lamictal_Tab Disper 25mg', 'Phenobarb_Tab 15mg', 'Amantadine HCl_Cap 100mg', 'Ipinnia XL_Tab 4mg', 'Co-Beneldopa_Cap 25mg/100mg', 'Compact (Reagent)_Strips', 'Levothyrox Sod_Oral Soln 25mcg/5ml S/F', 'Estradiol_Patch 25mcg/24hrs (AMQ8)', 'Evorel 100_Patch', 'Ibandronic Acid_Tab 50mg', 'Nexplanon_Implant 68mg', 'Duloxetine HCl_Cap G/R 40mg', 'Vesicare_Tab 5mg', 'Neditol XL_Cap 2mg', 'Glutafin Select_G/F Fresh Loaf Brown(Cut', 'Peptamen Junior Advance_Liq', 'SunVit-D3 20 000_Tab', 'Meloxicam_Tab 15mg', 'Benzydamine HCl_Crm 3%', 'Betaxolol_Soln Eye Dps 0.5%', 'Timolol_Eye Dps 0.5% Ud', 'Cerumol_Ear Dps', 'Doublebase_Dayleve gel', 'Fludroxycortide_Tape 7.5cm x 20cm', 'Dovobet_Gel Applic', 'Clindamycin/Tretinoin_Gel 1%/0.025%', 'Clindamycin Phos_Lot 1%', 'Alum Chlor_Soln 20%', 'Zipzoc_Zn Ox Impregnated Medic Stkn', 'Lido HCl_Inj 1% 10ml Amp', 'K-Lite Long 10cm x 5.25m M/Layer Compres', 'K-Plus 10cm x 8.7m M/Layer Compress Band', 'K-Soft Long 10cm x 4.5m M/Layer Compress', 'K-ThreeC 10cm x 3m M/Layer Compress Band', 'Zetuvit E (Non-Ster) 10cm x 10cm Pfa Cel', 'Allevyn Adh 12.5cm x 22.5cm Wound Dress', 'Atrauman Ag 10cm x 20cm Wound Dress Soft', 'Durafiber 2cm x 45cm Wound Dress Proteas', 'Zetuvit Plus 10cm x 20cm Super-Absorb Dr', 'Zetuvit Plus 20cm x 40cm Super-Absorb Dr', 'CliniFast 5cm x 5m (Green) Stkntte Elasc', 'Gz Swabs 7.5cm x 7.5cm Ster', 'Unistik 3 Extra Lancets 2.0mm/21 Gauge', 'LoFric Non PVC Nelaton Male 8-22 (30-Pac', 'Class 1 M/M C/Kt B/Knee Stkn Elas Hose', 'Alissa Sod Chlor Top Irrig 0.9% 20ml', 'Hydromol Sod Pidolate Crm 2.5% 50g (App)', 'Thealoz Duo Sod Hyaluronate Eye Dps 10ml', 'Rochester_Clr Advantage Slc Sheath+Aloe', 'Pelican_Release Non-Sting Adh Remover A/', 'Coloplast_SenSura Soft Seal Bag Maxi Tra', 'Coloplast_Assura Lge Post-Op Bag + S/Bac', 'Pelican_Select Drnbl Convex Pouch Clr Ma', 'Convatec_Combihesive Natura Flx Flng 38m', 'Bisacodyl_Suppos 5mg', 'Metoprolol Tart_Tab 100mg', 'Dilzem XL 120_Cap 120mg', 'Beclomet/Formoterol_Inh 200/6 (120D) Dry', 'Oxazepam_Tab 10mg', 'Tranylcypromine Sulf_Tab 10mg', 'Rivastigmine_Cap 4.5mg', 'Cefalexin_Tab 500mg', 'Mebendazole_Tab Chble 100mg S/F', 'Sytron_Elix 190mg/5ml S/F', 'Cyanocobalamin_Tab 1mg M/R', 'Ibuprofen_Oral Susp 100mg/5ml', 'Aveeno_Skin Relief Moisturising Lot Shea', 'Menthol In Aq_Crm 1%', 'Etrivex_Shampoo 500mcg/g', 'Protopic_Oint 0.1%', 'Aknemycin Plus_Top Soln', 'Lactic Acid/Salic Acid_Paint 16.7/16.7%', 'Atrauman 7.5cm x 10cm Ktd Polyester Dres', 'Zetuvit E 10cm x 10cm Pfa Cellulose Dres', 'DuoDERM Ex Thin 10cm x 10cm Wound Dress', 'Iodoflex Paste 10g Wound Dress H/Gel Ste', 'Allevyn Adh 12.5cm x 12.5cm Wound Dress', 'Allevyn Gentle Border Lite 5cm x 5cm Wou', 'Urgotul 10cm x 10cm Wound Dress Soft Pol', 'Aquacel Ag+ Extra 10cm x 10cm Wound Dres', 'CliniFast 7.5cm x 3m (Blue) Stkntte Elas', 'KerraPro Heel Low Friction Product', 'KerraPro Sacrum/Ankle Low Friction Produ', 'Aspen_Sorbaderm Barrier Crm 28g', 'Medihoney_Barrier Crm', 'Ivermectin_Crm 10mg/g', 'C-View 12cm x 12cm VP Adh Film Dress', 'CliniSorb 10cm x 20cm Wound Dress Activa', 'Flaminal Forte 15g Tube Wound Dress Prot', 'Durafiber 15cm x 15cm Wound Dress Protea', 'Comfifast 10.75cm x 5m (Yellow)Stkntte E', 'K-Y Lubri Jelly', 'Cetraben Oint 450g', 'Kerraped All Purpose Boot Sml/Med/Lge/Ex', 'DuoDERM Ex Thin 7.5cm x 7.5cm Wound Dres', 'Kavendor_Comfizz Stoma Support Wear Jnr', 'Alverine Cit_Cap 120mg', 'Nizatidine_Cap 150mg', 'Asacol_MR Tab E/C 800mg', 'Normacol_Gran 62%', 'Anusol_Oint', 'Captopril_Tab 25mg', 'Aprovel_Tab 300mg', 'Eprosartan_Tab 600mg', 'Diltiazem HCl_Cap 240mg M/R', 'Angitil XL 300_Cap 300mg', 'Lacidipine_Tab 2mg', 'Ranolazine_Tab 750mg M/R', 'Pentoxifylline_Tab 400mg M/R', 'Dalteparin Sod_Inj 25 000u/ml 0.2ml Pfs', 'Fluvastatin Sod_Cap 20mg', 'Theophylline_Tab 200mg M/R', 'Spiolto Respimat_Inha2.5/2.5mcg(60D)+Dev', 'Qvar 50_Inha 50mcg (200 D)', 'Qvar 100_Autohaler 100mcg (200 D)', 'Fostair NEXThaler_Inh 200mcg/6mcg (120D)', 'Ebesque XL_Tab 300mg', 'Lithium Carb_Tab 250mg', 'Fluoxetine HCl_Oral Soln 20mg/5ml S/F', 'Fluoxetine HCl_Cap 10mg', 'Xenidate XL_Tab 36mg', 'Modafinil_Tab 100mg', 'Atomoxetine HCl_Cap 40mg', 'Nefopam HCl_Tab 30mg', 'Tapentadol HCl_Tab 50mg M/R', 'Tramadol HCl_Cap 50mg M/R', 'Tradorec XL_Tab 100mg', 'Rizatriptan_Tab 10mg', 'Zonisamide_Cap 25mg', 'Carbamazepine_Tab 400mg', 'Carbagen SR_Tab 200mg', 'Carbagen SR_Tab 400mg', 'APO-go PFS_Inf 5mg/ml 10ml Pfs', 'Co-Beneldopa_Cap 25mg/100mg M/R', 'Pramipexole_Tab 520mcg M/R', 'Stanek_Tab 100mg/25mg/200mg', 'Trihexyphenidyl HCl_Tab 5mg', 'Cefradine_Cap 250mg', 'Aciclovir_Oral Susp 200mg/5ml S/F', 'Oseltamivir Phos_Cap 75mg', 'Ins Humalog_100u/ml 10ml Vl', 'Empagliflozin_Tab 10mg', 'GlucoMen areo Sensor (Reagent)_Strips', 'WaveSense JAZZ (Reagent)_Strips', 'Estraderm MX 50_Patch', 'Testogel_Gel Sach 50mg/5g', 'Norgeston_Tab 30mcg', 'Mirena_Intra-Uterine System', 'Kentera_Transdermal Patch 3.9mg/24hrs', 'Lifestyle_G/F Bread Wte (Cut)', 'Instant Carobel_Pdr', 'Calogen Extra Shots_Emuls (2 Flav)', 'Fresubin 2kcal_Drink (6 Flav)', 'Ensure Shake_Oral Pdr Sach 57g (Choc)', 'Calcitriol_Cap 250ng', 'Calcitriol_Cap 500ng', 'PreserVision_Tab', 'Ocuvite_Lutein Cap', 'Celecoxib_Cap 100mg', 'Kenalog_Inj I/A I/M 40mg/ml 1ml Vl', 'Pyridostig Brom_Tab 60mg', 'Ciprofloxacin_Eye Dps 0.3%', 'Lumigan_Eye Dps 300mcg/ml 0.4ml Ud', 'Ganfort_Eye Dps 300mcg/5mg 0.4ml Ud', 'Azarga_Eye Dps 10mg/ml / 5mg/ml', 'Xalatan_Eye Dps 50mcg/ml', 'Trusopt_Eye Dps 2% 0.2ml Ud P/F', 'Piloc HCl_Eye Dps 2%', 'Budesonide_Aq Nsl Spy 64mcg (120 D)', 'Lansinoh Lanolin_Oint', 'Vaseline_Pure Petroleum Jelly', 'Elocon_Oint 0.1%', 'Isotretinoin_Gel 0.05%', 'Lido HCl_Inj 1% 2ml Amp', 'Allevyn 10.5cm x 13.5cm Wound Dress Poly', 'CliniFast 10.75cm x 3m (Yellow) Stkntte', 'U100 Syrg Sle Use 0.5ml + 12mm Needle-St', 'Unilet ComforTouch Lancets 0.375mm/28 Ga', 'Glucoject PLUS Lancets 0.20mm/33 Gauge', 'CarePoint Needles Pen Inj Screw On 8mm', 'CarePoint Needles Pen Inj Screw On 4mm', 'Neria Subcutaneous D/Delivery Acc 110cm', 'Coloplast Folysil X-Tra Male 12-22 10ml', 'Coloplast SpeediCath Male Size 10-14 (30', 'Coloplast SpeediCath Fle Size 10-14 (30-', 'Nova-T 380 Iucd', 'Optiflo R Cath Maint Soln 100ml', 'Cetraben Crm 1050g', 'Xailin Fresh 0.5% Carmellose Eye Dps 0.4', 'Coloplast_Simpla Plus Leg Bag Ster 500ml', 'Coloplast_SenSura Midi Closed Bag S/Cove', 'Welland_Freestyle Vie Flushable Closed P', 'Dansac_NovaLife 1 Open Soft Convex Midi', 'CliniMed_Clinishield Barrier Wipe', 'Convatec_Orabase Paste 30g', 'Maalox_Susp 195mg/220mg/5ml S/F', 'Kolanticon_Gel S/F', 'Colofac_Tab 135mg', 'Mintec_Cap E/C 0.2ml', 'Ranitidine HCl_Tab Eff 150mg', 'Omeprazole_Tab E/C 40mg', 'Mesalazine_Tab G/R 1.2g M/R', 'Pentasa_Gran Sach 2g M/R', 'Normacol Plus_Gran Sach 7g', 'Senna_Tab 15mg', 'Proctosedyl_Suppos', 'Glyceryl Trinit_Oint 0.4%', 'Digoxin_Oral Soln Paed 50mcg/ml', 'Furosemide_Oral Soln 50mg/5ml S/F', 'Spironol_Oral Susp 50mg/5ml', 'Co-Amilozide_Tab 5mg/50mg', 'Propranolol HCl_Oral Soln 40mg/5ml S/F', 'Moxonidine_Tab 400mcg', 'Fosinopril Sod_Tab 10mg', 'Ramipril_Oral Soln 2.5mg/5ml S/F', 'Olmesartan Medoxomil_Tab 20mg', 'Olmesartan Medoxomil_Tab 40mg', 'Olmetec_Tab 40mg', 'Valsartan/Hydchloroth_Tab 160mg/12.5mg', 'Aliskiren_Tab 150mg', 'Glyceryl Trinit_Tab 300mcg', 'Imdur_Durule 60mg', 'Diltiazem HCl_Cap 300mg M/R', 'Diltiazem HCl_Tab 120mg M/R', 'Diltiazem HCl_Cap 90mg M/R', 'Coracten SR_Cap 20mg', 'Enoxaparin_Inj 150mg/ml 0.8ml Pfs', 'Nu-Seals 75_Tab E/C 75mg', 'Prasugrel_Tab 10mg', 'Fluvastatin Sod_Cap 40mg', 'Easyhaler_Salbutamol Sulf 100mcg (200D)', 'Qvar 50 E-Breathe_Inha 50mcg (200 D)', 'Easyhaler_Beclomet 200mcg (200 D)', 'Flixotide_Accuhaler 100mcg (60 D)', 'Chlorphenamine Mal_Oral Soln 2mg/5ml S/F', 'Piriton_Syr 2mg/5ml', 'Temazepam_Oral Soln 10mg/5ml S/F', 'Ebesque XL_Tab 50mg', 'Sulpiride_Tab 400mg', 'Imipramine HCl_Tab 25mg', 'Fluoxetine HCl_Cap 60mg', 'Mirtazapine_Oral Soln 75mg/5ml S/F', 'Xenidate XL_Tab 54mg', 'Xenidate XL_Tab 27mg', 'Atomoxetine HCl_Cap 80mg', 'Paracet/Dihydrocodeine_Tab 500mg/30mg', 'Remedeine_Tab', 'Remedeine Fte_Tab', 'Tapentadol HCl_Tab 100mg M/R', 'Tapentadol HCl_Tab 200mg M/R', 'Fentanyl_Transdermal Patch 25mcg/hr', 'Durogesic DTrans_T/Derm Patch 50mcg', 'Matrifen_Patch 75mcg/hr', 'BuTrans_Transdermal Patch 20mcg/hr', 'Morph Sulf_Tab 15mg M/R', 'Morph Sulf_Cap 100mg M/R', 'Morph Sulf_Cap 60mg M/R', 'Tramadol HCl_Tab 150mg M/R', 'Tramadol HCl_Tab 200mg M/R', 'Tramadol HCl_Tab 50mg M/R', 'Tradorec XL_Tab 200mg', 'Almotriptan_Tab 12.5mg', 'Maxalt_Tab 10mg', 'Lacosamide_Tab 200mg', 'Levetiracetam_Tab 750mg', 'Carbamazepine_Oral Liq 100mg/5ml S/F', 'Tegretol_Tab 400mg', 'Gabapentin_Oral Soln 50mg/ml S/F', 'Sod Valpr_Oral Soln 200mg/5ml', 'Madopar CR_Cap', 'Nicotine_Transdermal Patch 21mg/24hrs', 'Co-Amoxiclav_Tab 250mg/125mg', 'Co-Amoxiclav_Susp 250mg/62mg/5ml', 'Cefradine_Cap 500mg', 'Minocycline HCl_Tab 50mg', 'Erythromycin_Ethylsuc Susp 125mg/5ml', 'Colistimeth Sod_Pdr For Neb 1mega u', 'Chloroquine Phos_Tab 250mg', 'Mebendazole_Oral Susp 100mg/5ml', 'Ins Humulin I_100u/ml 10ml Vl', 'Gliclazide_Tab 60mg M/R', 'Janumet_Tab 50mg/1g', 'Linagliptin/Metformin_Tab 2.5mg/1g', 'Dapagliflozin/Metformin_Tab 5mg/1g', 'Canagliflozin_Tab 300mg', 'Levothyrox Sod_Oral Soln 50mcg/5ml S/F', 'Dexameth_Tab 500mcg', 'Zumenon_Tab 2mg', 'Oestro Conj_Tab 1.25mg', 'Bonviva_Tab 150mg F/C', 'Alendronic Acid/Colecal_Tab 70mg/70mcg', 'Canesten_Combi Pess 500mg/Crm 2%', 'Metronidazole_Vag Gel 0.75%', 'Evra_Patch', 'Zelleta_Tab 75mcg', 'Etonogestrel_Implant 68mg', 'Flavoxate HCl_Tab 200mg', 'Lyrinel XL_Tab 5mg', 'Lyrinel XL_Tab 10mg', 'Caverject_Inj D/Chamber 10mcg Pfs Cart', 'Goserelin Acet_Implant 3.6mg Pfs', 'Prostap SR_DCS Inj 3.75mg Dil + Pfs', 'Folic Acid_Oral Soln 2.5mg/5ml S/F', 'SodiClor_Oral Soln 1.46g/5ml', 'Sod Chlor_I/V Inf 0.9% 10ml Amp', 'Juvela_G/F W/F Cornflakes', 'Juvela_G/F Loaf Wte (Cut)', 'Juvela_G/F Fibre Loaf Brown (Ucut)', 'Jevity Plus_Liq', 'Foodlink_Complete Food Drink+Fibre (Van)', 'Pro-Cal_Shot Liq (Neutral)', 'Foodlink_Complete S/Pack Pdr', 'Sandocal 1000_Tab Eff', 'Phosex_Tab 1g (250mg Calc)', 'Colecal + Calc Phos_Pdr Sach 800u/3.1g', 'Adcal-D3_Dissolve Tab Eff 1.5g/400u(Lem)', 'Calfovit D3_Pdr Sach 3.1g/800u', 'Valupak_Multivit Tab OAD', 'Similac Alimentum_Pdr', 'Ibuprofen_Tab 600mg', 'Ibuprofen_Orodisper Tab 200mg S/F', 'Mefenamic Acid_Cap 250mg', 'Dexameth_Eye Dps 0.1% 0.5ml Ud P/F', 'Tobradex_Eye Dps 3mg/ml / 1mg/ml', 'Ciclosporin_Eye Dps 0.1% 0.3ml Ud', 'Combigan_Eye Dps', 'Bimatoprost/Timolol_EyeDps300mcg/5mg 0.4', 'Hypromellose_Eye Dps 1%', 'Doublebase_Emollient Bath Add', 'Doublebase_Emollient Wash Gel', 'Betameth Val/Neomycin Sulf_Oint0.1/0.5%', 'Nerisone Fte_Oily Crm 0.3%', 'Hydrocort But_Crm 0.1%', 'Locoid Lipocream_Crm 0.1%', 'Protopic_Oint 0.03%', 'Salic Acid/Lactic Acid_Gel 11%/4%', 'Flamazine_Crm 1%', 'Loceryl_Nail Lacquer Kit 5% 5ml', 'Alum Chlor_Spy 20% 30ml', 'Havrix Jnr Monodose_Vac 720u/0.5ml Pfs', 'Versatis_Medic Plastr 5%', 'Exorex_Hair & Body Shampoo', 'Neutrogena_T/Gel Shampoo For Dry Hair', 'OpSite Plus 6.5cm x 5cm VP Adh Film Dres', 'Cosmopor E 5cm x 7.2cm Adh Dress Pfa', 'Flaminal Forte 50g Tube Wound Dress Prot', 'KerraMaxCare 10cm x 22cm Wound Dress Pro', 'Aquacel Ag+ Extra 5cm x 5cm Wound Dress', 'Cutimed Sorbact Swab 7cm x 9cm Gz Dress', 'Hypafix 10cm x 10m Surg Adh Tape Perm No', 'OneTouch Delica Lancets 0.32mm/30 Gauge', 'Humapen Savvio Blue 3ml 1u (1-60u) Hypod', 'NovoPen 5 Silver 3ml 1u (1-60u) Hypod Re', 'Coloplast SpeediCath Compact Male OneSiz', 'Peak Flow Meter Unspec Stnd Range Hand H', 'Clement Clarke Low Range Peak Flow Meter', 'Clement Clarke AirZone Stnd Range Peak F', 'Optiflo G Cath Maint Soln 100ml', 'Fresenius Ster Water Top Irrig 1L', 'Steripod Sod Chlor Top Irrig 0.9% 20ml', 'Zeroguent Crm', 'Zeroneum Bath Add', 'Mandanol Sod Chlor 0.9% Nsl Dps', 'PF Drops 0.5% Carmellose Eye Dps 10ml', 'Aderma Dermal Pad Heel Std Low Friction', 'Coloplast_Simpla Plus Night Bag + 120cm', 'Beambridge_Male Funnel', 'Coloplast_Elasctd Leg Bag Strap (Washabl', 'ProSys_Acubond Strips', 'Respond_OstoMart Astoa Adh Flange Extend', 'Coloplast_Brava Adh Remover Spy 50ml', 'Oakmed_EasyLease No Sting Medic Adh Remo', 'Respond_OstoMart OstoPEEL Blkberry NoSti', 'Respond_OstoMart OstoPEEL Mint No Sting', 'Salts_WipeAway Plus No-Sting Adh Remover', 'C D Medical_Peel Easy No Sting Adh Remov', 'Respond_HiLINE CoverSURE Custom Made Pou', 'Vanilla Blush_Ladies Brief Mixed Size 6-', 'Respond_OstoMart Cool Comfort Unisex Gmt', 'Respond_HiLINE Stch Unisex Ostomy Belt 1', 'Respond_HiLINE EZ-Wrap Unisex Hernia Sup', 'Coloplast_Sensura Mio Midi Clsd Bag + Fl', 'Respond_OstoMart OstoMist Blackberry P/S', 'Respond_OstoMart OstoMist OdourNeutralis', 'Pelican_Select Drnbl Convex Pouch Clr St', 'Dansac_Soft Paste', 'Coloplast_Derma-Gard Skin Wipes', 'Coloplast_Brava Skin Barrier Wipe', 'Convatec_Orahesive Pdr', 'Convatec_Combihesive Natura Flx Flng 45m', 'Manevac_Gran', 'Dronedarone HCl_Tab 400mg', 'Bedranol S.R._Cap 80mg (Sandoz)', 'Clonidine HCl_Tab 100mcg', 'Nitromin_P/Spy 400mcg (200 D)', 'Istin_Tab 10mg', 'Enoxaparin_Inj 100mg/ml 0.4ml Pfs', 'Sinthrome_Tab 1mg', 'Lipitor_Tab 20mg', 'Supralip 160_Tab 160mg', 'Qvar 50_Autohaler 50mcg (200 D)', 'Budesonide_Inh Soln 500mcg/2ml Ud Vl', 'Pholcodine_Linct Strong 10mg/5ml S/F', 'Melatonin_Cap 2mg', 'Chlordiazepox HCl_Cap 10mg', 'Ebesque XL_Tab 200mg', 'Chlorpromazine HCl_Tab 100mg', 'Amitriptyline HCl_Oral Soln 25mg/5ml S/F', 'Venlafaxine_Cap 75mg M/R', 'Stugeron_Tab 15mg', 'Tapentadol HCl_Tab 50mg', 'Dihydrocodeine Tart_Tab 90mg M/R', 'Morph Sulf_Cap 150mg M/R', 'Paramax_Tab', 'Maxalt_Melt Oral Lyophilisate Tab 10mg', 'Sumatriptan_Inj 6mg/0.5ml Pf Pen', 'Selegiline HCl_Tab 10mg', 'Pramipexole_Tab 3.15mg M/R', 'Pramipexole_Tab 2.62mg M/R', 'Ins Humalog Mix 50_KwikPen 100u/ml 3mlPf', 'Acarbose_Tab 50mg', 'OneTouch Select Plus (Reagent)_Strips', 'Diastix (Reagent)_Strips', 'Betameth Sod Phos_Tab Solb 500mcg', 'Zumenon_Tab 1mg', 'Millinette_Tab 20/75mcg', 'Ovranette_Tab 150mcg/30mcg', 'Solifenacin/Tamsulosin_Tab 6mg/400mcgM/R', 'Detrusitol XL_Cap 4mg', 'Alprostadil_Urethral Stick 1mg', 'Jevity_Liq', 'Cacit_Tab Eff 500mg', 'Leflunomide_Tab 10mg', 'Acular_Ophth Soln 0.5%', 'Xylomet HCl_Nsl Dps 0.1%', 'Balneum_Bath Oil 84.75%', 'Tacrolimus_Oint 0.03%', 'Dalacin T_Top Soln 1% + Applic', 'Clotrimazole_Soln 1%', 'Lyclear_Dermal Crm 5%', 'Dimeticone_Lot 4%', 'Hirudoid_Gel 0.3%', 'Fendrix_Vac 40mcg/ml 0.5ml Pfs', 'Imuvac_Vac 0.5ml Pfs', 'Lido HCl_Inj 1% 5ml Amp', 'Neutrogena_T/Gel Shampoo For Greasy Hair', 'E45_Emollient Shower Crm', 'Tegaderm + Pad 5cm x 7cm VP Adh Film Dre', 'Allevyn Gentle Border 10cm x 20cm Wound', 'Allevyn Gentle 10cm x 10cm Wound Dress S', 'Flaminal Hydro 50g Tube Wound Dress Prot', 'CliniFast Vest L/S 2-5 yrs Elasctd Visco', 'CliniFast Leggings 2-5 yrs Elasctd Visco', 'U100 Syrg Sle Use 1ml + 12mm Needle-Ster', 'GlucoRx FinePoint Ultra Needles Pen Inj', 'Hollister VaPro Plus Male 40cm 12-14ml (', 'Mediven Ulcer Kit Stnd Stkn + Compress L', 'A.S Saliva Orthana Spy 50ml (App)', 'Mediven For Men Class 2 B/Knee Closed To', 'Artelac Rebalance Eye Dps', 'Coloplast_Cath Valve', 'Coloplast_Simpla Profile Night Bag + 120', 'Beambridge_Bridge Saddle Urin', 'Sterculia_Gran 62% Sach 7g G/F', 'Irbesartan/Hydchloroth_Tab 300mg/25mg', 'Olmesartan Medoxomil_Tab 10mg', 'Angitil SR 90_Cap 90mg', 'Ciprofibrate_Tab 100mg', 'Codeine Phos_Tab 60mg', 'Morph Sulf_Inj 10mg/1ml Amp', 'Ethosuximide_Oral Soln 250mg/5ml', 'Azilect_Tab 1mg', 'Nicotine_Transdermal Patch 25mg/16hrs', 'Aciclovir_Tab Disper 400mg', 'Ins Humalog Mix 25_100u/ml 3ml Cart', 'Medroxyprogest Acet_Tab 10mg', 'Flotros_Tab 20mg', 'Calogen_Emuls (Neutral)', 'Glutafin_G/F W/F Spiral', 'Fresubin 2kcal Fibre_Drink (6 Flav)', 'Ascorbic Acid_Tab 100mg', 'Febuxostat_Tab 120mg', 'Dexameth_Eye Dps 0.1% 0.4ml Ud P/F', 'Salic Acid_Soln 26%', 'Chlorhex Glucon_Soln 4%', 'Cutimed Sorbact Swab 4cm x 6cm Gz Dress', 'Xailin HA Sod Hyaluronate 0.2% Eye Dps 1', 'Dansac_NovaLife 1 Open Soft Convex Maxi', 'Ichthopaste (6/2%) 7.5cm x 6m Zn Paste &', 'KerraMaxCare 10cm x 10cm Wound Dress Pro', 'KerraMaxCare 20cm x 22cm Wound Dress Pro', 'KerraMaxCare 20cm x 30cm Wound Dress Pro', 'KerraMaxCare 20cm x 50cm Wound Dress Pro', 'Durafiber Ag 10cm x 10cm Wound Dress Pro', 'CliniFast Vest L/S 6-24 Months Elasctd V', 'Unspecified Surg Adh Tape 2.5cm x 5m Per', 'Limb LimbO Adult 1/2 Leg Nor Build Water', 'CliniSupplies_ProSys Leg Bag Ster 750ml', 'CliniSupplies_ProSys Night Bag Nrv + 90c', 'Pelican_Select Closed Convex Pouch Opqe', 'Welland_FreeStyle Vie Convex Drnbl Pch M', 'Sod Chlor_Inh Soln 0.9% 2.5ml Ud Amp', 'Instillagel_Gel 11ml Pfs', 'Ko-Flex 10cm x 6m M/Layer Compress Banda', 'Actico 10cm x 6m Short Stch Compress Ban', 'Actico 8cm x 6m Short Stch Compress Band', 'Eclypse 10cm x 10cm Pfa Cellulose Dress', 'Eclypse 15cm x 15cm Pfa Cellulose Dress', 'Eclypse 20cm x 30cm Pfa Cellulose Dress', 'Tegaderm + Pad 9cm x 25cm VP Adh Film Dr', 'Eclypse Border 15cm x 15cm Pfa Cellulose', 'Advapore 8cm x 10cm Adh Dress Pfa', 'Advadraw Spiral 0.5cm x 40cm Wound Dress', 'DuoDERM Ex Thin 9cm x 15cm Wound Dress H', 'Mepilex Border 17cm x 20cm Wound Dress S', 'Allevyn Gentle Border Sacrum 16.8x17.1cm', 'CliniSorb 10cm x 10cm Wound Dress Activa', 'Urgotul 15cm x 20cm Wound Dress Soft Pol', 'Urgotul SSD 15cm x 20cm Wound Dress Soft', 'Urgotul 15cm x 15cm Wound Dress Soft Pol', 'Flaminal Hydro 15g Tube Wound Dress Prot', 'Aquacel Ag 15cm x 15cm Wound Dress Prote', 'Aquacel Extra 5cm x 5cm Wound Dress Prot', 'Aquacel Ag Extra 5cm x 5cm Wound Dress P', 'Aquacel Ag Extra 15cm x 15cm Wound Dress', 'Aquacel Ag+ Extra 15cm x 15cm Wound Dres', 'Renasys-F Foam Dress Kit + Soft Port Sml', 'Kendall Kerlix AMD Gauze 11.4cm x 3.7m T', 'CliniFast 17.5cm x 1m (Beige) Stkntte El', 'Limb Limbo Adult 1/2 Leg Lge Build Water', 'CliniFix Tube Holder 110mm x 25mm Cath A', 'Acti-Glide Compress Hose Applic System', 'Optiflo S Cath Maint Soln 100ml', 'Uro-Tainer NaCl 100ml Cath Maint Soln', 'JuxtaLite Compress System', 'KerraPro 10 x 10 x 0.3cm Sheet Low Frict', 'CliniSupplies_ProSys Night Bag Lever Out', 'Convatec_C/Sive Natura Urost Pch Accu Ta', 'Hollister_Moderma Flex Flextend Urost Ba', 'Spasmonal_Cap 60mg', 'Dicycloverine HCl_Tab 10mg', 'Mesalazine_Suppos 500mg', 'Ispag Husk_Gran Eff Sach 3.5g Orange S/F', 'Half Beta-Prograne MR_Cap 80mg', 'Quinapril HCl_Tab 40mg', 'Irbesartan/Hydchloroth_Tab 300mg/12.5mg', 'Valsartan_Tab 320mg', 'Glyceryl Trinit_Patch 5mg/24hrs', 'Glyceryl Trinit_Sub A/Spy 400mcg (180D)', 'Istin_Tab 5mg', 'Diltiazem HCl_Tab 90mg M/R', 'Cilostazol_Tab 50mg', 'Enoxaparin_Inj 100mg/ml 1ml Pfs', 'Bezalip-Mono_Tab 400mg', 'Formoterol Fumar_Pdr For Inh 12mcg(60 D)', 'Flixotide_Evohaler 50mcg (120 D)', 'Atarax_Tab 25mg', 'Pholcodine_Linct 5mg/5ml S/F', 'Venlalic XL_Tab 150mg', 'Kapake_Cap 30mg/500mg', 'Transtec_T/Derm Patch 70mcg/hr (40mg)', 'Mst Continus_Tab 5mg', 'Morphgesic SR_Tab 30mg', 'Maxitram SR_Cap 100mg', 'Oxcarbazepine_Tab 300mg', 'Buccolam_Oromuc Soln 10mg/2ml Oral Pfs', 'Pramipexole_Tab 350mcg', 'Tetrabenazine_Tab 25mg', 'Azithromycin_Cap 250mg', 'Ins Apidra_100u/ml 10ml Vl', 'Ins Apidra_100u/ml 3ml Cart', 'Ins Humulin M3_100u/ml 10ml Vl', 'Abasaglar_100u/ml 3ml Cart', 'Repaglinide_Tab 2mg', 'Dexameth Phos_Inj 3.3mg/ml 1ml Amp', 'Prempak-C_C/Pk Tab 1.25mg/150mcg', 'Clindamycin Phos_Vag Crm 2% + Applic', 'Propiverine HCl_Tab 15mg', 'Caverject_Inj Pack (20mcg Vl + Dil)', 'PaediaSure Plus_Liq (3 Flav)', 'Ensure Shake_Oral Pdr Sach 57g (Vanilla)', 'Phos-Sandoz_Tab Eff', 'Zn Sulf Monohyd_Eff Tab 125mg', 'Vita-E_Gels 75u', 'Diclof Sod E/C /Misopros_Tab 50mg/200mcg', 'Depo-Medrone/Lidoc_Inj 40/10mg/ml 1ml Vl', 'Myocrisin_Inj 100mg/ml 0.5ml Amp', 'Methocarbamol_Tab 750mg', 'Gentamicin Sulf_Ear/Eye Dps 0.3%', 'Predsol_Ear/Eye Dps 0.5%', 'Acetazolamide_Cap 250mg M/R', 'Timoptol_Eye Dps 0.25% W/V', 'Isopto_Plain Eye Dps 0.5%', 'Blephaclean_Eye Lid Wipe', 'Sebco_Oint', 'Dianette_Tab 2mg/35mcg', 'Xylocaine + Adren_Inj 1% 20ml Vl', 'Coloplast SpeediCath Male Size 16-18 (30', 'Gelclair Sach 15ml', 'Cetraben Crm 50g', 'Peristeen Rectal Cath (10-Pack)', 'Lumecare Carbomer Eye Gel 0.2%', 'ProSys_Independence Adh Remover Aero 50m', 'Coloplast_Conveen Prep', 'Enoxaparin_Inj 150mg/ml 1ml Pfs', 'Lacosamide_Tab 100mg', 'Lacosamide_Tab 150mg', 'Doxycycline_Cap 40mg M/R', 'Levonelle_Tab 1.5mg', 'Leuprorelin Acet_Inj 3.75mg Dil + Pfs', 'Clobetasol/Neomycin/Nystatin_Crm', 'Nutilis_Food Thickener Pdr', 'BD Viva Needles Pen Inj Screw On 5mm/31', 'Respond_OstoMart OstoZyme OdourNeutralis', 'Bisacodyl_Rectal Soln 2.74mg/ml', 'Chlortalidone_Tab 50mg', 'Airomir_Autohaler 100mcg (200 D) CFF', 'Qvar 100 E-Breathe_Inha 100mcg (200 D)', 'Loprazolam Mesil_Tab 1mg', 'Fluvoxamine Mal_Tab 100mg', 'Oxycodone HCl_Tab 10mg M/R', 'Fentanyl_Transdermal Patch 100mcg/hr', 'Tramadol HCl_Tab 100mg M/R', 'Paramax_Pdr Sach S/F', 'Epilim Chronosphere_Gran Sach 1000mg M/R', 'Ins Humalog_KwikPen 200u/ml 3ml Pf Pen', 'Ins Degludec_200u/ml 3ml Pf Pen', 'Dulaglutide_Inj 1.5mg/0.5ml Pf Dev', 'Bydureon_Inj 2mg Pdr + Dil Pf Pen P/R', 'Estradiol_Gel 0.06% 80g (64 Applic)', 'Flomaxtra XL_Tab 400mcg P/R', 'Tolterodine_Cap 4mg M/R', 'Vardenafil_Tab 10mg', 'Enshake_Pdr Sach 96.5g (Banana)', 'Calc Carb_Tab Eff 1.25g', 'Vit B Co_Tab', 'Ascorbic Acid_Tab 500mg', 'Colecal_Cap 400u', 'Colecal_Cap 10 000u', 'Desunin_Tab 4 000u', 'Etoricoxib_Tab 30mg', 'Etodolac_Tab 600mg M/R', 'Piroxicam_Orodisper Tab 20mg S/F', 'Methotrexate_Inj 10mg/0.2ml PF Dev', 'Metoject_PEN Inj 20mg/0.4ml Pf Pen', 'Metoject_PEN Inj 25mg/0.5ml Pf Pen', 'Typherix_Vac 0.5ml Pfs', 'LoFric Non PVC Nelaton Fle 20cm 8-18 (30', 'Hollister_Adapt Lubri Deod Sach', 'Coloplast_Brava Lubricating Deod 240ml', 'Coloplast_SenSura Soft Seal Maxi Split S', 'Mesalazine_Tab E/C 400mg', 'Ispag Husk_Gran Sach 3.5g G/F', 'Anusol HC_Suppos', 'Nitrolingual_P/Spy 400mcg (200 D)', 'Coracten XL_Cap 30mg', 'Tinzaparin Sod_Inj 20 000u/ml 0.9ml Pfs', 'Tinzaparin Sod_Inj 20 000u/ml 0.5ml Pfs', 'Telfast 180_Tab 180mg', 'Amisulpride_Tab 400mg', 'Solpadol_Capl 30mg/500mg', 'Longtec_Tab 60mg M/R', 'Tramadol HCl_Cap 200mg M/R', 'Brivaracetam_Tab 50mg', 'Carbamazepine_Tab 400mg M/R', 'Oxcarbazepine_Tab 600mg', 'Madopar_Tab Disper 100mg/25mg', 'Naltrexone HCl_Cap 4.5mg', 'Demeclocycline HCl_Cap 150mg', 'Metronidazole_Tab 200mg', 'Ofloxacin_Tab 200mg', 'Ins Tresiba_FlexTouch 100u/ml 3ml Pf Pen', 'Exenatide_Inj 2mg Pdr + Dil PF Dev P/R', 'Medi-Test Glucose (Reagent)_Strips', 'Sustanon_Inj 250mg/1ml Amp', 'DesmoMelt_Oral Lyoph 240mcg', 'Levest 150/30_Tab', 'Betmiga_Tab 50mg M/R', 'Decapeptyl SR_Inj 11.25mg Vl + Dil', 'Spatone Orig_Sach 20ml', 'Mag Aspartate (Mag 10mmol)_Oral Pdr Sach', 'Colecal & Calc_Tab 400u/1.5g', 'Colecal_Oral Soln 25 000u/ml 1ml Ud S/F', 'Aviticol_Cap 20 000u', 'SMA_Lf Pdr', 'Arthrotec 75_Tab', 'Metoject_PEN Inj 15mg/0.3ml Pf Pen', 'Salicylic Acid/Mucopolysac_Crm 2%/0.2%', 'Ilube_Eye Dps 5%', 'Artificial Saliva_Spy 50ml', 'Betameth Val/Clioquinol_Crm 0.1%/3%', 'Synalar_Crm 1/4 Strgh 0.00625%', 'Treclin_Gel 1%/0.025%', 'Azelaic Acid_Crm 20%', 'VAQTA_Vac Paed 50u/ml 0.5ml Pfs', 'Thick & Easy_Food Thickener Pdr Sach 9g', 'Resource_ThickenUp Pdr Sach 4.5g', 'Nutilis Clear_Pdr', 'Nurse It Ster Dress Pack', 'kliniderm Foam Slc Border 10cm x 10cm Wo', 'kliniderm Foam Slc Border 12.5cmx12.5cm', 'kliniderm Foam Slc Border 15cm x 15cm Wo', 'Atrauman Ag 5cm x 5cm Wound Dress Soft P', 'Actilite 10cm x 10cm Manuka Honey Ster G', 'Bard Biocath Aquamatic H/Gel Foy P-Fill', 'Medicareplus Low Range Peak Flow Meter H', 'Aquamax Crm (Appl)', 'Rochester_Freedom Transfix Slc Sheath St', 'Bard_Uriplan Leg Bag 30cm Inlet Tube 500', 'Bard_Uriplan Overnight Drain Bag 2L', 'Coloplast_Assura Insp Maxi Closed Bag Tr', 'Coloplast_SenSura Maxi Drnbl Bag Transpt', 'Coloplast_Brava Skin Barrier Crm 60ml', 'Medicareplus_Medi Derma-S Barrier Crm 90', 'Medicareplus_Medi Derma-S Non Sting Medi', 'Medicareplus_Medi Derma-S N/Sting Medic', 'Fybogel_H/Fbre Gran Eff Sach3.5g OrngS/F', 'Celiprolol HCl_Tab 200mg', 'Isosorbide Mononit_Tab 40mg M/R', 'Zuclopenth HCl_Tab 25mg', 'Tylex_Cap 30mg/500mg', 'Stalevo_Tab 200mg/50mg/200mg', 'Co-Amoxiclav_Susp 250mg/62mg/5ml S/F', 'Estradiol_Patch 50mcg/24hrs (AMQ8)', 'Sandrena_Gel Sach 1mg/1g', 'Alendronic Acid_Oral Soln 70mg/100ml S/F', 'Mercilon_Tab', 'Cyprote Acet_Tab 50mg', 'Vit A & D_Cap', 'Colecal_Tab 10 000u', 'Depo-Medrone_Inj 40mg/ml 2ml Vl', 'Simple_Eye Oint', 'Selenium Sulfide_Shampoo 2.5%', 'Zostavax_Vac Pdr + 0.5ml Pfs', 'Mepilex Border Lite 10cm x 10cm Wound Dr', 'Allevyn Gentle Border Multisite 17.1x17.', 'Leukostrip Skin Closure Strips Ster Surg', 'Cathejell Mono Lubricant Gel 8.5g', 'Artelac Nighttime Carbomer Eye Gel', 'Coloplast_Brava Adh Remover Wipes', 'Dansac_Nova 1 Maxi E/Fld Soft Drnbl Bag', 'Convatec_Combihesive Natura Stomahesive', 'Lido/Hydrocort Acet_Oint 5%/0.275%', 'Terazosin HCl_Tab 5mg', 'Combivent UDVs_Neb Soln Ud 2.5ml', 'Galantamine_Cap 16mg M/R', 'Galantamine_Cap 24mg M/R', 'Ins Degludec_100u/ml 3ml Cart', 'OneTouch Vita (Reagent)_Strips', 'Sod Bicarb_Tab 600mg', 'Methylpred Acet_Inj 40mg/ml 3ml Vl', 'Nasacort_Nsl Spy 55mcg (120D)', 'Lido HCl/Prilocaine_Crm 2.5%/2.5%', 'Thick & Easy_Clear Pdr', 'Teleflex Liquick Base Male 10-16 (60-Pac', 'Hyabak UD Sod Hyaluronate Eye Dps 0.4ml', 'Colestyramine_Pdr Sach 4g', 'Scopoderm_Patch 1mg/72hrs', 'Ondansetron HCl_Oral Lyophil Tab 4mg S/F', 'Paracet_Oral Susp Paed 120mg/5ml', 'Targinact_Tab 10mg/5mg M/R', 'Rotigotine_Transdermal Patch 8mg/24hrs', 'Adcortyl_Inj I/A I/D 10mg/ml 1ml Amp', 'Convatec_Consecura L/Prof Urost Pch Accu', 'Loperamide HCl_Orodisper Tab 2mg S/F', 'Isosorbide Mononit_Tab 40mg', 'Isosorbide Mononit_Cap 50mg M/R', 'Isosorbide Mononit_Cap 40mg M/R', 'Diltiazem HCl_Cap 360mg M/R', 'Dilzem SR 60_Cap 60mg', 'Dilzem SR 120_Cap 120mg', 'Dilzem XL 180_Cap 180mg', 'Dilzem XL 240_Cap 240mg', 'Zemtard 240 XL_Cap 240mg', 'Tinzaparin Sod_Inj 20 000u/ml 0.7ml Pfs', 'Colestipol HCl_Pdr Sach 0.2% 5g', 'Clomethi_Cap 192mg', 'Quetiapine_Tab 200mg M/R', 'Quetiapine_Tab 300mg M/R', 'Prozac_Cap 20mg', 'Ondansetron HCl_Tab 8mg', 'Buccastem M_Tab 3mg', 'Fentanyl_Transdermal Patch 50mcg/hr', 'Fentanyl_Transdermal Patch 75mcg/hr', 'Dhc Continus_Tab 90mg', 'Dhc Continus_Tab 120mg', 'Meptazinol HCl_Tab 200mg', 'Mst Continus_Tab 60mg', 'Mst Continus_Tab 100mg', 'Mst Continus_Tab 15mg', 'Paracet/Metoclopramide HCl_Tab 500mg/5mg', 'Pregabalin_Cap 225mg', 'Ropinirole HCl_Tab 4mg M/R', 'Rivastigmine_Skin Patch 4.6mg/24hrs', 'Metronidazole_Oral Susp 200mg/5ml', 'Contour TS (Reagent)_Strips', 'Hydrocort_Tab 20mg', 'Medroxyprogest Acet_Tab 5mg', 'Lizinna_Tab', 'Oxybutynin HCl_Tab 3mg', 'Degarelix_Inj 80mg Vl + Dil', 'Juvela_G/F Crispbread', 'Maxijul Super Solb_Pdr', 'Nutramigen 1 + LGG_Pdr', 'Nutramigen 2 + LGG_Pdr', 'Glutafin_G/F W/F Lasagne', 'Glutafin_G/F W/F Pasta Shell', 'Forticreme Complete_Dessert (Vanilla)', 'Forticreme Complete_Dessert (Banana)', 'Forticreme Complete_Dessert (F/Fruits)', 'Fortisip Compact_Liq (8 Flav)', 'Cinacalcet HCl_Tab 30mg', 'Plenachol_Cap 20 000u', 'InVita D3_Oral Soln 25 000u/1ml', 'SMA_Gold Prem 2 Catch-up For Pdr', 'Diclofenac Sod_Suppos 100mg', 'Diclofenac Sod_Tab E/C 25mg', 'Levobunolol HCl_Eye Dps 0.5% 0.4ml Ud', 'Timoptol-LA_Ophth Gel-Forming Soln 0.5%', 'Acetylcy_Eye Dps 5%', 'Sod Chlor_Eye Oint 5%', 'Urea Hydrogen Per_Ear Dps 5%', 'Azelastine HCl_Aq Nsl Spy 140mcg (136 D)', 'Hydrocort_Crm 2.5%', 'Coal Tar_Soln 5% Cutaneous Emuls', 'Polyfax_Oint', 'Hospilite 10cm x 4.5m Cott Polyam & Elas', 'Hospilite 15cm x 4.5m Cott Polyam & Elas', 'Viscopaste Pb7 10% 7.5cm x 6m Zn Paste B', 'K-Lite 15cm x 4.5m Ktd Elastomer & Visco', 'Hospiform 10cm x 4m Conform Syn Band', 'Coban 2 Lite M/Layer Compress Bandaging', 'Eclypse Adherent 20cm x 30cm Pfa Cellulo', 'Xupad Dress Pad Ster 10cm x 20cm', 'Xupad Dress Pad Ster 20cm x 40cm', 'Sorbsan Ribbon (+ Probe) 40cm Wound Dres', 'Mepilex Border 10cm x 20cm Wound Dress S', 'Aquacel 5cm x 5cm Wound Dress Protease M', 'Aquacel 10cm x 10cm Wound Dress Protease', 'Comfifast 10.75cm x 3m (Yellow)Stkntte E', 'Comfifast MultiStretch 2-way Stch 10.75c', 'Clinipore 1.25cm x 5m Surg Adh Tape Perm', 'NovoFine Autocover Pen Inj Screw On 8mm', 'Mylife Clickfine AutoProtect Pen Inj Scr', 'Bard StatLock Stabilisation Dev For All', 'Hollister Advance Intermit Male 8-18 (25', 'Rochester Hydrosil Gripper Male Size 10-', 'LoFric Sense Nelaton Fle 15cm 8-14 (30-P', 'Irriclens Sod Chlor Top Irrig A/Spy 240m', 'Octenilin Top Irrig 350ml Btl', 'Flexitol 10% Urea Crm 150g', 'ReplensMD Vag Moist 12D Pack', 'PF Drops 1% Carmellose Eye Dps 10ml', 'Blumont Carbomer 0.2% Eye Gel', 'Bard_Uriplan Leg Bag Direct Inlet 500ml', 'Bard_Uriplan Leg Bag 10cm Inlet Tube 500', 'Salts_SecuPlast Hydro Aloe', 'Dansac_Non Sting Adh Remover A/Spy 50ml', 'Dansac_EasiSpray Adh Remover 50ml', 'Opus_Lift Plus Medical Adh Remover A/Spy', 'Dansac_Nova Colo Bag Clr S/H 20-60mm', 'Pelican_Select Drnbl Convex Pouch Clr Mi', 'Convatec_Combihesive Natura Skin Barrier', 'Maalox Plus_Susp S/F', 'Asacol_Suppos 500mg', 'Micolette_Enem 5ml', 'Glyceryl Trinit_Sub A/Spy 400mcg (200D)', 'Elantan LA 25_Cap 25mg', 'Tinzaparin Sod_Inj 20 000u/ml 0.8ml Pfs', 'Crestor_Tab 10mg', 'Simvastatin_Oral Susp 40mg/5ml S/F', 'Fexofenadine HCl_Tab 30mg', 'Promethazine HCl_Tab 10mg', 'Co-Codamol_Cap 15mg/500mg', 'Co-Codamol_Tab Eff 15mg/500mg S/F', 'Paracet_Oral Soln Paed 120mg/5ml S/F', 'Sevredol_Tab 10mg', 'Tolfenamic Acid_Tab 200mg', 'Phenytoin_Oral Susp 30mg/5ml', 'Fluclox Sod_Oral Soln 125mg/5ml S/F', 'Fluclox Sod_Oral Soln 250mg/5ml S/F', 'Rifaximin_Tab 550mg', 'Co-Trimoxazole_Oral Susp 40/200mg/5mlS/F', 'Ciprofloxacin_Tab 750mg', 'Ciprofloxacin_Gran For Susp 250mg/5ml', 'Empagliflozin_Tab 25mg', 'GlucoMen GM (Reagent)_Strips', 'Oxybutynin HCl_Oral Soln 2.5mg/5ml S/F', 'Tolterodine_Cap 2mg M/R', 'Colecal_Tab 25 000u', 'Naproxen_Tab Eff 250mg S/F', 'Diclofenac Sod_Gel 2.32%', 'Timolol_Gel Eye Dps 0.5%', 'Saline_Steri-Neb Neb Soln 0.9%/2.5ml Ud', 'Metrogel_Gel 0.75%', 'Coban 2 One Size M/Layer Compress Bandag', 'Softpore 10cm x 10cm Pfa + Adh Border Dr', 'OpSite Post-Op 8.5cm x 9.5cm VP Adh Film', 'Sorbsan Flat 5cm x 5cm Wound Dress Algin', 'Tegaderm Foam Adh Circ(Heel)13.9cmx13.9c', 'Comfifast 10.75cm x 1m (Yellow)Stkntte E', 'TRUEplus Lancets 0.32mm/30 Gauge', 'TRUEplus Lancets 0.195mm/33 Gauge', 'Cathejell Mono Lubricant Gel 12.5g', 'BioXtra Dry Mth Oral gel 40ml (App)', 'Bard_Urisleeve Leg Bag Holder Lge (40-70', 'Salts_Confidence Comfort + Flexifit Neon', 'CliniMed_Ostagel Skin Cleanser', 'Respond_OstoMart OstoGuard No sting3mlSa', 'Gaviscon Cool_Liq (Peppermint) S/F', 'Gaviscon Double Action_Liq (Peppermint)', 'Gaviscon P/Mint_Tab Chble', 'Cimetidine_Tab 400mg', 'Sucralfate_Tab 1g', 'Omeprazole_Oral Susp 5mg/5ml', 'Macrogol_Co Oral Pdr Sach H/Strgh6.9gS/F', 'Macrogol_Co Liq NPF S/F', 'Creon 40000_Cap E/C', 'Furosemide_Oral Soln 40mg/5ml S/F', 'Telmisartan/Hydchloroth_Tab 80mg/12.5mg', 'Glyceryl Trinit_Tab 500mcg', 'Transiderm-Nitro 5_Patch', 'Isosorbide Dinit_Tab 20mg', 'Dilzem SR 90_Cap 90mg', 'Adipine XL_Tab 30mg', 'Praxilene_Cap 100mg', 'Cilostazol_Tab 100mg', 'Tinzaparin Sod_Inj 10 000u/ml 0.45ml Pfs', 'Clopidogrel_Oral Soln 75mg/5ml', 'Simvastatin/Ezetimibe_Tab 40mg/10mg', 'Atorvastatin_Tab 30mg', 'Tiotropium/Olodaterol_Inha2.5/2.5mcg 60D', 'Symbicort_Inh Pressurised 200/6mcg(120D)', 'Desloratadine_Oral Soln 2.5mg/5ml S/F', 'Promethazine HCl_Oral Soln 5mg/5ml S/F', 'Epipen Jr_Auto-Inj 1/2000 0.5mg/ml 0.3ml', 'Simple_Linct Paed', 'Vortioxetine_Tab 5mg', 'Vortioxetine_Tab 10mg', 'Migraleve_Yellow Tab', 'Oxycodone HCl/NaloxoneHCl_Tab 20/10mgM/R', 'Fentanyl_Transdermal Patch 37.5mcg/hr', 'Buprenorphine_Patch 52.5mcg/hr (96hr)', 'Eslicarbazepine Acet_Tab 800mg', 'Clonazepam_Oral Soln 500mcg/5ml S/F', 'Gabapentin_Tab 800mg', 'Topiramate_Cap 25mg', 'Midazolam_Oromuc Soln 5mg/1ml Pfos S/F', 'Ropinirole HCl_Tab 8mg M/R', 'Stalevo_Tab 100mg/25mg/200mg', 'Rotigotine_Transdermal Patch 4mg/24hrs', 'Donepezil HCl_Orodisper Tab 10mg S/F', 'Phenoxymethylpenicillin_Soln 250mg/5mlSF', 'Tetracycline_Tab 250mg', 'Exenatide_Inj 2mg Vl + Dil P/R', 'Levothyrox Sod_Oral Soln 100mcg/5ml S/F', 'Deflazacort_Tab 6mg', 'Desmopressin Acet_Oral Lyoph 240mcg', 'Fluconazole/Clotrimazole_Cap 150mg/Crm2%', 'Tamsulosin HCl_Tab 400mcg M/R', 'Gppe Pdr Sach_Dioralyte', 'Glutafin_G/F W/F Pizza Base', 'Carob Seed Flour_Pdr', 'Neocate Active_Pdr Sach 63g (Blkcurrant)', 'Calogen Extra_Emuls (2 Flav)', 'Juvela_G/F W/F Tagliatelle', 'Fortisip Compact Protein_Liq (6 Flav)', 'CalcLactGlucon/CalcCarb_Tab 2.263g/1.75g', 'Mag Glycerophos_Tab Chble 97.2mg S/F', 'Mag Glycerophos_Cap 97.2mg', 'Colecal & Calc_Tab 400u/1.25g', 'Colecal_Tab 20 000u', 'Tocoph Acet_Susp 500mg/5ml', 'Colief_Infant Dps', 'Ibuprofen_Cap 400mg', 'Naproxen/Esomeprazole_Tab 500mg/20mg M/R', 'Aceclofenac_Tab 100mg', 'Methylpred Acet/Lidoc_Inj 40/10mg/1ml Vl', 'Powergel_Gel 2.5%', 'Carteolol HCl_Eye Dps 1%', 'Ketorolac Trometamol_Eye Dps 0.5%', 'Waxsol_Ear Dps 0.5%', 'Otex_Ear Dps 5%', 'Triamcinol Aceton_Aq Nsl Spy 55mcg(120D)', 'Corsodyl_Mthwsh Alcohol Free 0.2%', 'Urea/Lactic Acid_Crm 10%/5%', 'Oilatum Jnr_Crm', 'Gppe Emollient_Hydromol', 'Liq Paraf Light_Bath Oil 90%', 'E45_Emollient Wsh Crm', 'Calamine_Lot', 'Betameth_Foam Aero 0.1% 100g', 'Betameth Val/Neomycin Sulf_Crm 0.1/0.5%', 'Clobetasol Prop_Shampoo 500mcg/g', 'Synalar_Oint 1/4 Strgh 0.00625%', 'Coal Tar_Ext Shampoo 5%', 'Engerix B_Vac Paed 20mcg/ml 0.5ml Pfs', 'Twinrix Paed_Vac 720u/20mcg/ml 0.5ml Pfs', 'Crepe 10cm x 4.5m BP 1988 Band', 'Softpore 6cm x 7cm Pfa + Adh Border Dres', 'Aquacel Ribbon 1cm x 45cm Wound Dress Ca', 'Mepilex Lite 6cm x 8.5cm Wound Dress Sof', 'Allevyn Gentle Border Lite 10cm x 10cm W', 'Allevyn Ag Gentle Border 7.5cmx7.5cm Wou', 'Allevyn Ag Gentle Border 10cmx10cm Wound', 'Jelonet 10cm x 10cm Paraffin Ster Gz Dre', 'Gz & Cott Tiss BP 1988', 'Tubifast 2-Way Stch 5cm x 5m (Green) Stk', 'Glucoject No-dol Lancets 0.315mm/30 Gaug', 'Premier Prestige Nitrile Blue Gloves Sml', 'Cetraben Oint 125g', 'Epimax Crm 500g', 'RX Farma Sod Chlor 0.9% Nsl Dps', 'Peristeen System', 'M.Sauer_P-SURE Ltx Free Self-Adh Sheath', 'L.IN.C_LINC-Flo Leg Bag 500ml 10cm Inlet', 'Bard_Uriplan Collection Bag', 'Salts_Urine Drain Bag 2000ml', 'Dansac_Skin Lot Cleanser 50ml', 'Respond_OstoMart OstoMist Grapefruit P/S', 'Salts_Fresh Aire Odour Eliminating Deod', 'B.Braun_Softima Key Closed Pouch + Fltr', 'Dansac_Nova 2 Flng 55mm S/H 15-47mm', 'Dansac_Nova 2 Closed Pouch Opqe Flng 43m', 'Salts_Confidence Convex Urost Supersoft', 'Simeticone_Susp 40mg/ml S/F', 'Zn & Castor Oil_Oint', 'Salts_Simplicity Stoma Support Wear Ladi', 'Welland_Aura Flushable Clsd Pouch Midi B', 'Pentasa_Tab 1g M/R', 'Picolax_Pdr Sach 16.1g', 'Uniroid Hc_Suppos', 'Isosorbide Dinit_Tab 20mg M/R', 'Nifedipine_Cap 60mg M/R', 'Co-Proxamol_Tab 32.5mg/325mg', 'Clobazam_Oral Susp 5mg/5ml S/F', 'Ins Aspart_Inj 100u/ml 10ml Vl', 'Ins Lispro_Inj 100u/ml 10ml Vl', 'Juvela_G/F Loaf P/Bke', 'Glutafin_G/F W/F Macaroni Penne', 'Forticreme Complete_Dessert (Choc)', 'Fortini_1.0 Multi Fibre Liq (4 Flav)', 'Sod Fluoride_Dental Paste 0.619% S/F', 'Colecal_Tab 400u', 'Vega_ZM3 Multivit/Min V/Cap', 'Dermovate_Scalp Applic 0.05%', 'Ster Dress Pack + Non-Wov Pads Vernaid', 'Xupad Dress Pad Ster 20cm x 20cm', 'Mepilex Border 10cm x 12.5cm Wound Dress', 'Cath-It Insertion/Removal Pack Med/Lge C', 'Coloplast SpeediCath Compact Eve Fle 10-', 'Convatec_Combihesive Natura Closed Pouch', 'Nifedipine_Cap 30mg M/R', 'Bard Biocath Compreh/Care Foy Tray Male', 'B.Braun Actreen Mini Set Fle Size 10-14', 'Ranitidine HCl_Tab 75mg', 'Salofalk_Gran Sach G/R 3g M/R', 'Movicol_Pdr Sach 13.9g (Choc)', 'Indapamide_Tab 1.5mg M/R             @gn', 'Enoxaparin_Inj 100mg/ml 0.8ml Pfs', 'Dipyridamole_Tab 100mg', 'Indacaterol Mal_Pdr Inh Cap 150mcg + Dev', 'Carbocisteine_Soln750mg/10mlSach10ml S/F', 'Mucodyne_Cap 375mg', 'Mucodyne_Syr 250mg/5ml', 'Quetiapine_Tab 50mg M/R', 'Quetiapine_Tab 150mg M/R', 'Phenelzine Sulf_Tab 15mg', 'OxyContin_Tab 10mg M/R', 'OxyContin_Tab 40mg M/R', 'OxyContin_Tab 30mg M/R', 'Tramadol HCl_Tab Solb 50mg S/F', 'Migramax_Pdr Sach', 'Pregabalin_Oral Soln 100mg/5ml S/F', 'Nicorette Invisi_Patch 25mg/16hrs', 'Phenoxymethylpenicillin_Soln 125mg/5mlSF', 'Co-Amoxiclav_Susp 125mg/31mg/5ml', 'Co-Trimoxazole_Oral Susp 80mg/400mg/5ml', 'Ins Glargine_Inj 100u/ml 3ml Cart', 'Trulicity_Inj 1.5mg/0.5ml Pf Pen', 'Prednisolone_Tab 30mg', 'Sod Clodronate_Tab 800mg', 'Ferr Fumar/Folic Acid_Tab 322mg/350mcg', 'Gppe Pdr Sach_Dioralyte Relief S/F', 'Dioralyte Relief_Pdr Sach(Blkcurrant)S/F', 'Glutafin_G/F Fibre Bread Mix', 'Infatrini_Infant Feed', 'Etoricoxib_Tab 120mg', 'Arcoxia_Tab 90mg', 'Feldene_Gel 0.5%', 'Carbomer 974P_Gel Eye Dps 0.25%', 'Salic Acid/Lactic Acid_Gel 12%/4%', 'Salactol_Paint + Applic', 'Permethrin_Creme Rinse 1%', 'Lyclear_Creme Rinse 1%', 'Mesorb 20cm x 30cm Pfa Cellulose Dress', 'Multi-Pack Ster Dress Pack', 'Mepilex Border Lite 7.5cm x 7.5cm Wound', 'Chemipore 2.5cm x 5m Surg Adh Tape Perm', 'Steristrip Skin Closure Strips Ster Surg', 'Sharpsafe 4L', 'Crest Medical Ltd Sod Chlor Top Irrig 0.', 'Diprobase Lot', 'Sandoz Sod Chlor 0.9% Nsl Dps', 'Medicom Carmellose 0.5% Eye Dps 10ml', 'Bard_Urisleeve Leg Bag Holder Med (36-55', 'Dansac_NovaLife 1 Closed Colo Bag Midi C', 'Dansac_NovaLife 1 Midi Ileo Bag Clr C/Fi', 'Salts_Confidence Natural Urost Pouch Stn', 'Gaviscon Sbery_Tab Chble', 'Zantac_Tab 150mg', 'Omeprazole_Tab Disper 40mg (E/C Pellets)', 'Hydrocort/Lido HCl_Spy 0.2%/1% 30ml', 'Sacubitril/Valsartan_Tab 24mg/26mg', 'Oxerutins_Cap 250mg', 'Easyhaler_Salbutamol Sulf 200mcg (200D)', 'Flupentixol HCl_Tab 3mg', 'Flupentixol Decan_Inj 100mg/ml 1ml Amp', 'Zuclopenth Decan_Inj 200mg/ml 1ml Amp', 'Fluoxetine HCl_Cap 30mg', 'Oxycodone HCl_Cap 10mg', 'Sod Valpr_Cap 300mg M/R', 'Riluzole_Tab 50mg', 'Nicotine_Transdermal Patch 15mg/16hrs', 'Nicotine_Inhalator + Inh Cart 15mg', 'Champix_2Wk Tt Init Pack (Tab 0.5mg/1mg)', 'Ins Humalog Mix25_100u/ml 10ml Vl', 'Clotrimazole_Pess 100mg', 'Juvela_G/F W/F Crispy Rice Cereal', 'Complan_Shake S/Pack Sach', 'MCTprocal_Pdr Sach 16g', 'Aymes Shake_Pdr (Sbery)', 'Pro-Cal_Shot Liq (Sbery)', 'Mestinon_Tab 60mg', 'Hypromellose/Dextran 70_Eye Dps.3/.1% Ud', 'Liq Paraf Light/Wte Soft Paraf_Crm 6/15%', 'Betameth Val/Clioquinol_Oint 0.1%/3%', 'Clobetasol Prop_Scalp Applic 0.05%', 'Agrippal_Vac 0.5ml Pfs', 'Melolin 10cm x 10cm Pfa Plas Faced Dress', 'UrgoTul Absorb Border 8cm x 8cm Wound Dr', 'UrgoTul Absorb Border 10cm x 10cm Wound', 'Aquacel Foam Adhesive 10cm x 10cm Wound', 'CliniFast 10.75cm x 1m (Yellow) Stkntte', 'Sharpsguard 5L', 'Activa Leg Ulcer Hose Kit Lge Stkn + Com', 'Flexitol Urea Hand Balm', 'Bard_Uriplan One MT Drain Bag 2L (10 Dev', 'Bard_Uriplan One MT Drain Bag 2L (30 Dev', 'M.Sauer_URIbag 1.1L', 'Salts_WipeAway Adh Remover Sach Wipe', 'Dansac_NovaLife 1 Closed Colo Bag Mini O', 'Dansac_NovaLife 1 Convex Midi Ileo Bag C', 'Hollister_Adapt Stoma Pdr', 'Pelican_Cohesive Slims Sml 48mm', 'Hollister_Moderma Flex Convex FlextendUr', 'Mesalazine_Gran Sach 500mg M/R', 'Co-Danthrusate_Cap 50mg/60mg', 'Propranolol HCl_Oral Soln 50mg/5ml S/F', 'Enoxaparin_Inj 100mg/ml 0.6ml Pfs', 'Airomir_Inha 100mcg (200 D)', 'Alimemazine Tart_Oral Soln 7.5mg/5ml', 'Quetiapine_Tab 400mg M/R', 'Risperidone_Tab 6mg', 'Oxycodone HCl_Tab 40mg M/R', 'Oxycodone HCl_Tab 60mg M/R', 'OxyContin_Tab 5mg M/R', 'Tapentadol HCl_Tab 150mg M/R', 'Ropinirole HCl_Tab 2mg M/R', 'Clindamycin HCl_Cap 300mg', 'Ins NovoRapid_FlexTouch 100u/ml 3mlPfPen', 'Alogliptin_Tab 25mg', 'Prednisolone_Tab 10mg', 'Advagraf_Cap 1mg M/R', 'Pot Chlor (Pot 12mmol)_Tab Eff', 'Juvela_G/F Fibre Bread Roll P/Bke', 'Fortijuce_S/Pack Liq', 'Scandishake Mix_Pdr Sach 85g (Banana)', 'Pro-Cal_Shot Liq (Banana)', 'Colecal & Calc_Tab Chble 800u/2.5g', 'Calcichew D3 Once Daily_Tab Chble1g/800u', 'Ketovite_Tab', 'Ibugel_Gel 5%', 'Alphagan_Eye Dps 0.2%', 'Corsodyl_Dental Gel 1%', 'Diflucortolone Val_Crm 0.1%', 'Salatac_Gel', 'Driclor_A-Pers Soln 20%', 'Bio-Oil_Skin Care Oil', 'Povitulle 5cm x 5cm Povidone Iodine Fabr', 'Aquacel Foam Adhesive 12.5cm x 12.5cm Wo', 'Aquacel Ag Foam Adh 10cm x 10cm Wound Dr', 'Aquacel Foam Adhesive 10cm x 20cm Wound', 'Tubigrip 12cm x 1m Stkntte Elasctd Tublr', 'Mylife Penfine Classic Pen Inj Screw On', 'Coloplast SpeediCath Tiemann Size 10-16', 'Bard Bardex I.C. Foy Stnd 10ml 12-22 Cat', 'Hydromol Sod Pidolate Crm 2.5% 100g (App', 'Respond_OstoMart OstoFix Forty Security', 'Dansac_NovaLife 1 Midi Clsd Bag + View O', 'Salts_SecuPlast Mouldable Seals Thin', 'Salts_SecuPlast Mouldable Seals Stnd', 'Acidex_Liq (Aniseed)', 'Glycerol_Suppos Child (2g)', 'Zestril_Tab 20mg', 'Isosorbide Dinit_Tab 10mg', 'Isosorbide Mononit_Tab 50mg M/R', 'Tadalafil_Tab 2.5mg', 'Fortisip Extra_Liq (2 Flav)', 'Pyridox HCl_Tab 10mg', 'Hydrocort_Crm 0.1%', 'Heparinoid_Gel 0.3%', 'Nimenrix_Vac 0.5ml Dil + Pfs', 'Mepilex Border 15cm x 17.5cm Wound Dress', 'Comfifast 7.5cm x 1m (Blue) Stkntte Elas', 'Biotene Moisturising Mthwsh', 'Buscopan Cramps_Tab 10mg', 'Lactulose_Soln 10g/15ml Sach 15ml S/F', 'Atorvastatin_Tab 60mg', 'Budesonide/Formoterol Inh 200/6(120D)CFF', 'Cetirizine HCl_Cap 10mg', 'Diphenhydramine HCl_Tab 50mg', 'Lorazepam_Oral Soln 500mcg/5ml', 'OxyContin_Tab 20mg M/R', 'Oxycodone HCl/Naloxone HCl_Tab 10/5mgM/R', 'Oxycodone HCl/NaloxoneHCl_Tab 5/2.5mgM/R', 'Lyxumia_Inj 20mcg/0.2ml 3ml Pf Pen', 'Alogliptin_Tab 12.5mg', 'Climaval_Tab 1mg', 'Caverject_Inj Pack (40mcg Vl + Dil)', 'Viagra_Tab 100mg', 'Scandishake Mix_Pdr Sach 85g (Vanilla)', 'Nutilis_Complete Stage 1 Liq (3 Flav)', 'Deep Heat_A/Spy 150ml', 'Calamine Aq_Crm', 'Brimonidine Tart_Gel 3mg/g', 'kliniderm superabsorbent 20cm x 20cm Pfa', 'Aquacel Extra 15cm x 15cm Wound Dress Pr', 'Ispaghula/Senna Fruit_Gran 54.2%/12.4%', 'Fluticasone/Formoterol_Inh 50/5mcg 120 D', 'Simple_Linct Paed S/F', 'Longtec_Tab 120mg M/R', 'Topiramate_Cap 50mg', 'Methenamine Hippurate_Tab 1g', 'Bonjela_Junior Gel', 'Urgotul Silver 10cm x 12cm Wound Dress S', 'Systane Gel Dps Hydroxypropyl Guar Eye D', 'Infacol_Susp 40mg/ml S/F', 'Gaviscon Double Action_Tab Chble', 'Anusol Plus HC_Oint', 'Oxycodone HCl_Tab 30mg M/R', 'Sevredol_Tab 20mg', 'Pioglitazone/Metformin HCl_Tab15mg/850mg', 'Fortini_Liq (2 Flav)', 'Vit E_Cap 75u', 'Betacap_Scalp Applic 0.1%', 'Hedrin_Lot 4%', 'Dip Tet Polio Inact (Ad)_Vac 0.5ml Pfs', 'Algivon 5cm x 5cm Wound Dress Algin Ster', 'Aquacel Ag Extra 10cm x 10cm Wound Dress', 'MolluDab (5%) Pot Hydrox Soln', 'Coloplast SpeediCath Control Male Size 1', 'Disulfiram_Tab 200mg', 'Adaptic Touch 12.7cm x 15cm Wound Dress', 'Respond_OstoMart OstoMist Odour Neutrali', 'Dansac_Nova 1 Convex E/Fld Drnbl Ileo Ba', 'Hollister_Moderma Flex Convex Flextend U', 'Anusol_Suppos', 'Labetalol HCl_Tab 50mg', 'Quinapril HCl_Tab 10mg', 'Univer_Cap 120mg', 'Neoclarityn_Tab 5mg', 'Olanzapine_Orodisper Tab 5mg', 'Oxycodone HCl_Cap 5mg', 'Lido HCl 2%/Chlorhex_Gel 6ml Pfs', 'Bard_Uriplan Leg Bag 10cm Inlet Tube 750', 'Kavendor_Comfizz Stoma Support Wear Shal', 'Coloplast SpeediCath Compact Set Fle Siz', 'OptiLube Active Ster Syrg Lubricant Gel', 'Rochester_Clr Advantage Spirit IncontShe', 'CUI_Fulcionel AR Ostomy/Hernia Support B', 'Dansac_NovaLife 1 Clsd SoftConvexColoBag', 'Hollister_Impression C Convex Transpt Ba', 'Coloplast_Assura Insp C/exity S/Seal Max', 'Oakmed_Option Convex Ileo Pch Fltr C/Fit', 'Pelican_Select Afresh Drnbl Pouch Clr St', 'Salts_Confidence Natural Advance Drnbl P', 'ConvaTec_Esteem+ Drnbl Pch+Invis Outl Mo', 'Aspen_Sorbaderm No-Sting Barrier Film 3m', '3m Health Care_Cavilon No Sting 3ml Barr', 'Dansac_Nova 2 Easifold Drnbl Pouch Opqe', 'Coloplast_SenSura Flex Soft Seal B/Plt 5', 'Coloplast_SenSura Mio Click Drnbl Bag Ma', 'Coloplast_SenSura Mio Click B/Plt L/Conv', 'Convatec_C/Sive Natura Urost Pch Stnd Ta', 'Coloplast_Sensura M/chamb Urost Bag Midi', 'Lisdexamfetamine_Cap 30mg', 'Erythromycin_Cap E/C 250mg', 'Cetraben Lot 500ml', 'Gaviscon Cool_Tab Chble 250mg (P/Mint)', 'Spasmonal Fte_Cap 120mg', 'Mesalazine_Enem 2g In 59ml', 'Dulcolax Pico_Liq 5mg/5ml S/F', 'CosmoCol_Oral Pdr Sach (Orange)', 'Telmisartan_Tab 20mg', 'Chemydur 60 XL_Tab 60mg', 'Slozem 240_Cap 240mg', 'Cardioplen XL_Tab 5mg', 'Cardioplen XL_Tab 10mg', 'Cardioplen XL_Tab 2.5mg', 'Adipine MR 10_Tab 10mg', 'Dipyridamole M/R/Aspirin_Cap 200mg/25mg', 'Xyzal_Tab 5mg', 'Pholcodine_Linct Strong 10mg/5ml', 'Biquelle XL_Tab 50mg', 'Biquelle XL_Tab 400mg', 'Oxycodone HCl_Oral Soln 10mg/1ml S/F', 'Zydol SR_Tab 50mg', 'Rewisca_Cap 50mg', 'Rewisca_Cap 75mg', 'Zebinix_Tab 800mg', 'Perampanel_Tab 8mg', 'Trileptal_Tab 150mg', 'Trileptal_Tab 600mg', 'Episenta_Gran Sach 1g M/R', 'Nicotine_Nsl Spy 500mcg (200 D) 10ml', 'Nicorette_QuickMist Oromucosal P/Spy', 'Abasaglar KwikPen_100u/ml 3ml Pf Pen', 'Glucophage_Tab 500mg', 'Glucophage SR_Tab 750mg', 'Alogliptin/Metformin_Tab 12.5mg/1g', 'Clotrimazole_C/Pk Crm 5g 10%/10g 2%', 'Livwell_G/F W/F Flat Bread', 'Nutriprem 2_Pdr', 'Fresubin Energy Fibre_Liq (6 Flav)', 'Aymes Shake_Pdr (Vanilla)', 'Aymes Shake_Pdr (Banana)', 'Alfacalcidol_Dps 2mcg/ml S/F', 'One-Alpha_Cap 500ng', 'Pro D3 Forte_Oral Soln 3 000u/ml', 'OsteoCaps D3_Cap 20 000u', 'OsteoCaps D3_Cap 1 000u', 'Indometacin_Cap 75mg M/R', 'Voltarol Emulgel P_Aq Gel 1.16%', 'Prednisolone Sod Phos_Eye Dps 0.5% Ud', 'Opticrom_Allergy Eye Dps 2%', 'Bromfenac_Eye Dps 900mcg/ml', 'Bepanthen_Nappy Care Oint 5%', 'Hyoscine Hydrob_Inj 400mcg/ml 1ml Amp', 'Oilatum_Scalp Intensive Tt Shampoo', 'Tegaderm Film 12cm x 12cm VP Adh Film Dr', 'Insight Cannula Swab Lge Tracheo Cleanin', 'OneTouch Comfort Lancets 0.20mm/33 Gauge', 'BGStar Ultra-Thin Lancets 0.20mm/33 Gaug', 'BioXtra Dry Mth Gel Mth Spy 50ml (App)', 'Zerolatum Bath Add', 'Carmellose 1% Eye Dps 0.4ml Ud P/F', 'AMI_Suportx Ostomy & A/Support Ladies Br', 'BSN_Cutimed Prote Crm 90g', 'Omeprazole_Tab E/C 10mg', 'Frusol_Oral Soln 40mg/5ml S/F', 'Nebivolol_Tab 10mg', 'Imidapril HCl_Tab 10mg', 'Slozem 120_Cap 120mg', 'Fortipine LA40_Tab 40mg', 'Biquelle XL_Tab 300mg', 'Aripiprazole_Tab 30mg', 'Trimipramine Mal_Tab 25mg', 'Venlalic XL_Tab 37.5mg', 'Paracet_Oral Susp 500mg/5ml S/F', 'Paracet_Oral Soln 500mg/5ml S/F', 'Rewisca_Cap 100mg', 'Rewisca_Cap 225mg', 'Keppra_Tab 750mg', 'Topiramate_Cap 15mg', 'Nicotine_Oromucosal P/Spy (1mg D) S/F', 'Nicotinell TTS 30_Patch 21mg/24hrs', 'Tamiflu_Cap 75mg', 'Vildagliptin/Metformin HCl_Tab50mg/850mg', 'Alendronic Acid_Tab 10mg', 'Tamoxifen Cit_Tab 10mg', 'Paediasure Plus_Liq (Unflav)', 'Fresubin Jucy_Drink (5 Flav)', 'Aymes Shake_S/Pack Pdr', 'Aciferol D3_Oral Soln 3 000u/ml', 'Transvasin_Heat Rub', 'Voltarol 12 Hour Emulgel P_Gel 2.32%', 'Bimatoprost_Eye Dps 300mcg/ml', 'Choline Sal_Dental Gel 8.7% S/F', 'Hydromol Intensive_Crm 10%', 'Daktacort Hydrocort_Crm', 'Terbinafine HCl_Spy 1% 15ml', 'Conveen EasiCath Nelaton Male Size 8-22', 'BioXtra Dry Mth Ultra Mild Mouthrinse 25', 'Sterimar Hypertonic Nsl Spy 50ml', 'Coloplast_SenSura Midi Closed Bag Split', 'Salts_Second Nature Flng 45mm Wafer 110', 'Salts_Second Nature Urost Pouch Transpt', 'Enalapril/Hydchloroth_Tab 20mg/12.5mg', 'Procoralan_Tab 5mg', 'Mylife Pura (Reagent)_Strips', 'Betmiga_Tab 25mg M/R', 'Centrum Advance_Multivit/Mineral Tab', 'Pregnacare_Tab', 'Nasofan_Allergy Aq Nsl Spy 50mcg (60 D)', 'Daktarin_Oromucosal Gel 20mg/g S/F', 'Eucerin_Dry Skin Relief Crm + Urea 5%', 'Daktarin Aktiv_Pdr Spy 0.16% 100g', 'LoFric Non PVC Nelaton Fle 15cm 8-14 (30', 'Fluoxetine HCl_Tab Disper 20mg S/F', 'Invokana_Tab 100mg', 'Vesicare_Tab 10mg', 'PaediaSure_Liq (Vanilla)', 'Adenuric_Tab 80mg', 'Ibugel Fte_Gel 10%', 'Rhinolast_Nsl Spy 140mcg (136 D) 22ml', 'Hydrocort But_Oint 0.1%', 'Isotrex_Gel 0.05%', 'Trileptal_Tab 300mg', 'Eucreas_Tab 50mg/1g', 'Optilast_Eye Dps 0.05%', 'Emollin Emollient Aero 240ml', 'CosmoCol_Half Oral Pdr Sach 6.9g', 'Zemtard 180 XL_Cap 180mg', 'Midodrine HCl_Tab 5mg', 'Clexane_Inj 100mg/ml 1ml Pfs', 'Salbutamol_Pdr For Inh 200mcg (200 D)', 'Flixotide_Accuhaler 50mcg (60 D)', 'Depixol_Tab 3mg', 'Haloperidol_Tab 10mg', 'Cipralex_Tab 20mg', 'Tramadol HCl_Cap 150mg M/R', 'Alzain_Cap 75mg', 'Alzain_Cap 150mg', 'Madopar_Cap 200mg/50mg', 'Ins Tresiba_Penfill 100u/ml 3ml Cart', 'TEE2 (Reagent)_Strips', 'Hydrocort Sod Phos_Inj 100mg/1ml Amp', 'Glutafin_G/F Bread Roll x 4 Wte', 'Levobunolol HCl_Eye Dps 0.5%', 'Glycopyrronium Brom_Inj 0.2mg/ml 3ml Amp', 'CareSens Lancets 0.31mm/30 Gauge', 'Xerotin Saliva Rep P/Spy 100ml', 'QV Intensive Oint', 'Dicycloverine HCl_Tab 20mg', 'Monomax SR 60_Cap 60mg', 'Angitil SR 120_Cap 120mg', 'Adipine MR 20_Tab 20mg', 'Ezetrol_Tab 10mg', 'Pulmicort_Turbohaler 100mcg (200 D)', 'Diphenhydramine HCl_Tab 25mg', 'Promethazine HCl_Tab 20mg', 'Ondansetron HCl_Oral Lyophil Tab 8mg S/F', 'Diamorph HCl_Inj 30mg Amp', 'Dixarit_Tab 25mcg', 'Alzain_Cap 100mg', 'Alzain_Cap 225mg', 'Alzain_Cap 300mg', 'Stalevo_Tab 125mg/31.25mg/200mg', 'Genotropin_Inj 5.3mg Cart', 'Canesten_Thrush Crm 2%', 'SMA Wysoy_Pdr', 'Fresubin Protein Energy_Drink (5 Flav)', 'Ensure Plus Advance_Liq (5 Flav)', 'Milupa_Aptamil Lactose Free Pdr', 'Lodine Sr_Tab 600mg', 'Trusopt_Ocumeter Plus Ophth Soln 2%', 'Timoptol_Eye Dps 0.5% W/V', 'Sod Chlor_Inh Soln 0.9% 2.5ml Ud Vl', 'Bactroban_Nsl Oint 2%', 'Aveeno_Daily Moist Lot', 'Fluocinolone Aceton_Oint 0.025%', 'Ceanel_Conc', 'Lido HCl_Inj 2% 5ml Amp', 'K-Band 10cm x 4m Ktd Polyam & Cellulose', 'CareSens Lancets 0.36mm/28 Gauge', 'Lumecare Singles Hypromellose Eye Dps 0.', 'Salbulin Novolizer_Inh 100mcg (200D)+Dev', 'Fluticasone Prop_Pdr For Inh 50mcg (60D)', 'Melatonin_Cap 3mg', 'Melatonin_Cap 5mg', 'Zuclopenth HCl_Tab 10mg', 'Maxolon_Tab 10mg', 'Alzain_Cap 25mg', 'Ropinirole HCl_Tab 3mg M/R', 'Kemadrin_Tab 5mg', 'Nicorette_Inhalator + Inh Cart 15mg', 'Champix_Tab 1mg', 'Buprenorphine_Tab Subling 8mg S/F', 'Suboxone_Tab Subling 8mg/2mg', 'Alogliptin_Tab 6.25mg', 'Cyanocobalamin_Inj 1mg/ml 1ml Amp', 'Lipobase_Crm', 'Canesten Hydrocortisone_Crm', 'Tegaderm Film 15cm x 20cm VP Adh Film Dr', 'Mepilex Border Lite 4cm x 5cm Wound Dres', 'Allevyn Gentle Border Heel 23cmx23.2cm W', 'NovoTwist Needles Pen Inj Screw On 5mm/3', 'Telmisartan/Hydchloroth_Tab 40mg/12.5mg', 'Clexane_Inj 100mg/ml 0.4ml Pfs', 'Pimozide_Tab 4mg', 'Augmentin_Tab 625mg', 'Aymes Shake_Pdr (Choc)', 'Colecal & Calc_Tab Chble 800u/1.25g', 'Vit E_Cap 400u', 'Diclofenac Pot_Tab 50mg', 'Maxitrol_Eye Oint', 'Haelan_Crm 0.0125%', 'Mirvaso_Gel 3mg/g', 'HBVAXPRO_Vac 10mcg/ml 1ml Pfs', 'Diltiazem HCl_Crm 2%', 'Theophylline_Tab 300mg M/R', 'Orlistat_Cap 60mg', 'Luventa XL_Cap 24mg', 'Erythromycin_Ethylsuc Tab 500mg', 'BGStar (Reagent)_Strips', 'Ensure Plus_Creme (4 Flav)', 'Ketotifen Fumar_Eye Dps 250mcg/ml', 'Difflam_Sore Throat Rinse 0.15%', 'Clobetasol/Neomycin/Nystatin_Oint', 'Soolantra_Crm 10mg/g', 'Unspec Drug Code_(Discount Not Deducted)', 'Theophylline_Cap 125mg M/R', 'MXL_Cap 200mg', 'Sumatriptan_Aq Nsl Spy 10mg/0.1ml Ud', 'ReQuip XL_Tab 2mg', 'Macrobid_Cap 100mg', 'Canesten_Oral&Crm Duo(1 Cap 150mg/Crm2%)', 'Cialis_Tab 10mg', 'Vital 1.5kcal_Liq (Vanilla)', 'Vital 1.5kcal_Liq (3 Flav)', 'Nutrison_800 Complete M/Fibre Liq', 'Hux D3_Cap 3 200u', 'Erythromycin Stearate_Tab 250mg', 'Erythromycin Stearate_Tab 500mg', 'Sulpiride_Oral Soln 200mg/5ml S/F', 'Champix_4Wk Tt Init Pack (Tab 0.5mg/1mg)', 'Synalar_Crm 0.025%', 'Duofilm_Paint', 'Class 1 Stnd C/Kt Thigh Stkn Elas Hose', 'Oxycodone HCl_Inj 10mg/ml 1ml Amp', 'Valsartan/Hydchloroth_Tab 160mg/25mg', 'Asasantin Ret_Cap', 'Beclomet Diprop_Inha 50mcg (200 D) CFF', 'Cloral Betaine_Tab 707mg', 'Zaluron XL_Tab 50mg', 'Zaluron XL_Tab 200mg', 'Zaluron XL_Tab 300mg', 'Venlalic XL_Tab 75mg', 'Venlablue XL_Cap 150mg', 'Solpadol_Cap 30mg/500mg', 'Nicorette Invisi_Patch 15mg/16hrs', 'NiQuitin Clr_Patch 21mg/24hrs(Step 1)', 'Fortini_Multi Fibre Liq (Unflav)', 'Naproxen_Tab E/C 375mg', 'Carteolol HCl_Eye Dps 2%', 'Clindamycin Phos_Gel 1%', 'Zindaclin_Gel 1%', 'Eesiban 7.5cm x 5m Stkntte Ribbed Tublr', 'Comfifast E/Wrap Vest L/S 5-8 Yrs Elasct', 'Comfifast E/Wrap Leg 5-8 Yrs Elasctd Vis', 'Limb Seal-Tight Adult Foot/Ankle Wound C', 'Sterimar Baby Nsl Spy 50ml', 'Creon Micro_G/R Gran 100mg (60.36mg)', 'Phenergan_Tab 25mg', 'Zaluron XL_Tab 400mg', 'Olanzapine_Orodisper Tab 20mg', 'Venlablue XL_Cap 75mg', 'Temgesic_Tab Subling 200mcg', 'Imigran 50_Tab 50mg', 'Ethinylestr/Norelgest_24 Hr T/Derm Patch', 'Vesomni_Tab 6mg/0.4mg M/R', 'Tacrolimus_Cap 1mg', 'Milupa_Aptamil Comfort Milk', 'Teoptic_Eye Dps 1%', 'Olive Oil_Liq', 'Cascade Shower Tracheo Prote', 'Eesiban 10cm x 5m Stkntte Ribbed Tublr', 'Activa Leg Ulcer Hose Kit Ex Exlge C/T C', 'Mesalazine_Tab E/C 800mg', 'Cinchocaine HCl/Hydrocort_Suppos 5mg/5mg', 'Fosinopril Sod_Tab 20mg', 'Trental 400_Tab 400mg', 'Dabigatran Etexilate_Cap 75mg', 'Persantin Ret_Cap 200mg (Boehringer)', 'Salamol_Steri-Neb Soln 2.5mg/2.5ml Ud', 'Beclomet Diprop_Inha B/A100mcg(200 D)CFF', 'Bio-Melatonin_Tab 3mg', 'Venlafaxine_Cap 225mg M/R', 'Aspirin_Tab 300mg', 'Oxycodone HCl_Cap 20mg', 'Oxycodone HCl_Tab 20mg M/R', 'Oxycodone HCl_Tab 5mg M/R', 'Galantamine_Cap 8mg M/R', 'Dexameth_Oral Soln 2mg/5ml S/F', 'Ethinylestr_Tab 10mcg', 'Fosamax_Once Weekly Tab 70mg', 'Vitaros_Crm 3mg/g', 'Glutafin_G/F Bread Roll x 4 Wte P/Bke', 'Warburtons_G/F Baguette', 'Aymes Complete_Liq (4 Flav)', 'Methotrexate_Tab 10mg', 'Chloramphen_Eye Dps 0.5% Ud', 'Aciclovir_Eye Oint 3%', 'Acnecide_Aq Gel 5%', 'Allevyn Life Sacrum 17.2cm x 17.5cm Woun', 'Allevyn Life Sacrum 21.6cm x 23cm Wound', 'Biatain Slc 10cm x 10cm Wound Dress Soft', 'Allevyn Gentle 5cm x 5cm Wound Dress Sof', 'Actilite 5cm x 5cm Manuka Honey Ster Gz', 'Acti-Fast 2-Way Stch 7.5cmx5m (Blue) Stk', 'Ribbed Cott 10cm x 5m Stkntte Tublr', 'Eesiban 5cm x 5m Stkntte Ribbed Tublr', 'Tubilux Sod Chlor Nsl Dps 0.9%', 'Alissa 0.3% Hypromellose Eye Dps 10ml P/', 'Pseudoephed HCl_Oral Soln 30mg/5ml S/F', 'Methylphenidate HCl_Tab 27mg M/R', 'Nicotine_Chewing Gum 2mg S/F', 'Nicotine_Chewing Gum 4mg S/F', 'Luventa XL_Cap 16mg', 'Norditropin SimpleXx_Inj 15u 5mg/1.5ml', 'Toviaz_Tab 8mg M/R', 'Sod Chlor_I/V Inf 0.9% 5ml Amp', 'Neocate Spoon_Pdr', 'InVita D3_Oral Dps 2 400u/ml', 'Flurbiprofen_Loz 8.75mg', 'Benzalk Chlor_Shampoo 0.5%', 'Biatain Adh 10cm x 10cm Wound Dress Poly', 'Swabs 10cm x 10cm Fabric Filmated Non-Wo', 'QV Bath Oil', 'Mesalazine_Gran Sach 1g M/R S/F', 'Oxis 12_Turbohaler 12mcg (60 D)', 'NutropinAq_Inj 30u 10mg/2ml Cart', 'Polycal_Pdr', 'Tentrini Pack_G/F M/Fibre Feed', 'Fresubin Energy_Liq (8 Flav)', 'Lodoxamide Trometamol_Eye Dps 0.1%', 'Chlorhex Glucon_Gel 1% S/F', 'Sod Fusidate_Oint 2%', 'Softpore 10cm x 15cm Pfa + Adh Border Dr', 'Amlodipine/Valsartan_Tab 5mg/80mg', 'Alimemazine Tart_Oral Soln 30mg/5ml', 'Colomycin_Inj 1 000 000u Vl (Dry)', 'Glutafin_G/F Fibre Bread (Cut)', 'Nystaform-HC_Crm', 'Cuplex Verruca_Gel', 'Sunsense_Daily Face Crm Spf 50+', 'Econazole Nit_Crm 1%', 'Amiloride HCl/Cyclopenth_Tab 2.5/0.25mg', 'Warburtons_G/F Bread Brown (Cut)', 'Colecal_Cap 50 000u', 'Volsaid Ret 75_Tab 75mg', 'Eucerin_Intensive Crm 10%', 'Cinchocaine/Prednis Hex_Suppos 1mg/1.3mg', 'Dalteparin Sod_Inj 25 000u/ml 0.72ml Pfs', 'Nicotine_Transdermal Patch 14mg/24hrs', 'Regurin_Tab 20mg', 'Etodolac_Cap 300mg', 'Psoriderm_Emuls Bath Add 40%', 'Imiquimod_Crm 5% Sach 250mg', 'Silver Sulfadiazine_Crm 1%', 'Morph Sulf_Tab 20mg', 'Prontosan Top Irrig 350ml Btl', 'Emollin Emollient Aero 150ml', 'Pariet_Tab E/C 20mg', 'SMA_Staydown Pdr', 'Rivaroxaban_Tab 10mg', 'Ametop_Gel 4%', 'Aldara_Crm 5% Sach 250mg', 'Roaccutane_Cap 20mg', 'Roaccutane_Cap 10mg', 'Zantac_Tab 300mg', 'Beclomet/Formoterol_Inh 200/6 (120D) CFF', 'Risperidone_Inj Pdr 25mg Vl + Dil', 'Depixol_Inj 20mg/ml 2ml Amp', 'Targinact_Tab 5mg/2.5mg M/R', 'Canagliflozin/Metformin_Tab 50mg/1g', 'Pregaday_Tab', 'PaediaSure Plus Juce_Liq (2 Flav)', 'Solvazinc_Eff Tab 125mg', 'TheiCal D-3_Tab Chble 1000mg/880u', 'Elidel_Crm 1%', 'Lamisil_Crm 1%', 'Tubigrip 8.75cm x 1m Stkntte Elasctd Tub', 'Tear-Lac Hypromellose Eye Dps 0.3% P/F', 'Senokot Max Strgh_Tab 15mg', 'Furosemide_Oral Soln 20mg/5ml S/F', 'Pseudoephed HCl_Oral Soln 30mg/5ml', 'Xenical_Cap 120mg', 'Colomycin_Inj 2 000 000u Vl (Dry)', 'Barkat_G/F W/F All Purpose Flour Mix', 'Calc Acet_Tab 475mg', 'Ibuprofen/Menthol_Gel 5%/3%', 'Deep Relief_Gel 5%/3%', 'Allevyn 5cm x 5cm Wound Dress Polyureth', 'Tubigrip 7.5cm x 1m Stkntte Elasctd Tubl', 'Unifine Pentips Plus Needles Pen Inj Scr', 'LPL 63.4 Bath Add and Emollient', 'MucoClear Sod Chlor 3% Inh Soln 4ml', 'CosmoCol_Oral Pdr Sach (Orng Lem & Lim)', 'Captopril_Tab 12.5mg', 'Salbutamol_Oral Soln 2mg/5ml S/F', 'Risperdal Consta_Inj Pdr 50mg Vl + Dil', 'Rewisca_Cap 200mg', 'Ampicillin_Cap 250mg', 'Ins Lispro_Inj 100u/ml 3ml Cart', 'Vipdomet_Tab 12.5mg/1g', 'Empagliflozin/Metformin_Tab 12.5mg/1g', 'Glutafin_G/F W/F Fibre Mix', 'Pro D3_Oral Dps 2 000u/ml', 'Radian-B_Pain Relief P/Spy 100ml', 'Ibuprofen_Spy 5% 100ml', 'Bonjela_Teething Gel', 'Miconazole Nit_Pdr Spy 0.16% 100g CFF', 'TriCare Needles Pen Inj Screw On 4mm/32', 'Insupen Needles Pen Inj Screw On 4mm/32', 'Corn Rings 5mm Thick', 'Nebilet_Tab 5mg', 'Trandolapril_Cap 4mg', 'Glytrin_A/Spy 400mcg (200 D)', 'Rewisca_Cap 150mg', 'TrueTrack System (Reagent)_Strips', 'TRUEresult (Reagent)_Strips', 'Tabphyn MR_Cap 400mcg (Kyowa)', 'Tabphyn MR_Cap 400mcg (Genus)', 'Imuran_Tab 50mg', 'Glucojuice_Liq', 'Altraplen Compact_Liq (Banana)', 'Thorens_Oral Dps 50 000u/5ml', 'Chloromycetin_Redidps 0.5%', 'Rozex_Crm 0.75%', 'Unilet Eco Lancets 0.375mm/28 Gauge', 'MucoClear Sod Chlor 6% Inh Soln 4ml', 'Hollister_Urost Night Drain Bag', 'Coloplast_Sensura S/Seal M/chamb Urost B', 'Labetalol HCl_Tab 400mg', 'Formoterol Fumar_Inh 12mcg (100D) CFF', 'Formoterol Easyhaler_12mcg (120 D)', 'Onbrez Breezhaler_Pdr Inh Cap 150mcg+Dev', 'Erdotin_Cap 300mg', 'Oxactin_Cap 20mg', 'Norditropin SimpleXx_Inj 30u 10mg/1.5ml', 'Ditropan_Tab 5mg', 'Imuran_Tab 25mg', 'Salbut/Ipratrop_NebSoln 2.5/.5mg Ud2.5ml', 'Phenergan_Tab 10mg', 'Lynlor_Cap 10mg', 'Reltebon_Tab 5mg M/R', 'Reltebon_Tab 10mg M/R', 'Reltebon_Tab 20mg M/R', 'Reltebon_Tab 40mg M/R', 'Bydureon_Inj 2mg Vl + Dil P/R', 'Avanafil_Tab 100mg', 'Ketoprofen_Cap 200mg M/R', 'Apraclonidine_Eye Dps 5mg/ml', 'Zetuvit Plus 10cm x 10cm Super-Absorb Dr', 'Insight 2 Tube Holder Tracheo TH100', 'Activa Leg Ulcer Hose Kit Lge Clsd Toe C', 'Lubiprostone_Cap 24mcg', 'Torasemide_Tab 2.5mg', 'Torasemide_Tab 5mg', 'Triamterene/Furosemide_Tab 50mg/40mg', 'Cardicor_Tab 2.5mg', 'Ropinirole HCl_Tab 5mg', 'Sukkarto SR_Tab 1000mg', 'Sukkarto SR_Tab 500mg', 'Repaglinide_Tab 500mcg', 'Actonel_Once a Week Tab 35mg', 'Betnesol-N_Ear/Eye/Nose Dps', 'Terbut Sulf_Inh Soln 5mg/2ml Ud', 'Megestrol Acet_Tab 160mg', 'Hydrous_Oint', 'Surg Suture W319 Ethilon Non-Absorb Ster', 'Hollister_Adapt No-Sting Medical Adh Rem', 'Ins Tresiba_FlexTouch 200u/ml 3ml Pf Pen', 'Thicken Aid_Pdr', 'Coloplast_S4 Urine Drain Bag Long Tube 2', 'Hollister_Moderma Flex Closed Pouch + Fl', 'Bramox_Tab 5mg', 'Edoxaban_Tab 30mg', 'Edoxaban_Tab 60mg', 'Stalevo_Tab 150mg/37.5mg/200mg', 'Nicorette_Cools Loz 2mg', 'Estradiol_Gel Sach 1mg/1g', 'Upostelle_Tab 1500mcg', 'Genius_G/F Bread Wte Sandwich (Cut)', 'Jevity Promote_Liq', 'Fresubin Thickened Stage 2_Cust (2 Flav)', 'Lotemax_Eye Dps 0.5%', 'Calcipotriol/Betameth_Foam 50mcg/0.5mg/g', 'Micropore 5cm x 5m Surg Adh Tape Perm No', 'Dansac_Nova Colo Bag Opqe S/H 20-60mm', 'Mesalazine_Gran Sach G/R 1g M/R S/F', 'Salofalk_Gran Sach G/R 1g M/R', 'Nutrizym 22_Cap 340mg', 'Amlodipine/Valsartan_Tab 5mg/160mg', 'Amlodipine/Valsartan_Tab 10mg/160mg', 'Epilim_Syr 200mg/5ml', 'GluNEO (Reagent)_Strips', 'Propiverine HCl_Cap 30mg M/R', 'Ensure Plus_Yog Style Liq Feed (2 Flav)', 'Fortisip Compact Fibre_Liq (3 Flav)', 'Difflam_Crm 3%', 'Ibuleve_Gel 5%', 'Sprilon_A/Spy 115g', 'E45_Dry Scalp Shampoo', 'Polyth Ring Pess 50-80mm 7.5mm Thick', 'Uro-Tainer Twin Suby G 2 x 30ml Cath Mai', 'Flexitol Urea Skin Balm', 'Coloplast_Trident T1 Leg Bag 750ml Adjus', 'Budesonide_Pdr For Inh 200mcg (100D)+Dev', 'NiQuitin_Patch 21mg/24hrs (Step 1)', 'Ensure Plus Commence_Liq (2200 (10x220)', 'Liq Paraf/Wte Soft Paraf_Oint 5%/95%', 'Starch Maize Modified_Pdr G/F', 'Dansac_NovaLife 1 Open + View Midi Opqe', 'Dansac_Nova Mini Cap Opqe C/Fit 20-50mm', 'Salbut/Ipratrop_NebSoln 2.5/.5/2.5ml Amp', 'Prednisolone_Tab 20mg', 'Canesten_Combi Pess & Crm', 'Pepti_Jnr Pdr', 'Phenergan_Elix 5mg/5ml', 'Melatonin_Oral Soln 5mg/5ml', 'Risperidone_Inj Pdr 50mg Vl + Dil', 'Nicorette_Chewing Gum 4mg S/F(Icy Wte)', 'Toviaz_Tab 4mg M/R', 'Water For Inj_20ml Amp', 'Calogen_Emuls (Banana)', 'Diclofenac Sod_Suppos 50mg', 'Dansac_InVent Ileo Bag Opqe P/Cut 30mm', 'Atorvastatin_Tab Chble 20mg S/F', 'Zuclopenth Decan_Inj 500mg/ml 1ml Amp', 'Glutafin Select_G/F Bread Mix', 'Centrum Advance 50+_Multivit/Mineral Tab', 'Drapolene_Crm', 'Dermatix Gel 15g Wound Dress Slc', 'Convatec_Sensi-Care Sting Free Prote Bar', 'Dansac_GX-tra Seals Washers 20mm (50mm O', 'Fybogel_H/Fbre Gran Eff Sach3.5g Lem S/F', 'Olmesartan Medox/Hydchloroth_Tab 20/12.5', 'Fragmin_Inj 25 000u/ml 0.2ml Pfs', 'Oxcarbazepine_Tab 150mg', 'Oseltamivir Phos_Cap 30mg', 'Tamiflu_Cap 30mg', 'Dexameth_Tab 4mg', 'Logynon ED_Tab', 'Indoramin_Tab 20mg', 'Juvela_G/F Fresh Roll Wte', 'Chlorhex Glucon_Soln 0.05% 25ml Sach', 'Coloplast_Peristeen Anal Plug Lge', 'Warburtons_G/F Bread Wte (Cut)', 'Colecal_Cap 3 200u', 'Robaxin-750_Tab 750mg', 'Clobazam_Oral Susp 10mg/5ml S/F', 'Linagliptin/Metformin_Tab 2.5mg/850mg', 'Nuvelle Continuous_Tab', 'Ranitidine HCl_Tab Eff 300mg', 'Indacaterol/Glycopy_Pdr Inh Cap 85/54mcg', 'Olanzapine_Orodisper Tab 20mg S/F', 'Dihydrocodeine Tart_Tab 40mg', 'Engerix B_Vac 20mcg/ml 1ml Vl', 'Nanopass Needles Pen Inj Screw On 4mm/32', 'Aliskiren_Tab 300mg', 'Hyetellose_Eye Dps 0.44% Ud', 'Aprovel_Tab 150mg', 'Qufora Irrig System IrriSedo Mini System', 'Terazosin HCl_Tab 2mg', 'Quinapril HCl_Tab 20mg', 'Amias_Tab 8mg', 'Elantan LA 50_Cap 50mg', 'Angitil SR 180_Cap 180mg', 'Xarelto_Tab 20mg', 'Braltus_Pdr For Inh Cap 10mcg+Zonda Inh', 'Easyhaler_Budesonide 100mcg (200 D)', 'OxyNorm_Cap 20mg', 'Mezolar Matrix_TransdermalPatch 12mcg/hr', 'Mezolar Matrix_TransdermalPatch 50mcg/hr', 'Mezolar Matrix_TransdermalPatch 75mcg/hr', 'Transtec_T/Derm Patch 52.5mcg/hr (30mg)', 'MXL_Cap 150mg', 'ReQuip XL_Tab 4mg', 'Physeptone_Mix 1mg/1ml', 'Physeptone_Mix 1mg/1ml S/F', 'Ins Insuman Comb 25 SoloStar_3ml Pf Pen', 'CareSens N (Reagent)_Strips', 'Testosterone_Gel 50mg/5g Ud Tube', 'Ethinylest/Norethist Acet_Tab 20mcg/1mg', 'Caverject_Inj Pack (10mcg Vl + Dil)', 'CellCept_Tab 500mg', 'Ciclosporin_Cap 25mg', 'Renacet_Tab 950mg', 'Sod Chlor_Eye Dps 0.9% 0.5ml Ud P/F', 'Nasobec Aq_Nsl Spy 50mcg (200 D) 30ml', 'Hydrocort_Oint 2.5%', 'Zovirax_Crm 5%', 'K-Plus Long 10cm x 10.25m M/Layer Compre', 'ActivHeal Alginate 5cm x 5cm Wound Dress', 'ActivHeal Alginate 10cm x 10cm Wound Dre', 'ActivHeal Foam Adh 7.5cm x 7.5cm Wound D', 'ActivHeal Foam Adh 12.5cm x 12.5cm Wound', 'ActivHeal Foam Adh 10cm x 10cm Wound Dre', 'ActivHeal Foam Adh 15cm x 15cm Wound Dre', 'ActivHeal 5cm x 5cm Non-Adh Foam Wound D', 'Hypafix 5cm x 10m Surg Adh Tape Perm Non', 'Unistik 3 Gentle Lancets 1.5mm/30 Gauge', 'ActiLymph Class 1 B/Knee Closed Toe Blk', 'Sigvaris Cotton Class 1 B/Knee Closed To', 'Refresh Ophth Polyvinyl Alcohol Eye Dps', 'Dansac_Non Sting Adh Remover Sach', 'Trio_Elite Sting Free Adh Remover Spy 50', 'Hollister_Adapt Lubri Deod Liq', 'Dansac_Nova 1 Drnbl Infant Pouch Clr C/F', 'Mesalazine_Tab 1g M/R', 'Glyceryl Trinit_Patch 10mg/24hrs', 'Slozem_Cap 300mg', 'Formoterol Fumar_Pdr For Inh 6mcg (60 D)', 'Frebini_Energy Fibre Liq (2 Flav)', 'Frebini_Energy Fibre Liq (Unflav)', 'Piroxicam_Cap 20mg', 'Rapitil_Eye Dps 2%', 'Insupen Needles Pen Inj Screw On 5mm/31', 'Insupen Needles Pen Inj Screw On 8mm/31', 'LoFric Origo+Water Nelaton Male 40cm Siz', 'ConvaTec_ConvaTec Silesse Sting Free Bar', 'Eletriptan_Tab 40mg', 'Exenatide_Inj 5mcg/0.02ml 1.2ml Pfs(60D)', 'Sterculia/Frangula_Gran 62/8%Sach 7g G/F', 'Moviprep_Oral Pdr Sach', 'Germoloids_Suppos', 'Ultraproct_Suppos', 'Nadolol_Tab 80mg', 'Amias_Tab 4mg', 'Xismox XL 60_Tab 60mg', 'Viazem XL_Cap 240mg', 'Adipine XL_Tab 60mg', 'Dalteparin Sod_Inj 25 000u/ml 0.5ml Pfs', 'Hapoctasin_Patch 35mcg/hr', 'Morphgesic SR_Tab 10mg', 'Clarithromycin_Tab 500mg M/R', 'Ins Detemir_100u/ml 3ml Cart', 'Estradot_Patch 100mcg/24hrs', 'Proscar_Tab 5mg', 'Uro-Tainer_Chlorhex Acet .02% 100ml Sach', 'Enshake_Pdr Sach 96.5g (Choc)', 'Enshake_Pdr Sach 96.5g (Sbery)', 'Enshake_Pdr Sach 96.5g (Vanilla)', 'SMA Alfamino_Pdr', 'Valupak_Multivit & Mineral Tab OAD', 'Methotrexate_Inj 25mg/0.5ml PF Dev', 'Methotrexate_Inj 15mg/0.3ml PF Dev', 'Yellox_Eye Dps 900mcg/ml', 'Paraf_Soft Yellow (S)', 'Eczmol_Crm 1%', 'Diprosone_Crm 0.05%', 'Fluticasone Prop_Crm 0.05%', 'Hydrofilm Plus 9cm x 10cm VP Adh Film Dr', 'Advazorb 7.5cm x 7.5cm Wound Dress Polyu', 'Advazorb 10cm x 10cm Wound Dress Polyure', 'Advazorb Border 7.5cm x 7.5cm Wound Dres', 'Laryngofoam Beige 5.1cm x 6.2cm Tracheo', 'Provox Fltr HME Flexiderm Adh Oval 7254', 'Provox XtraMoist HME Cass 7290 Tracheo B', 'Vitrex Nitrile Gloves Sml/Med/Lge Prote', 'Alissa Sod Bicarb Ear Dps 5% Ear Wax Sof', 'Conveen EasiCath Nelaton Fle Size 8-16 (', 'Bard Biocath H/Gel Foy Male 10ml Ball 12', 'Mediven harmony Class 1 Combined A/Sleev', 'Bard_Uriplan Leg Bag 30cm Inlet Tube 750', 'Coloplast_Trident T2 Leg Bag 500ml Adjus', 'Teleflex_Rusch Leg Bag 500ml 30cm Tubing', 'Hollister_Night Drain Bag 2L Non-Drnbl', 'Teleflex_Night Drain Bag + Sle Use Tap 2', 'Respond_OstoMart OstoPEEL Apple No Sting', 'Hollister_Compact Closed Pouch Transpt C', 'Hollister_Moderma Flex Midi Closed Pouch', 'Hollister_Moderma Flex Maxi Integ Convex', 'Coloplast_Sensura Mio Maxi Drnbl Bag Tra', 'Ilex_Ilex Skin Protectant Paste 57g', 'Hollister_Conform 2 Maxi Closed Pouch Be', 'Hollister_Conform 2 Flat Barrier +Adh 55', 'Hollister_Conform 2 Midi Closed Pouch +', 'Zoton_FasTab Tab 15mg', 'Valsartan_Tab 40mg', 'Isosorbide Dinit_Tab 40mg M/R', 'Bricanyl_Respule 2.5mg/ml 2ml Ud', 'Budesonide_Inh Soln 1mg/2ml Ud Vl', 'Fluticasone Prop_Pdr For Inh 500mcg(60D)', 'Fluticasone Prop_Inh Soln 500mcg/2ml Ud', 'Dornase Alfa_Neb Soln 2.5mg/2.5ml Amp', 'Zaluron XL_Tab 150mg', 'Pethidine HCl_Tab 50mg', 'Pramipexole_Tab 1.05mg M/R', 'Nicotine_Loz 2mg S/F', 'Ins Detemir_Inj 100u/ml 3ml Pf Pen', 'Glibenclamide_Tab 2.5mg', 'Levothyrox Sod_Tab 75mcg', 'Utrogestan_Cap 100mg', 'Fultium-D3_Cap 3 200u', 'Kalcipos-D_Tab Chble 800u/500mg', 'Iopidine_Eye Dps 5mg/ml', 'Betameth Diprop_Crm 0.05%', 'Fluocinolone Aceton_Crm 0.025%', 'Tetracai_Gel 4%', 'ClearFilm 6cm x 7cm VP Adh Film Dress', 'Advazorb Border 10cm x 10cm Wound Dress', 'BD Micro-Fine + Lancets 0.20mm/33 Gauge', 'Clinitas Multi 0.4% Sod Hyaluronate Eye', 'Hollister_Moderma Flex Maxi Drnbl Pch Tr', 'Welland_Aura Drnbl Ileo Pouch Midi Beige', 'Dansac_Seals 40mm (70mm Outer Diam)', 'Oakmed_Option Seals Rings 20mm', 'Moviprep Orange_Oral Pdr Sach', 'Coloplast_Assura Insp Midi Closed Bag Tr', 'Pelican_Select Closed Convex Pouch Clr S', 'Convatec_C/Sive Natura Stomahesive Flng', 'Tenif_Cap 50mg/20mg M/R', 'Mezolar Matrix_TransdermalPatch 25mcg/hr', 'Mezolar Matrix_TransdermalPatch100mcg/hr', 'Varenicline Tart_Tab 0.5mg', 'Ins Levemir_Innolet 100u/ml 3ml Pf Pen', 'Estradiol_Patch 40mcg/24hrs (AMQ8)', 'Yacella_Tab 30mcg/3mg', 'Alprostadil_Inj 20mcg Pfs Cart', 'Lanreotide_Inj 30mg Vl + Dil', 'Fresubin Energy_Liq (Unflav)', 'Fresubin 2kcal Creme_Dessert (Cappucino)', 'Calc Acet_Tab 950mg', 'Ketovite_Supp Liq S/F', 'Acemetacin_Cap 60mg', 'Betameth/Neomycin_Ear/Eye/Nose Dps.1/.5%', 'Saliveze_Dry Mth P/Spy 50ml', 'Urea_Crm 5%', 'Psoriderm_Scalp Lot', 'DuoDERM Ex Thin 5cm x 10cm Wound Dress H', 'Omeprazole_Oral Susp 20mg/5ml', 'Dipyridamole_Tab 25mg', 'Salbutamol_Tab 4mg', 'Olanzapine_Orodisper Tab 10mg', 'Mezolar Matrix_T/Derm Patch 37.5mcg/hr', 'Buccolam_Oromuc Soln 5mg/1ml Oral Pfs', 'ReQuip XL_Tab 8mg', 'Fluconazole_Oral Susp 50mg/5ml', 'Alprostadil_Inj 10mcg Pfs Cart', 'Femara_Tab 2.5mg', 'Glutafin_G/F W/F Crisp Bread', 'Fortini_Multi Fibre Liq (4 Flav)', 'Fresubin Orig Tube Feed_Liq (Unflav)', 'Piloc Nit_Eye Dps 2% Ud', 'Gppe Mthwsh_Eludril', 'Clotrimazole_Spy 1% 40ml', 'Pot Permanganate_Cutaneous Soln Tab400mg', 'Primapore 6cm x 8.3cm Pfa + Adh Border d', 'ActivHeal Alginate 10cm x 20cm Wound Dre', 'kliniderm Foam Slc Border 10cm x 20cm Wo', 'Medihoney A-Bact Apinate 5cmx5cm Wound D', 'Zetuvit Plus 15cm x 20cm Super-Absorb Dr', 'Uro-Tainer Twin Solution R 2 x 30ml Cath', 'Devon Positioning Products Foot+Heel Pro', 'Coloplast_Trident T1 Leg Bag 500ml Short', 'Frusene_Tab', 'Amlodipine_Oral Soln 5mg/5ml S/F', 'Slo-Phyllin_Cap 60mg', 'Clemastine Fumar_Tab 1mg', 'Seroquel_Tab 100mg', 'Chlorpromazine HCl_Oral Soln 25mg/5ml', 'Donepezil HCl_Orodisper Tab 5mg S/F', 'Ins Insuman Comb 50_100u/ml 3ml Cart', 'Myfortic_Tab 360mg G/R', 'Tamoxifen Cit_Oral Soln 10mg/5ml S/F', 'Barkat_G/F W/F Cornflakes', 'Seravit_Paed Mix Unflav', 'EAA Supp_Pdr Sach 12.5g', 'Infatrini Peptisorb_Liq', 'Fortini_Creamy Fruit Multi Fibre (2Flav)', 'Nasacort_Allergy Nsl Spy 55mcg (30D)', 'Aveeno_Moist Creamy Oil', 'Medihoney A-Bact Wound Gel 10g Wound Dre', 'ActivHeal Hydrocolloid 10cm x 10cm Wound', 'ActivHeal 10cm x 10cm Non-Adh Foam Wound', 'Kapitex Trachi-Swab Sml (50 Pack) Trache', 'Unspecified Stkntte 10cm x 1m  Elasctd T', 'Limb Seal-Tight Adult Wide Short Leg Wou', 'Gloves (100 Gauge) (Disp) Polyth Occlusi', 'Numark Olive Oil Ear Dps Ear Wax Softeni', 'Bard Lubri-Sil Compreh/Care Foy Tray Mal', 'Devon Positioning Products Utility Pad 5', 'Hollister_Night Drain Bag 2L Drnbl', 'Coloplast_Brava Mouldable Rings 48mm x 2', 'Olsalazine Sod_Cap 250mg', 'Sotacor_Tab 80mg', 'Amias_Tab 16mg', 'Viazem XL_Cap 180mg', 'Nicardipine HCl_Cap 20mg', 'Nicardipine HCl_Cap 30mg M/R', 'Dhc Continus_Tab 60mg', 'Gppe Ins_Lantus 100u/ml 10ml Vl', 'Elleste Solo MX 80_Patch 80mcg/24hrs', 'CellCept_Cap 250mg', 'Nutilis_Fruit Stage 3 (Apple)', 'Renacet_Tab 475mg', 'Sod Fluoride_Mthwsh 0.05% S/F', 'Hypromellose_Eye Dps 0.32% 0.5ml Ud', 'Synalar-C_Crm', 'Cetaphil_Moist Crm', 'Hydrofilm 10cm x 15cm VP Adh Film Dress', 'Hydrofilm 10cm x 12.5cm Vp Adh Film Dres', 'kliniderm Foam Slc Border 7.5cm x 7.5cm', 'Aquacel Foam Adhesive 8cm x 13cm Wound D', 'Medihoney Tulle 10cm x 10cm Medical Hone', 'Scanpor 2.5cm x 5m Surg Adh Tape Perm No', 'NovoPen Echo Red Pen 3ml 0.5u (0.5-30u)', 'Grip-Lok Securement Dev For Med Cath (10', 'Amielle Comfort Vag Dilator Kit', 'Sigvaris Diaphane (15-21mmHg) B/Knee Cls', 'Convatec_Combihesive Natura Drnbl Pouch', 'Coloplast_Assura Maxi Clr Bag C/Fit 10-5', 'Navispare_Tab', 'Easyhaler_Budesonide 200mcg (200 D)', 'Vortioxetine_Tab 20mg', 'Gatalin XL_Cap 8mg', 'Barkat_G/F W/F Coffee Bisc', 'Diclof Sod E/C /Misopros_Tab 75mg/200mcg', 'Fml_Ophth Susp 0.1%', 'Aquacel Ag Ribbon 1cm x 45cm Wound Dress', 'Milex Ring Pess Slc Without Support/Fold', 'Sigvaris Magic Class 2 Thigh Lace Grip T', 'Co-Danthramer_Susp 25mg/200mg/5ml S/F', 'Myfortic_Tab 180mg G/R', 'Primapore 8cm x 15cm Pfa + Adh Border Dr', 'EZY-As Compress Hose Applic', 'Sigvaris Cotton Class 2 B/Knee Closed To', 'Lisinopril_Oral Soln 5mg/5ml S/F', 'Frebini_Energy Liq (2 Flav)', 'Balmosa_Crm', 'Menveo_Vac 0.5ml Vl + Dil', 'Ambirix_Vac 720u/20mcg/ml 1ml Pfs', 'Samaritan_Olive Oil', 'Unspecified Stkntte 12cm x 1m Elasctd Tu', 'Atenolol/Nifedipine_Cap 50mg/20mg M/R', 'Tenoret_Tab 50mg/12.5mg', 'Ipratrop_Steri-Neb Soln 500mcg/2ml Ud', 'Co-Fluampicil_Cap 250mg/250mg', 'Nateglinide_Tab 60mg', 'Glucotabs_Tab (Juicy Raspberry)', 'Soya Oil82.95%/Lauromacrogois15%_BathOil', 'Cetraben Lot 200ml', 'Saizen_Inj 6mg/1.03ml Cart', 'Tyrozets_Loz', 'Nicardipine HCl_Cap 30mg', 'Vertab SR 240_Tab 240mg', 'Pericyazine_Tab 2.5mg', 'OxyContin_Tab 15mg M/R', 'Morph Sulf_Tab 100mg M/R', 'Stalevo_Tab 50mg/12.5mg/200mg', 'Hiprex_Tab 1g', 'SuperCheck 2 (Reagent)_Strips', 'Ulipristal Acet_Tab 5mg', 'Nutrison Pack_Energy M/Fibre', 'ProSource Plus_Liq Sach 30ml (Neutral)', 'UrgoKTwo Size 25-32cm (10cm) M/Layer Com', 'ActivHeal Hydrogel 8g Wound Dress H/Gel', 'Iodoflex Paste 5g Wound Dress H/Gel Ster', 'ActivHeal Foam Adh 20cm x 20cm Wound Dre', 'ActivHeal Foam 18cm x 12cm Wound Dress P', 'Zetuvit Plus 20cm x 25cm Super-Absorb Dr', 'Apollo Pressure-Activated Safety Lancets', 'Apollo Twist Lancets 0.36mm/28 Gauge', 'Limb LimbO Adult Elbow Med/Lge Build Wat', 'Activa Leg Ulcer Hose Kit Med Clsd Toe C', 'Evolve Hypromellose 0.3% Eye Dps 10ml P/', 'PVA 1.4% Tubilux Polyvinyl Alcohol Eye D', 'Coloplast_Coloplast Night Bag + 120cm Tu', 'Coloplast_SenSura Midi Closed Bag Transp', 'Coloplast_SenSura Maxi Closed Bag Transp', 'Coloplast_Sensura Mio Maxi Trans Clsd Ba', 'Respond_OstoMart OstoSorb Gel Sach 3g', 'Coloplast_Assura Insp Integ C/exity Maxi', 'Camcolit 400_Tab 400mg', 'Prothiaden_Cap 25mg', 'Prothiaden_Tab 75mg', 'Ethinylestr/Gestodene_Tab 30mcg/75mcg', 'Arthrotec 50_Tab', 'Prednisolone Sod Phos_Ear/Eye Dps 0.5%', 'Menthol In Aq_Crm 0.5%', 'N-A Ultra 9.5cm x 9.5cm Type 1 Ktd Visco', 'Coloplast_SenSura Mio Click B/Plt D/Conv', 'Mag Trisil Co_Tab', 'Acidex_Liq (Peppermint)', 'Uniroid Hc_Oint', 'Doxadura_Tab 2mg', 'Angitil XL 240_Cap 240mg', 'Felotens XL_Tab 5mg', 'Felotens XL_Tab 10mg', 'Dalteparin Sod_Inj 25 000u/ml 0.4ml Pfs', 'Simvador_Tab 40mg', 'Conj Oestro/Norgestrel_Tab 625mcg/150mcg', 'Avodart_Soft Cap 500mcg', 'Medroxyprogest Acet_Tab 100mg', 'Lanthanum Carb_Tab Chble 1g S/F', 'Metoject_PEN Inj 10mg/0.2ml Pf Pen', 'Ephed HCl_Nsl Dps 1% BP', 'Nerisone_Oily Crm 0.1%', 'Cutivate_Crm 0.05%', 'Epimax Crm 100g', 'Isomol Gel 500g', 'Jobst Elvarex Acc For U/Extrem Slc Band', 'Hollister_Leg Bag Ster 500ml Inlet 10cm', 'Teleflex_Rusch Leg Bag 500ml 10cm Tubing', 'Bullen_Shelter Safe-Seal', 'Hollister_Medical Adh A/Spy 90g', 'Respond_OstoMart OstoPEEL Frag/Free NoSt', 'Zantac_Syr 150mg/10ml S/F', 'Ursodeoxycholic Acid_Tab 300mg', 'Moduretic_Tab 5mg/50mg', 'Doxadura_Tab 4mg', 'Perindopril Arginine_Tab 5mg', 'Mycophenolate Mofetil_Cap 250mg', 'Galfer_Cap 305mg', 'Stexerol-D3_Tab 1 000u', 'Methotrexate_Inj 20mg/0.4ml PF Dev', 'Betameth Diprop_Oint 0.05%', 'Fluocinolone/Clioquinol_Crm 0.025%/3%', 'Welland_FreeStyle Vie Closed Pouch Clr L', 'Pelican_Select Minuet Plus Stoma Cap S/H', 'Peak_Combimate 2-Piece Drnbl Pouch Beige', 'Minoxidil_Tab 5mg', 'Movelat Relief_Gel', 'Ursofalk_Cap 250mg', 'Perindopril Arginine_Tab 10mg', 'Viazem XL_Cap 360mg', 'Acipimox_Cap 250mg', 'Atimos Modulite_Inh 12mcg (100D)', 'Co-Careldopa_Tab 10mg/100mg', 'Nicotine_Loz 1.5mg S/F (Mint)', 'Acarbose_Tab 100mg', 'Alprostadil_Inj 20mcg Vl + Dil', 'Fortisp_2kcal (2 Flav)', 'Calcichew Fte_Chble Tab 2.5g', 'Rhinocort Aqua 64_Nsl P/Spy 64mcg (120D)', 'Benzocaine_Spy 1mg 15ml S/F', 'Veil_Cover Crm', 'Veil_Finishing Pdr', 'Mesorb 10cm x 10cm Pfa Cellulose Dress', 'Cosmopor 5cm x 7.2cm Adh Dress Pfa', 'Provox Fltr HME Skin Barrier Wipes Trach', 'Melophthal 0.5% Carmellose Eye Dps 0.4ml', 'Xailin Hydrate Hypromellose 0.3% Eye Dps', 'Coloplast_S5 Urine Drain Bag 2L', 'Convatec_Colodress Plus Closed Pouch Opq', 'Dansac_Nodor S Deod 50ml', 'Coloplast_Comfeel Barrier Crm', 'Hollister_Conform 2 Urost Pouch + Soft T', 'Ferr Fumar/Folic Acid_Cap 305mg/350mcg', 'Fresubin 5kcal Shot_Drink (Lemon)', 'Mentholatum_Deep Heat Max Strgh Crm', 'AndoFlex UBZ Ltx Free 2 Layer+Zinc 10cm', 'Cefaclor_Cap 250mg', 'Mission Ketone (Reagent)_Strips', 'Evacal D3_Tab Chble 400u/1.5g', 'Vagisil_Medic Creme', 'Imodium Classic_Cap 2mg', 'Salofalk_Enem (2g/59ml)', 'Quinapril HCl/Hydchloroth_Tab 10/12.5mg', 'Quinapril HCl_Tab 5mg', 'Dalteparin Sod_Inj 25 000u/ml 0.6ml Pfs', 'Zimovane_Tab 7.5mg', 'OxyNorm_Cap 10mg', 'Stalevo_Tab 175mg/43.75mg/200mg', 'Arimidex_Tab 1mg', 'Havrix Monodose_Vac 50u/ml 1ml Vl', 'Midazolam HCl_Inj 2mg/ml 5ml Amp', 'MacuShield_Cap', 'Class 11 M/M C/Kt B/Knee Stkn Elas Hose', 'Trio_Pearls Sach', 'Phos Enem_(For B) 128ml Long Tube', 'Trandolapril_Cap 1mg', 'Cozaar_Tab 50mg', 'Fluvastatin Sod_Tab 80mg M/R', 'Audmonal_Cap 60mg', 'Audmonal_Forte Cap 120mg', 'Pradaxa_Cap 150mg', 'Tramulief SR_Tab 200mg', 'Adoport_Cap 1mg', 'Zn Sulf_Cap 220mg', 'Derbac-M_Liq 0.5%', 'Cx_Antis Dust Pdr 1%', 'Odaban_A-Pers P/Spy 20% 30ml', 'Cosmopor 8cm x 10cm Adh Dress Pfa', 'Purilon Gel 8g Wound Dress H/Gel Ster', 'Bullen Hi-Slip Plus Hydro Nelaton Male 8', 'Medicareplus_Medi Lifteez N/Sting Medic', 'Pelican_Select Afresh Closed Pouch Clr S', 'Cozaar_Tab 12.5mg', 'BuTrans_Transdermal Patch 15mcg/hr', 'Tramulief SR_Tab 100mg', 'Tramulief SR_Tab 150mg', 'Epanutin_Susp 30mg/5ml', 'Provera_Tab 100mg', 'Aymes Shake_Pdr (Neutral)', 'Movelat Relief_Crm', 'Biatain 5cm x 7cm Wound Dress Polyureth', 'Biatain Slc 7.5cm x 7.5cm Wound Dress So', 'Comfifast MultiStretch 2-way Stch 7.5cmx', 'Procyclidine HCl_Oral Soln 5mg/5ml S/F', 'NuvaRing_Vag Delivery System', 'Coloplast_Simpla Plus Leg Bag Ster 750ml', 'Gaviscon_Liq Sach 10ml (Peppermint) S/F', 'Amiloride HCl/Bumetanide_Tab 5mg/1mg', 'Prestylon_Cap 1g', 'Topamax_Sprinkle Cap 25mg', 'Biatain 10cm x 10cm Wound Dress Polyuret', 'Coloplast_Simpla Plus Leg Bag 500ml 50cm', 'Opus_SkinSafe Non Sting Prote Film A/Spy', 'Stanek_Tab 150mg/37.5mg/200mg', 'Systane_Lid Wipes', 'Allevyn Life 12.9cm x 12.9cm Wound Dress', 'Dansac_Nova Colo Bag Opqe P/Cut 30mm', 'Dalteparin Sod_Inj 25 000u/ml 0.3ml Pfs', 'Atrovent UDVs_Neb Soln 500mcg/2ml Ud', 'Levocetirizine_Oral Soln 500mcg/ml S/F', 'Pholcodine_Oral Soln 2mg/5ml S/F', 'Fluphenazine Decan_Inj 100mg/ml 1ml Amp', 'Rewisca_Cap 25mg', 'Rewisca_Cap 300mg', 'Ellaone_Tab 30mg', 'Calc Resonium_Pdr', 'Nutrini_Energy M/Fibre Liq Feed', 'Strepsils_Loz Sbery S/F', 'Nystaform_Crm', 'Coconut_Oil (S)', 'K-Band 5cm x 4m Ktd Polyam & Cellulose C', 'K-Band 7cm x 4m Ktd Polyam & Cellulose C', 'Unspecified Surg Adh Tape 1.25cm x 5m Pe', 'Activa Leg Ulcer Hose Kit Sml Stkn + Com', 'Mediven For Men Class 1 B/Knee Closed To', 'Coloplast_SenSura Maxi Closed Bag Split', 'Opus_NaturCare Zest Deod A/Spy 50ml', 'Simvastatin_Oral Susp 20mg/5ml S/F', 'Estradiol_Patch 100mcg/24hrs (AMQ8)', 'Typh_Vac 0.5ml Pfs', 'Hepat A_Vac 1440u/ml 1ml Pfs', 'Humapen Luxura HD 3ml 0.5u (1-30u) Hypod', 'Pelican_Contour Flange Extender', 'Nicotine_Transdermal Patch 7mg/24hrs', 'Ensure Shake_Oral Pdr Sach 57g (Sbery)', 'Liq Paraf_Bath Add 65%', 'Coloplast_Trident T1 Leg Bag 500ml Long', 'Coloplast_Trident T1 Leg Bag 750ml Long', 'Coloplast_Brava Ostomy Pdr', 'Coloplast_Brava Prote Sheets Non Ster 10', 'Disopyramide_Cap 100mg', 'Ciclesonide_Inh 160mcg (120 D) CFF', 'Nifedipine_Tab 40mg M/R', 'Heparin Sod_Soln 100u/ml 2ml Amp', 'Calc Carb_Tab Chble 2.5g S/F', 'Zincomed_Cap 220mg', 'Cod Liver Oil_Cap 400mg', 'Xylomet HCl_Nsl Dps Paed 0.05%', 'Calgel_Teething Gel S/F', 'Betameth Diprop_Scalp Lot 0.05%', 'Hydrocort But_Scalp Lot 0.1%', 'Bazuka_Gel + Applic', 'Mepore Film + Pad 4cm x 5cm VP Adh Film', 'Humapen Savvio Graphite 3ml 1u (1-60u) H', 'Glycopyrronium Brom_Tab 1mg', 'Hydralazine HCl_Tab 50mg', 'Tinzaparin Sod_Inj 10 000u/ml 0.35ml Pfs', 'Co-Amoxiclav_Susp 400mg/57mg/5ml S/F', 'Element (Reagent)_Strips', 'GlucoLab (Reagent)_Strips', 'Elleste Solo MX 40_Patch 40mcg/24hrs', 'Dermacolor_Camouflage Creme', 'Bactroban_Oint 2%', 'U100 BD SafetyGlide Sle Use 0.3ml + 8mm', 'U100 BD SafetyGlide Sle Use 1.0ml + 12mm', 'Greenlan Lancets 0.35mm/28 Gauge', 'Limb LimbO Adult 1/2 Leg Lge Build/Short', 'LoFric Primo Nelaton Fle Non-PVC 20cm 8-', 'B.Braun Actreen Male Glys Set Nelaton 8-', 'B.Braun Actreen Fle Glys Set Nelaton 6-1', 'B.Braun Actreen Hi-Lite Male Nelaton 8-1', 'iMEDicare SomaErect Response II Vacuum P', 'iMEDicare Ultimate (Surefit) Maint Set C', 'Salts_Confidence Natural Closed Stnd Pou', 'Respond_OstoMart OstoSeal Prote Pdr', 'Metoclopramide HCl_Inj 5mg/ml 2ml Amp', 'Galantamine_Oral Soln 20mg/5ml S/F', 'Oxybutynin HCl_Liq Spec 2.5mg/5ml', 'Nutrini Pack_M/Fibre Liq Feed', 'Mepore 9cm x 20cm Pfa + Adh Border Dress', 'Hollister VaPro Hydrophilic Fle Size 8-1', 'B.Braun Actreen Hi-Lite Fle Nelaton 6-16', 'Coloplast_Assura Insp C/exity S/Seal Mid', 'Viazem XL_Cap 300mg', 'Nutrison Pack_Energy', 'Nutilis_Fruit Stage 3 (Sbery)', 'Tegaderm Alginate Ag 5cm x 5cm Wound Dre', 'Hydrocoll Thin Film 10cm x 10cm Wound Dr', 'Comfifast 17.5cm x 1m (Beige) Stkntte El', 'ConvaTec_ConvaTec Silesse Sting Free Ski', 'Salts_SecuPlast Aloe Rings 25mm', 'Pro-Banthine_Tab 15mg', 'Ursofalk_Tab 500mg', 'Agomelatine_Tab 25mg', 'Tacrolimus_Cap 5mg', 'Decapeptyl SR_Inj 22.5mg Vl + Dil', 'Tegaderm + Pad 9cm x 10cm VP Adh Film Dr', 'Aquacel Foam Non-Adhesive 10cm x 10cm Wo', 'Aquagel Lubri Jelly', 'Qufora IrriSedo Irrig Balloon System Cat', 'Coloplast_SenSura Mini Drnbl Bag S/Cover', 'Halyard_Corstop a.c.e stopper', 'Ursodeoxycholic Acid_Susp 250mg/5ml S/F', 'Zemtard 300 XL_Cap 300mg', 'Sondate XL_Tab 300mg', 'Kwells_Tab', 'Morph Sulf_Gran Sach 20mg M/R', 'Vigabatrin_Pdr Sach 500mg S/F', 'Co-Beneldopa_Cap 50mg/200mg', 'Estraderm MX 75_Patch', 'Sod Chlor_I/V Inf 0.9%', 'Nutrison_1000 Complete M/Fibre Liq', 'Xemacort_Crm', 'Exorex_Crm', 'Almond Oil_Liq', 'Profore #1 10cm x 3.5m M/Layer Compress', 'Profore #2 10cm x 4.5m M/Layer Compress', 'OpSite Plus 8.5cm x 9.5cm VP Adh Film Dr', 'Comfifast E/Wrap Vest L/S 6-24Mon Elasct', 'Comfifast E/Wrap Leg 2-5 Yrs Elasctd Vis', 'Bard_Leg Bag Straps (Washable)', 'Glycopyrronium Brom_Tab 2mg', 'Mebeverine HCl_Oral Susp 50mg/5ml S/F', 'Naloxegol_Tab 25mg', 'Sondate XL_Tab 50mg', 'Serc-16_Tab 16mg', 'Perampanel_Tab 4mg', 'Dretine_Tab 30mcg/3mg', 'Scandishake Mix_Pdr Sach 85g (Sbery)', 'Tentrini Pack_G/F Energy M/Fibre Feed', 'Silkis_Oint 3mcg/g', 'Nutilis_Pdr Sach 12g', 'Profore 18-25cm M/Layer Compress Bandagi', 'IntraSite Conform 10cm x 10cm Wound Dres', 'SpeediBag Compact Cath Access', 'Medicareplus_Medi Derma-S Barrier Crm 28', 'Hollister_Adapt Conformable Convex Barri', 'Misoprostol_Tab 200mcg', 'Viazem XL_Cap 120mg', 'Sondate XL_Tab 200mg', 'Sondate XL_Tab 150mg', 'Hydromorphone HCl_Cap 8mg M/R', 'Hydromorphone HCl_Cap 2.6mg', 'Hydromorphone HCl_Cap 2mg M/R', 'GlucoMen areo Ketone (Reagent)_Strips', 'Feanolla_Tab 75mcg', 'Mycophenolate Sod_Tab 180mg G/R', 'Pot Chlor_Oral Soln 375mg/5ml S/F', 'Elemental 028 Ex_Pdr Sach 100g (3 Flav)', 'Nutricrem_Dessert (Sbery)', 'Fluarix Tetra_Vac 0.5ml Pfs', 'Softpore 10cm x 20cm Pfa + Adh Border Dr', 'Actisorb Silv 220 10.5cm x 10.5cm Wound', 'Jobst Elvarex For L/Extrem Class 1 Knee', 'Unomedical_Careline Easi MT Drain Bag 2L', 'Coloplast_SenSura Mio Midi Drnbl Bag S/C', 'Coloplast_Brava Skin Barrier Spy 50ml', 'Propranolol HCl_Oral Soln 10mg/5ml S/F', 'Melatonin_Oral Soln 2mg/5ml', 'Liquivisc_Eye Gel 0.25%', 'Neutrogena_T/Gel 2 in 1 Shampoo & Cond', 'Coban 2 Comfort 10cm x 3.5m 2 Layer Comp', 'Dansac_NovaLife 1 Closed Colo Bag Midi O', 'Ulipristal Acet_Tab 30mg', 'Ditropan_Tab 2.5mg', 'N-A Dress 9.5cm x 9.5cm Type 1 Ktd Visco', 'Cosmopor E 8cm x 10cm Adh Dress Pfa', 'Unomedical_Careline Leg Bag + Lever Tap', 'Adoport_Cap 2mg', 'Nutricrem_Dessert (Choc Orange)', 'ActivHeal Aquafiber Rope 2cm x 42cm Woun', 'Coloplast_SenSura Soft Seal Midi Split S', 'CliniMed_Hyperseal Washers+Manuka HoneyS', 'Carbagen_Tab 200mg', 'Jobst Elvarex Acc For L/Extrem Closed To', 'Alzain_Cap 50mg', 'Alzain_Cap 200mg', 'Rotigotine_Transdermal Patch 3mg/24hrs', 'Fortisip Compact_S/Pack Liq', 'Penicillamine_Tab 125mg', 'Penicillamine_Tab 250mg', 'Coal Tar_Shampoo 4%', 'Provox XtraFlow HME Cass 7291 Tracheo B/', 'Mylife Lancets 0.3mm/30 Gauge', 'Famotidine_Tab 40mg', 'Rythmodan_Cap 100mg', 'Timolol_Tab 10mg', 'Cozaar_Tab 100mg', 'Coro-Nitro_P/Spy 400mcg (200 D)', 'Risperidone_Orodisper Tab 500mcg S/F', 'Clomipramine HCl_Tab 75mg M/R', 'Trimipramine Mal_Tab 10mg', 'Venlablue XL_Cap 37.5mg', 'Dipipanone HCl/Cyclizine HCl_Tab 10/30mg', 'Perampanel_Tab 6mg', 'Repinex XL_Tab 4mg', 'Repinex XL_Tab 8mg', 'Pramipexole_Tab 2.1mg M/R', 'Pramipexole_Tab 1.57mg M/R', 'Sastravi_Tab 125mg/31.25mg/200mg', 'FemSeven Sequi_Patch', 'SunVit-D3 1 000_Tab', 'Picato_Gel 500mcg/g', 'Biatain Adh 7.5cm x 7.5cm Wound Dress Po', 'PVC Ring Pess 85-100mm 1.25cm Thick', 'Rusch PTFE AquaFlate Ctd Ltx Foy Male 12', 'Hollister VaPro Pocket Hydro Male 40cm 1', 'B.Braun Actreen Fle Mini Nelaton 10-14 (', 'Mediven Plus Class 2 B/Knee Open Toe Lym', 'CliniSupplies_Prosys Cath Valve', 'L.IN.C_LINC-Flo Leg Bag 500ml 30cm Inlet', 'L.IN.C_LINC-Flo Night Drain Bag Nrv 2L', 'AMI_Suportx Ostomy/Hernia Easy Peel Supp', 'Convatec_System 2 Belt', 'Salts_Confidence Natural Advance Clsd Pc', 'Salts_Confidence Natural Drnbl Pch + C/B', 'Ranitidine HCl_Oral Soln 5mg/5ml', 'Trandate_Tab 200mg', 'Paliperidone_Inj 100mg/1ml Pfs', 'Arcoxia_Tab 60mg', 'Picato_Gel 150mcg/g', 'Melolin 20cm x 10cm Pfa Plas Faced Dress', 'B.Braun Actreen Male Lite Nelaton 8-18 (', 'L.IN.C_LINC-Flo Leg Bag 500ml Direct Inl', 'Depixol-Conc_Inj 100mg/ml 1ml Amp', 'Haloperidol Decan_Inj 50mg/ml 1ml Amp', 'Clopixol Conc_Inj 500mg/ml 1ml Amp', 'Fluanxol_Tab 1mg', 'Brivaracetam_Tab 100mg', 'Ipinnia XL_Tab 2mg', 'Tenofovir Disoproxil_Tab 245mg', 'Estradot_Patch 75mcg/24hrs', 'Indivina_Tab 1mg/2.5mg', 'Adoport_Cap 500mcg', 'Sirolimus_Tab 1mg', 'Valupak_Vit D3 Tab 1 000u', 'SunVit-D3 10 000_Tab', 'Biotene_Dry Mth A-Bact Toothpaste (Orig)', 'E45 Junior_Foaming Bath Milk', 'Biatain Silicone Lite 7.5cm x 7.5cm Woun', 'SST Saliva Stimulating Tab', 'Mediven Elegance Class 1 Thigh + Top Ban', 'Mediven Elegance Class 2 B/Knee Closed T', 'Unomedical_Careline+ Leg Bag + Lever Tap', 'Unomedical_Careline E2 Urine Drain Bag 2', 'Salts_Confidence Drnbl Supersoft Pouch S', 'Cardicor_Tab 5mg', 'Emerade_Auto Inj 1/1000 1mg/ml 0.5ml', 'Zimovane LS_Tab 3.75mg', 'Naltrexone HCl_Tab 50mg', 'Gentamicin Sulf_Inj 40mg/ml 2ml Amp', 'Estradot_Patch 50mcg/24hrs', 'Esmya_Tab 5mg', 'Fortisip Range_S/Pack', 'Dropodex_Eye Dps 0.1% 0.4ml Ud', 'Mesorb 10cm x 20cm Pfa Cellulose Dress', 'Biatain Slc 12.5cm x 12.5cm Wound Dress', 'Carmize 0.5% Carmellose Eye Dps 0.4ml Ud', 'Lubristil Gel Sod Hyaluronate Eye Dps 0.', 'Great Bear_GB2 Night Drain Bag 2L', 'Melatonin_Tab 3mg', 'Oxcarbazepine_Oral Susp 300mg/5ml S/F', 'Ins Hypurin Pore 30/70 Mix_10ml Vl', 'Arcoxia_Tab 30mg', 'Silgel STC-SE Gel Wound Dress Slc', 'Prucalopride_Tab 1mg', 'Germoloids_Crm', 'Prazosin HCl_Tab 500mcg', 'Adalat_Cap 10mg', 'Seroquel XL_Tab 300mg', 'Paliperidone_Inj 150mg/1.5ml Pfs', 'Perampanel_Tab 10mg', 'Piracetam_Oral Soln 333.3mg/1ml', 'Levitra_Tab 20mg', 'Muse_Transurethral System Stick 1mg', 'Ofloxacin_Eye Dps 0.3%', 'Soya Oil_Liq 84.75%', 'Midazolam HCl_Inj 1mg/ml 5ml Amp', 'Vernagel_Pdr Sach 6g', 'Mepore Ultra 10cm x 11cm VP Adh Film Dre', 'TriCare Needles Pen Inj Screw On 5mm/31', 'Fresenius Sod Chlor Top Irrig 0.9% 1L', 'AproDerm Emollient Crm 450g', 'Flexitol 10% Urea Crm 500g', 'IryCone+ Irrig System', 'Rochester_Clr Advantage Spirit Incont Sh', 'Rochester_Loc-Strap Cath Retaining Strap', 'Beclomet Diprop_Inha 200mcg (200 D) CFF', 'Perampanel_Tab 2mg', 'Polyalc_Eye Dps 1.4% P/F', 'Diazepam_Soln 5mg/2.5ml Rectal Tube', 'Eprosartan_Tab 300mg', 'Tensipine MR 10_Tab 10mg', 'Elocon_Scalp Lot 0.1%', 'Thicken Aid_Pdr Sach 9g', 'Sod/Mag Algin_Pdr Sach 225mg/87.5mg S/F', 'Ispag Husk_Gran Eff Sach 3.5g Lem S/F', 'Aminophylline Hydrate_Tab 350mg M/R', 'Trifluoperazine_Oral Soln 1mg/5ml S/F', 'Clopixol_Inj 200mg/ml 1ml Amp', 'Tritamyl_G/F Bread Mix Wte', 'Nutrison Pack_1200 Complete M/Fibre Liq', 'Centrum Chble_Tab (Fruity)', 'Piroxicam_Cap 10mg', 'Cellona 10cm x 2.75m M/Layer Compress Ba', 'IntraSite Gel 8g Wound Dress H/Gel Ster', 'IntraSite Gel 15g Wound Dress H/Gel Ster', 'Aquacel Ag Ribbon 2cm x 45cm Wound Dress', 'Mepitel 5cm x 7cm Wound Dress Soft Slc', 'Allevyn Gentle Border Lite Multisite 8cm', 'Allevyn Life 10.3cm x 10.3cm Wound Dress', 'KerraFoam Gentle Border 10cm x 10cm Woun', 'Atrauman Ag 10cm x 10cm Wound Dress Soft', 'Aquacel Foam Adhesive 21cm x 21cm Wound', 'Aquacel 15cm x 15cm Wound Dress Protease', 'KerraContact Ag 15cm x 15cm Wound Dress', 'Bard Biocath Compreh/Care Foy Tray Fle L', 'Jobst Elvarex Soft Acc For L/Extrem Clos', 'Jobst Elvarex Soft for L/Extrem CL3 Non', 'Jobst Elvarex Soft For L/Extrem Class 1', 'Qufora IrriSedo Cone System 15 Irrig Set', 'Great Bear_Libra Leg Bag Ster + Tap 500m', 'Great Bear_GB Fix It strap Adult', 'Great Bear_GB SOFT SKIN No Sting Medic A', 'Dansac_NovaLife 1 Midi Ileo Bag Opqe C/F', 'Coloplast_Irrigator Bag', 'Dansac_Non Sting Skin Protector Sach Wip', 'Mag Trisil_Mix', 'Water For Inj_2ml Amp', 'C-Sorb 20cm x 30cm Wound Dress Protease', 'Surg Suture W8020T Prolene Non-Absorb St', 'SuperCheck Plus (Reagent)_Strips', 'M.Sauer iQ Gel+ Nelaton Male Size 10-18', 'Deponit 10_Patch', 'Cod Liver Oil_Cap 500mg', 'Colecal & Calc_Tab Chble 1 000u/2.5g', 'Metosyn FAPG_Crm 0.05%', 'Betadine_Pdr A/Spy 2.5% 100ml', 'Profore #3 10cm x 8.7m M/Layer Compress', 'Profore #4 10cm x 2.5m M/Layer Compress', 'Kaltostat 5cm x 5cm Wound Dress Algin St', 'Oxyal Sod Hyaluronate Eye Dps 10ml', 'Diltiazem HCl_Oint 2%', 'Propranolol HCl_Tab 160mg', 'Terazosin HCl_Tab 10mg', 'Melatonin_Cap 3mg M/R', 'Matoride XL_Tab 36mg', 'Repinex XL_Tab 2mg', 'Levonorgest_Tab 30mcg', 'Neocate Active_Pdr Sach 63g (Unflav)', 'Stexerol-D3_Tab 25 000u', 'Calci-D_Tab Chble 1g/1 000u', 'Dantrolene Sod_Cap 100mg', 'Fluocinonide_Oint 0.05%', 'Metosyn_Oint 0.05% W/W', 'Povidone-Iodine_Pdr Spy 2.5% 100ml', 'KerraLite Cool Non-Adh 6cm x 6cm Wound D', 'Pennine Male Nelaton Size 12-16 (10-Pack', 'Coloplast Folysil X-Tra Fle 12-18 10ml C', 'Coloplast Folysil X-Tra Slc O/End Male 1', 'Dansac_Night Drain Bag 2L', 'Dansac_Nova 2 Urost Pouch Clr Flng 55mm', 'Zetuvit E (Non-Ster) 20cm x 20cm Pfa Cel', 'Prasugrel_Tab 5mg', 'Telfast 120_Tab 120mg', 'Fluphenazine Decan_Inj 25mg/ml 1ml Amp', 'Bupeaze_Transdermal Patch 35mcg/hr(96hr)', 'Subutex_Tab Subling 2mg', 'Chlorhex Glucon_Spy 0.2% 60ml S/F', 'Starch Maize Modified_Pdr Sach 12g G/F', 'Mesorb 10cm x 15cm Pfa Cellulose Dress', 'Hydrofilm 10cm x 25cm Vp Adh Film Dress', 'Allevyn Gentle Border 15cm x 15cm Wound', 'Cutimed Siltec 10cm x 10cm Wound Dress S', 'Cutimed Siltec B 7.5cm x 7.5cm Wound Dre', 'Cutimed Siltec B 12.5cm x 12.5cm Wound D', 'Allevyn Gentle 10cm x 20cm Wound Dress S', 'Cutimed Siltec Sorbact 7.5cm x 7.5cm Wou', 'Comfifast 5cm x 5m (Green) Stkntte Elasc', 'Clinipore 5cm x 5m Surg Adh Tape Perm No', 'Class 11 M/M C/Kt Thigh Stkn Elas Hose', 'Stericlens Sod Chlor Top Irrig A/Spy 100', 'Stericlens Sod Chlor Top Irrig A/Spy 240', 'BioXtra Dry Mth Mild Toothpaste 50ml (Ap', 'GlucoRx Allpresan Diabetic Foam Crm Basi', 'Jobst Opaque Class 1 Knee High Closed To', 'Jobst For Men Ambition Class 1 Knee Clos', 'Jobst For Men Ambition Class 2 Knee Clos', 'Appeel Dress Remover Ster Sle Use Sach 5', 'Prontoderm Foam', 'Unomedical_Careline E4 Urine Drain Bag 2', 'M.Sauer_NephSys Ster Drain Bag 500ml 30c', 'Hollister_Moderma Flex Maxi Clsd Pch Ova', 'Coloplast_SenSura Mio Maxi Drnbl Bag L/C', 'Trio_Elisse Sting Free Skin Barrier Spy', 'Hollister_Conform 2 + Lock/Roll Maxi Drn', 'Dansac_Nova 2 Convex Flng 43mm C/Fit 15-', 'Dansac_Nova 2 Convex Flng 55mm C/Fit 15-', 'Dansac_Nova 2 Urost Pouch Clr Flng 43mm', 'Coloplast_Assura Seal Ex B/Plt 50mm Flng', 'Coloplast_SenSura Click Bag Maxi Closed', 'Coloplast_SenSura Click Soft Seal B/Plt', 'Convatec_Consecura L/Prof Locking Flng 5', 'Convatec_Consecura L/Prof Closed Pch Opq', 'Ko-Flex Long 10cm x 7m M/Layer Compress', 'Granuflex Bordered 6cm x 6cm Wound Dress', 'Cutimed Siltec 10cm x 20cm Wound Dress S', 'Cutimed Siltec L 5cm x 6cm Wound Dress S', 'Allevyn Life 15.4cm x 15.4cm Wound Dress', 'Cutimed Sorbion Sach Multi Star 14x14cm', 'Cutimed Sorbion Sachet EXTRA 20cmx10cm W', 'Mediven Elegance Class 1 B/Knee Closed T', 'Jobst UltraSheer Class 1 Knee High Close', 'Jobst UltraSheer Class 1 Thigh C/T Stnd+', 'CliniMed_Appeel Advance No Sting Medic A', 'Losec_Cap E/C 10mg', 'Docusate Sod_Oral Soln 12.5mg/5ml S/F', 'Minoxidil_Tab 2.5mg', 'Bambuterol HCl_Tab 10mg', 'Ketotifen Fumar_Tab 1mg', 'Biquelle XL_Tab 200mg', 'Aripiprazole_Oral Soln 5mg/5ml', 'Ondansetron HCl_Oral Soln 4mg/5ml S/F', 'Sastravi_Tab 100mg/25mg/200mg', 'Subutex_Tab Subling 8mg', 'Ethinylestr/Gestodene_Tab 20mcg/75mcg', 'Caverject_Inj D/Chamber 20mcg Pfs Cart', 'Viridal Duo_S/Pack Inj 40mcg Cart', 'Decapeptyl SR_Inj 3mg Vl + Dil', 'Colecal_Oral Dps 2 000u/ml S/F', 'Colecal_Oral Soln 50 000u/ml 1ml Ud S/F', 'Levocarnitine_Oral Soln Paed 1.5g/5ml', 'Valupak_Glucosam + Vit C Tab', 'Paraf_Soft Wte (S)', 'Uvistat_Sun Crm Spf 50', 'Polymyxin / Bacitracin_Oint', 'Hyoscine Hydrob_Inj 600mcg/ml 1ml Amp', 'TriCare Needles Pen Inj Screw On 8mm/31', 'Gengigel Gel 20ml', 'Enopen Crm 500g', 'Isomol Gel 100g', 'ExoCream 50g', 'ExoCream 125g', 'ExoCream 500g', 'Zirtek_Allergy Tab 10mg', 'Viridal Duo_Cont Pack Inj 40mcg Cart', 'InVita D3_Oral Soln 50 000u/1ml', 'Valupak_Glucosamine Sulf Tab 500mg', 'Keromask_Masking Crm', 'Paravict_Tab 500mg', 'Aspirin/Metoclop_Pdr Sach 900mg/10mg S/F', 'Pro D3_Oral Soln 2 000u/ml', 'Unspecified Stkntte 6.75cm x 1m Elasctd', 'Unspecified Stkntte 10cm x 0.5m  Elasctd', 'Dexeryl Emollient Crm', 'Chloral Hydrate_Oral Soln 500mg/5ml', 'Saizen_Inj 12mg/1.5ml Cart', 'Nystaform-HC_Oint', 'Dermacolor_Fixing Pdr', 'Coloplast SpeediCath Paed Size 6 (30-Pac', 'Sod Chlor_Oral Soln 292.5mg/5ml S/F', 'Metolazone_Tab 2.5mg', 'Simvastatin/Ezetimibe_Tab 20mg/10mg', 'Melatonin_Oral Susp 5mg/5ml', 'Pericyazine_Tab 10mg', 'Flupentixol Decan_Inj 20mg/ml 2ml Amp', 'Prednisolone_Tab G/R 1mg', 'Phytomenadione_Tab 10mg', 'Enfamil AR_Milk Fortifier Pdr', 'Enfamil O-Lac_Pdr', 'Celebrex_Cap 200mg', 'Neutrogena_Norwegian For Dermat Crm', 'Coal Tar/Lecithin_Scalp Lot 2.5/0.3%', 'Peppermint_Water BP 1973', 'Coban Self-Adherent 10cm x 6m M/Layer Co', 'OpSite Post-Op 10cm x 20cm VP Adh Film D', 'Nu-Gel 15g Wound Dress H/Gel Ster', 'UrgoClean Pad 10cm x 10cm Wound Dress Pr', 'Flivasorb 10cm x 20cm Wound Dress Protea', 'Ugo Fix Gentle Clip For Foy Cath Access', 'MGDRx EyeBag Eye Compress', 'Celiprolol HCl_Tab 400mg', 'Heparin Sod_Soln 10u/ml 5ml Amp', 'Simvador_Tab 10mg', 'Simvador_Tab 20mg', 'Promethazine Teoclate_Tab 25mg', 'Fresubin Orig Fibre_Liq (Neutral)', 'Kendall AMD 5cm x 5cm Wound Dress Polyur', 'Sharpsafe 1.8L', 'Frebini_Energy Liq (Unflav)', 'Thorens_Oral Dps 10 000u/ml', 'Hollister_Conform 2 Closed Pouch+Beige C', 'Metronidazole_Tab 500mg', 'Hydro-Caine Syrg Lubricant Gel 6ml', 'Indivina_Tab 1mg/5mg', 'Augmentin_Tab 375mg', 'Qlaira_C/Pk Tab', 'Trandate_Tab 100mg', 'Zispin_SolTab 45mg', 'Diamicron MR_Tab 30mg', 'FemSeven 50_Patch 50mcg/24hrs', 'Nutrison_Energy M/Fibre Liq (Vanilla)', 'Colecal_Tab 2 000u', 'Methotrexate_Inj 7.5mg/0.15ml PF Dev', 'Tegaderm + Pad 9cm x 15cm VP Adh Film Dr', 'Aquacel Ag Foam Adh 8cm x 8cm Wound Dres', 'TriCare Needles Pen Inj Screw On 6mm/31', 'AgaMatrix Ultra-Thin Lancets 0.35mm/28 G', 'AgaMatrix Ultra-Thin Lancets 0.20mm/33 G', 'Aquamax Wsh (Appl)', 'Great Bear_GB4 Night Drain Bag 2L', 'Ephed HCl_Nsl Dps 0.5% BP', 'Lyofoam Max 10cm x 10cm Wound Dress Poly', 'Melophthal 1% Carmellose Eye Dps 0.4ml U', 'Salts_Confidence Comfort Drnbl Pch Trans', 'Telmisartan/Hydchloroth_Tab 80mg/25mg', 'Colecal_Oral Dps 200u/Drop S/F', 'Class 11 Stnd C/Kt Kneecp Elas Hose', 'Rufinamide_Tab 200mg', 'Neocate Advance_Pdr Sach 100g (Unflav)', 'Nutrini_M/Fibre Liq Feed', 'PaediaSure Peptide_Liq', 'Eucerin_Intensive Lot 10%', 'Dentinox_Shampoo Cradle Cap', 'AproDerm Colloidal Oat Crm 500ml', 'Cystopurin_Gran Sach 7g (Cranberry)', 'Nutrini_Liq Feed', 'Pseudoephed/Chlorphen_Soln 30/2mg/5mlS/F', 'Bio-Vitamin D3_Cap 1000u', 'Urea_Lot 10%', 'E45_Intense Recovery Lot', 'Hepat B_Vac 20mcg/ml 0.5ml Pfs', 'Unspecified Stkntte 7.5cm x 0.5m Elasctd', 'Unspecified Stkntte 8.75cm x 0.5m Elasct', 'Tubifast 2-Way Stch 7.5cm x 1m (Blue) St', 'Tubifast 2-Way Stch 10.75cm x 1m YellowS', 'Insupen Needles Pen Inj Screw On 6mm/31', 'Hypafix 2.5cm x 10m Surg Adh Tape Perm N', 'Amylmetacresol_Loz 600mcg', 'Glutafin_G/F Roll x 2 Wte Long P/Bke', 'Methyl Sal/Menthol_Crm 30%/8%', 'Alomide_Ophth Soln 0.1%', 'Sorbsan Packing (+ Probe) 30cm/2g Wound', 'Insupen Needles Pen Inj Screw On 8mm/32', 'Class 11 Stnd C/Kt Ank Elas Hose', 'Galpseud Plus_Linct S/F', 'Fluanxol_Tab 500mcg', 'Topamax_Sprinkle Cap 50mg', 'GlucoMen Visio (Reagent)_Strips', 'GlucoRx Q (Reagent)_Strips', 'Ikervis_Eye Dps 0.1% 0.3ml Ud', 'Piloc HCl_Eye Dps 1%', 'Hypromellose_Eye Dps 0.32%', 'Acitretin_Cap 10mg', 'DryMax Extra 20cm x 20cm Wound Dress Pro', 'Insupen Needles Pen Inj Screw On 6mm/32', 'GlucoRx Safety Lancets 1.6mm/30 Gauge', 'Haddenham Custom Pertex Class 1 B/Knee L', 'Haddenham Custom Pertex L/Limb Acc Slc G', 'Qufora IrriSedo Irrig Balloon System Bas', 'Risperdal_Oral Soln 1mg/1ml', 'Haddenham Custom Pertex Class 1 Thigh Ly', 'Qufora IrriSedo Irrig Balloon System Acc', 'Hollister_Stoma Lubricant', 'Teveten_Tab 600mg', 'Trulicity_Inj 0.75mg/0.5ml Pf Pen', 'Colecal_Cap 30 000u', 'Thirty:30 Oint', 'Trandate_Tab 400mg', 'Isodur 25 XL_Cap 25mg', 'Melatonin_Cap 10mg', 'Medikinet_Tab 5mg', 'Tapentadol HCl_Tab 250mg M/R', 'Maxitram SR_Cap 150mg', 'Maxitram SR_Cap 200mg', 'Rivastigmine_Skin Patch 13.3mg/24hrs', 'Xultophy_Inj 100u/ml/3.6mg/ml 3ml Pf Pen', 'Progesterone_Pess 400mg', 'Glutafin_G/F W/F Shortbread Bisc', 'Fortini_Smoothie Multi Fibre Liq(2 Flav)', 'Vitasavoury_S/Pack Pdr', 'Ergocalciferol_Inj 300 000u/1ml Amp', 'Betagan_Eye Dps 0.5%', 'Bard Lubri-Sil Aquafil Foy Male 10ml Cat', 'Carmize 1% Carmellose Eye Dps 0.4ml Ud P', 'L.IN.C_LINC-Flo Night Drain Bag Ster Nrv', 'Opus_AbsorbaGel', 'Ritalin_Tab 10mg', 'Mesorb 20cm x 25cm Pfa Cellulose Dress', 'ODM5 Sod Chlor Eye Dps 10ml P/F', 'Convatec_Clips (Beige) (1-Piece Pouch)', 'Docusate Sod_Ear Dps 0.5%', 'Darbepoetin Alfa_Inj 30mcg/0.3ml Pfs', 'Neocate Advance_Pdr Sach 50g (Flav)', 'Reltebon_Tab 15mg M/R', 'Spiroco XL_Tab 4mg', 'Aranesp_Inj 60mcg/0.3ml Pfs', 'Glutafin_G/F W/F Tea Bisc', 'Dexameth/Tobramycin_Eye Dps 0.1/0.3%', 'Taptiqom_Eye Dps 15mcg/5mg/ml', 'Eucerin_ATOControl Bath & Shower Oil', 'Cosmopor 8cm x 15cm Adh Dress Pfa', 'Olmesartan Medox/Amlodipine_Tab40mg/10mg', 'Sevikar HCT_Tab 40mg/10mg/12.5mg', 'Epilim Chronosphere_Gran Sach 500mg M/R', 'Darbepoetin Alfa_Inj 80mcg/0.4ml Pf Pen', 'Vitasavoury_Pdr (Golden Veg)', 'Cardura XL_Tab 8mg', 'Juvela_G/F Loaf Wte (Ucut)', 'Caphosol Soln', 'Fontus_AproDerm Barrier Crm 100g', 'Spiroco XL_Tab 8mg', 'Binosto_Eff Tab 70mg', 'Great Bear_GB3S Night Drain Bag + T-Tap', 'Valproic Acid_Cap E/C 500mg', 'Juvela_G/F Diges Bisc', 'Colecal_Oral Dps 10 000u/ml S/F', 'Celebrex_Cap 100mg', 'Tubifast 2-Way Stch Leggings 2-5 Yrs Ela', 'Respond_OstoMart OstoMist Cinnamon & San', 'Coversyl Arginine Plus_Tab', 'Tardisc XL_Tab 60mg', 'Plendil_Tab 5mg', 'ViePax XL_Tab 75mg', 'Diagemet XL_Tab 500mg', 'Mariosea XL_Cap 4mg', 'VSL#3_Probiotic Food Supp Pdr Sach 4.4g', 'Iglu_Oral Gel', 'Budesonide_Cap 3mg (E/C M/R Gran)', 'Amlodipine_Oral Soln 10mg/5ml S/F', 'Acetylcy_Cap 600mg', 'Minims_Prednisolone Sod Phos Ud 0.5%', 'ViePax XL_Tab 150mg', 'Nicotinell TTS 20_Patch 14mg/24hrs', 'Scandishake Mix_Pdr Sach 85g (Choc)', 'Fortisip_Yogurt Style Liq (3 Flav)', 'Buscopan_Inj 20mg/ml 1ml Amp', 'Clexane_Inj 150mg/ml 0.8ml Pfs', 'Sudafed_Decongest Liq 30mg/5ml', 'Stemetil_Syr 5mg/5ml', 'Paracet_Suppos 120mg', 'Paracet_Suppos 500mg', 'Paracet_Suppos 125mg', 'Oxycodone HCl_Inj 10mg/ml 2ml Amp', 'Augmentin_Pdr For Susp 125/31mg/5ml S/F', 'Augmentin_Pdr For Susp 250/62mg/5ml S/F', 'Cholestagel_Tab 625mg', 'Formoterol Fumar_Pdr Inh Cap 12mcg +Dev', 'Sondate XL_Tab 400mg', 'Reletrans_Transdermal Patch 5mcg/hr', 'Reletrans_Transdermal Patch 10mcg/hr', 'Sumatriptan_Inj 6mg/0.5ml Pfs Ref', 'Adartrel_Tab 500mcg', 'Pramipexole_Tab 700mcg', 'Nicotine_Transdermal Patch 10mg/16hrs', 'Minocycline HCl_Tab 100mg', 'Dulaglutide_Inj 0.75mg/0.5ml Pf Dev', 'Pamsvax XL_Cap 400mcg (Arrow)', 'Fresubin HP Energy_Liq (Neutral)', 'Bio-Vitamin D3_Cap 20 000u', 'Ketoprofen_Cap 100mg M/R', 'Ibuleve_Max Strgh Gel 10%', 'ClobaDerm_Crm 0.05%', 'Haelan_Tape 7.5cm x 20cm', 'Gamolenic Acid_Cap 40mg', 'Mupirocin_Crm 2%', 'Bactroban_Crm 2%', 'Jade_Ultra Flex Extra Self-Adh Sheath Cl', 'Jade_Velcro Foam Strap', 'Jade_J2S Drain Bag 2L', 'Hollister_Moderma Flex Soft Convex Drnbl', 'Ismo 10_Tab 10mg', 'Reletrans_Transdermal Patch 20mcg/hr', 'Fluconazole_Cap 200mg', 'Vamju_Tab 30mg M/R', 'Microdot+ (Reagent)_Strips', 'Pevanti_Tab 5mg', 'Miconazole Nit_Vag Crm 2% + Applic', 'Aciferol D3_Tab 10 000u', 'Ponstan_Cap 250mg', 'Audavate_Oint 0.1%', 'ClobaDerm_Oint 0.05%', 'Clobavate_Oint 0.05%', 'Hydrex_Surg Scrub', 'Microdot Lancets 0.31mm/30 Gauge', 'Microdot Droplet Needles Pen Inj Screw O', 'Lubristil Sod Hyaluronate Eye Dps 0.3ml', 'Lumecare Advance Carmellose 0.5% Eye Dps', 'Respond_OstoMart Osto-EZ-Vent', 'Ismo 20_Tab 20mg', 'Stilnoct_Tab 10mg', 'Serc-8_Tab 8mg', 'Keflex_Gran For Susp 250mg/5ml', 'Lixisenatide_Inj 10mcg+20mcg/0.2ml 3mlPf', 'Triptorelin Acet_Inj 11.25mg Vl + Dil', 'Bio-Vitamin D3_Cap 800u', 'OptiLube Ster Lubri Jelly', 'Coloplast_Simpla Profile Leg Bag 350ml 6', 'Codipar_Cap 15mg/500mg', 'Colofac IBS_Tab 135mg', 'Innozide_Tab', 'Salbutamol_Inh Soln 5mg/ml', 'Atrovent UDVs_Neb Soln 250mcg/1ml Ud', 'Flixotide_Accuhaler 250mcg (60 D)', 'Tobramycin_Neb Soln 300mg/5ml Amp', 'Palmdoc iCare Advanced (Reagent)_Strips', 'Piloc HCl_Tab 5mg', 'Trio_Silex Slc Flange Extender', 'BSN_Cutimed Prote Crm 28g', 'BSN_Cutimed Prote Spy', 'Hollister_Moderma Flex Urost Bag Transpt', 'Dansac_Nova 1 Urost Pouch C/exity Transp', 'Atarax_Tab 10mg', 'Ciclosporin_Cap 50mg', 'Colecal & Calc_Tab Chble 880u/2.5g', 'Ponstan Fte_Tab 500mg', 'Methylpred Acet/Lidoc_Inj 80/20mg/2ml Vl', 'Gamolenic Acid_Cap 80mg', 'Actikerall_Cutaneous Soln 5mg/g 100mg/g', 'Tubifast 2-Way Stch 10.75cm x 3m YellowS', 'T-Safe 380A QL Iucd', 'TT380 Slimline Iucd', 'imuDERM Urea Emollient', 'CliniMed_Morform Sach', 'Dexameth_Tab Solb 2mg S/F', 'Testim_Gel 50mg/5g', 'Methotrexate_Inj 17.5mg/0.35ml PF Dev', 'Betameth Val_Lot 0.1%', 'Aymes Complete Starter Pack_Liq', 'Dukoral_Oral Vac Susp + Eff Gran Sach', 'Influvac Sub-Unit_Vac 0.5ml Pfs', 'Haloperidol_Tab 500mcg', 'Augmentin-Duo 400/57_Pdr For Susp S/F', 'Ins Actrapid_100u/ml 10ml Vl', 'Loceryl_Nail Lacquer Kit 5% 2.5ml', 'HydraMed Sod Hyaluronate 0.2% Eye Dps 10', 'Respond_OstoMart OstoFix Flng Security T', 'Mag Hydrox_Mix', 'Imodium Instant Melts_Orodisper Tab 2mg', 'Movicol_Liq S/F', 'Clexane_Inj 100mg/ml 0.8ml Pfs', 'Salamol_Steri-Neb Soln 5mg/2.5ml Ud', 'Sod Oxybate_Oral Soln 2.5g/5ml S/F', 'Clopixol_Tab 2mg', 'Medikinet_Tab 10mg', 'Perampanel_Tab 12mg', 'Vigabatrin_Tab 500mg', 'Monuril_Gran Sach 3g', 'Provera_Tab 10mg', 'Nacrez_Tab 75mcg', 'Emerres_Tab 1.5mg', 'Vardenafil_Tab 5mg', 'Minims_Dexameth 0.1% 0.5ml Ud P/F', 'Sod Cromoglicate_Eye Dps 2% 0.3ml Ud P/F', 'Mepilex Lite 10cm x 10cm Wound Dress Sof', 'A2A Spacer', 'A2A Spacer + Sml/Med Mask', 'L.IN.C All Slc Stnd+Water Size12-14 5ml', 'Coloplast_SenSura Mio Maxi Drnbl Bag D/C', 'CliniMed_LBF Barrier Crm', 'Mediven Plus Class 2 Thigh Slc Top Open', 'Sod Bicarb_Oral Soln 420mg/5ml S/F', 'Dioctyl_Cap 100mg', 'Byetta_Inj 10mcg/0.04ml 2.4ml Pfs (60D)', 'Vitajoule_Pdr', 'Cetomacrogol_Crm (For A) BP 1988', 'Ciclosporin_Eye Oint 0.2%', 'Ultra Chloraseptic_P/Spy 15ml (Orig)', 'Triptorelin Embon_Inj 22.5mg Vl + Dil', 'Co-Diovan_Tab 80mg/12.5mg', 'Alvesco 160_Inh 160mcg (120 D) CFF', 'Fresubin Creme_Dessert (Cappuccino)', 'Fresubin 2kcal Creme_Dessert (Choc)', 'Fresubin 2kcal Creme_Dessert (Vanilla)', 'Ingenol Mebutate_Gel 150mcg/g', 'Allevyn Ag Gentle 10cm x 10cm Wound Dres', 'Lynlor_Cap 5mg', 'Stalevo_Tab 75mg/18.75mg/200mg', 'Provera_Tab 5mg', 'Denosumab_Inj 70mg/ml 1.7ml Vl', 'Colecal_Tab 3 000u', 'Aciferol D3_Tab 1 000u', 'Nevanac_Eye Dps 1mg/ml', 'Fluocinolone Aceton_Oint 0.00625%', 'Clinimed_HydroFrame Flange Extender + Ma', 'Welland_Aura Closed Pouch Midi Clr C/Fit', 'Welland_FreeStyle Vie Drnbl Ileo Pouch L', 'Welland_FreeStyle Vie Convex Drnbl Pch L', 'CliniMed_Hyperseal Washers Sml (2.5mm th', 'Mesalazine_Gran Sach G/R 1.5g M/R S/F', 'Cyclogest_Pess 400mg', 'Glutafin_G/F Fibre Spaghetti', 'Aciferol D3_Tab 20 000u', 'SMA_High Energy Milk Ready To Use', 'Lido HCl/Adren (Base)_Inj 1% 20ml Vl', 'Omnican Fine Needles Pen Inj Screw On 12', 'Clinimed_HydroFrame Mini Flange Extender', 'Doxadura_Tab 1mg', 'Nutrini_Energy Liq Feed', 'Beconase_H/Fever Relief NslSpy50mcg(100D', 'Mag Ox_Cap 160mg', 'Neoclarityn_Oral Soln 2.5mg/5ml', 'ProSource_Liq Sach 30ml (4 Flav)', 'Diclofenac Sod_Cap 100mg M/R', 'Medihoney A-Bact Honey 20g Wound Dress H', 'Mepilex XT 10cm x 11cm Wound Dress Soft', 'Allevyn Ag Gentle 15cm x 15cm Wound Dres', 'Tubifast 2-Way Stch Socks One Size Elasc', 'Coloplast_Brava Elas Tape Belt', 'Innovace_Tab 20mg', 'Olanzapine_Orodisper Tab 5mg S/F', 'Abtard_Tab 20mg M/R', 'Cimizt_Tab', 'Contiflo XL_Cap 400mcg', 'Glutafin Select_G/F Fibre Loaf Brown(Cut', 'Levofloxacin_Eye Dps 5mg/ml 0.3ml Ud P/F', 'Vistamethasone_Ear/Eye/Nose Dps 0.1%', 'Great Bear_Libra Lever Cath Valve', 'Opus_Lift Plus 360 Medical Adh Remover S', 'Welland_FreeStyle Vie Convex Closed Pch', 'Abtard_Tab 10mg M/R', 'Premarin_Tab 300mcg', 'Dermalo_Bath Emollient', 'Cutivate_Oint 0.005%', 'Eesiness Med Cervical Collar Soft Foam', 'Welland_Aura Flushable Clsd Pouch Maxi B', 'Olmesartan Medox/Amlodipine_Tab 40mg/5mg', 'Eprosartan_Tab 400mg', 'Lustral_Tab 50mg', 'Zomig_Tab 2.5mg', 'Fresubin Thickened Stage 1_Syr (2 Flav)', 'Alphaderm_Top Steroid Crm 1%/10%', 'UrgoKTwo Reduced 18-25cm M/Layer Compres', 'Tricotex Dress (Type 1) 9.5cm x 9.5cm Kt', 'kliniderm superabsorbent 10cm x 10cm Pfa', 'kliniderm superabsorbent 10cm x 15cm Pfa', 'kliniderm superabsorbent 20cm x 30cm Pfa', 'Comfeel Plus Transpt 5cm x 7cm Wound Dre', 'KerraLite Cool Adh 8cm x 8cm Wound Dress', 'Kliniderm fiber cmc 10cm x 10cm Wound Dr', 'ActiLymph Class 1 B/Knee Closed Toe Sand', 'M.Sauer_NephSys Ster Drain Bag 500ml 20c', 'Entocort CR_Cap 3mg (E/C M/R Gran)', 'Oxycodone HCl_Tab 15mg M/R', 'Zomig_Rapimelt Orodisper Tab 5mg', 'Midazolam_Oromuc Soln 10mg/2ml Pfos S/F', 'Fresubin 2kcal Creme_Dessert (WildSbery)', 'Renagel_Tab 800mg', 'Fultium-D3_Oral Dps 2 740u/ml', 'KytoCel 5cm x 5cm Wound Dress Protease M', 'Esomeprazole_Gran Sach G/R 10mg', 'Ins Humulin S_100u/ml 10ml Vl', 'Prontosan Wound Gel 30ml Wound Dress H/G', 'Sockaid Dress Stick', 'Hollister_Conform 2 Flex Wear 55mm Float', 'Pro-Cal_Shot S/Pack 360ml', 'Comfifast E/Wrap Vest L/S 2-5 Yrs Elasct', 'Anusol Plus HC_Suppos', 'Theophylline_Cap 250mg M/R', 'WaveSense JAZZ Duo (Reagent)_Strips', 'Gtn_Tab 300mcg', 'Warfarin Sod_Oral Susp 1mg/1ml S/F', 'Prochlpzine Mesil_Oral Soln 5mg/5ml', 'Oxycodone HCl_Tab 120mg M/R', 'Pernaton_Gel', 'Indometacin_Suppos 100mg', 'Cardura XL_Tab 4mg', 'Clonazepam_Oral Soln 2mg/5ml S/F', 'Nutrison_Soya', 'Osvaren_Tab 435mg/235mg', 'Cod Liver Oil_Cap 1.05g', 'Anthelios_XL Crm Spf 50+', 'Medikinet_Tab 20mg', 'Medikinet XL_Cap 60mg', 'Targinact_Tab 20mg/10mg M/R', 'Famciclovir_Tab 250mg', 'Colecal_Oral Soln 15 000u/5ml', 'Zerolatum Plus_Bath Additive', 'Loceryl Curanail_Medic Nail Lacquer 3ml', 'Coloplast_Trident T1 Leg Bag 350ml Short', 'Coloplast_Simpla Profile Leg Bag 750ml 2', 'C D Medical_Clinifilm Spy', 'Dulcolax_Tab 5mg', 'Risperidone_Orodisper Tab 1mg S/F', 'Estradot_Patch 25mcg/24hrs', 'Methotrexate_Inj 12.5mg/0.25ml PF Dev', 'Co-Careldopa_Tab 25mg/250mg', 'Gentisone HC_Ear Dps', 'Cetaphil_Moist Lot', 'Robitussin_Chesty Cough Liq 100mg/5ml', 'Isoniazid_Tab 50mg', 'Isoniazid_Tab 100mg', 'Glibenclamide_Tab 5mg', 'Clearpore 10cm x 10cm VP Adh Film Dress', 'Griseofulvin_Tab 125mg', 'Algivon 10cm x 10cm Wound Dress Algin St', 'UrgoTul Absorb Border 13cm x 13cm Wound', 'Scanpor 5cm x 5m Surg Adh Tape Perm Non-', 'Paliperidone_Inj 75mg/0.75ml Pfs', 'Osmolite_Liq', 'Cyclo-Progynova_C/Pk Tab 2mg', 'Nepro HP_Liq (Sbery)', 'Liq Paraf/Acetyl Wool Alc_Bath Oil 65/5%', 'Juvela_G/F Tea Bisc', 'ChloraPrep_Soln Applic 3ml', 'Barkat_G/F W/F Macaroni', 'Silver Nit_Stick 40%', 'Strepsils_Loz Honey & Lem', 'Maexeni_Tab 150mcg/30mcg', 'Vitalograph Stnd Range Peak Flow Meter H', 'Appeel Dress Remover Ster Spy 100ml', 'Hydrocort Acet_Foam Aero Enem 10% (14 D)', 'Saxagliptin/Metformin_Tab 2.5mg/1g', 'Peptamen Jnr_Liq', 'Dermamist_A/Spy 10% 250ml', 'Mag Sulf_Paste', 'Multi-thick_Pdr', 'Provox TrachPhone HME 7707 Tracheo B/Aid', 'Trachi-Dress Sml 60mm x 82mm TRDRE0001 T', 'ActiLymph Class 2 B/Knee Closed Toe Sand', 'Pelican_Eakin Stoma Support Belt + IsoFl', 'Kentipine MR 10_Tab 10mg', 'Eliquis_Tab 5mg', 'Midazolam_OromucSoln 7.5mg/1.5mlPfos S/F', 'Chlorhex Acet_Dust Pdr 1%', 'Aquacel Ag Foam Adh 17.5cm x 17.5cm Woun', 'Prednisolone Sod Phos_Suppos 5mg', 'Dioralyte Relief_Pdr Sach (Rasp) S/F', 'Bard_Uriplan Leg Bag 38cm Inlet Tube 750', 'Unspecified Stkntte 12cm x 0.5m Elasctd', 'Space Chamber Plus Compact + Sml  Med or', 'Vitalograph Child Stnd Range Peak Flow M', 'Vipidia_Tab 25mg', 'Pro D3_Cap 2 500u', 'Amoxil_Cap 250mg', 'Sandrena_Gel Sach 500mcg/0.5g', 'Barkat_G/F W/F Porridge', 'Triamcinol Aceton_Inj 10mg/ml 1ml Amp', 'Loteprednol Etabonate_Eye Dps 0.5%', 'Chlorhex Glucon_Emollient/Crm 1%', 'Dansac_NovaLife 1 Convex Open + View Mid', 'Synalar_Oint 0.025%', 'Pentasa_Enem 1g In 100ml', 'Progesterone_Pess 200mg', 'Plenachol_Cap 40 000u', 'Provox Fltr HME Xtrabase Adh 7265 Trache', 'ProSys_Independence No Sting Adh Remover', 'Colecal_Cap 40 000u', 'Silflex 5cm x 7cm Wound Dress Soft Slc', 'Hy-Opti 0.1% Sod Hyaluronate Eye Dps 10m', 'Welland_Aura Drnbl Ileo Pouch Maxi Clr C', 'Hollister_Conform 2 Maxi Closed Pouch +', 'Hollister_Conform 2 CeraPlus S/Barr+Adh5', 'Convatec_C/Sive Natura Drnbl Pch + Fltr', 'Hollister_Moderma Flex Maxi Closed Pouch', 'Pelican_Cohesive Seals Sml 48mm', 'Ciclesonide_Inh 80mcg (120 D) CFF', 'Aripiprazole_Inj 400mg Vl + Dil P/R', 'Lamivudine_Tab 100mg', 'Mefloquine HCl_Tab 250mg', 'Liothyronine Sod_Cap 5mcg', 'Progesterone_Cap 100mg (Micronised)', 'FruitiVits_Pdr Sach 6g', 'Cod Liver Oil_Cap 1g', 'Octenisan_Nsl Gel', 'Oralieve Moisturising Mth Gel 50ml', 'Hollister_Moderma Flex L+R Maxi DrnblPch', 'Menthol & Eucalyptus_Inh BP 1980', 'Estradiol/Norethisterone_Patch 50/170mcg', 'Ethinylest/Norethist Acet_Tab30mcg/1.5mg', 'Alprostadil_Cont Pack Inj 10mcg Cart', 'Salofalk_Gran Sach G/R 1.5g M/R', 'Colecal_Cap 2 500u', 'Chlorhex Glucon_Soln 1%', 'Plendil_Tab 10mg', 'Plendil_Tab 2.5mg', 'Altraplen Compact_Liq (Sbery)', 'OpSite Post-Op 10cm x 12cm VP Adh Film D', 'Fluorigard Daily_Dental Rinse 0.05% A/F', 'Liq Paraf_Liq', 'Moclobemide_Tab 150mg', 'Ropinirole HCl_Tab 6mg M/R', 'GlucoMen Sensor (Reagent)_Strips', 'Valupak_Vit B Comp Tab OAD', 'Dicycloverine HCl_Oral Soln 10mg/5ml', 'Celevac_Tab 500mg', 'Lecicarbon_A Suppos', 'Fragmin_Inj 25 000u/ml 0.5ml Pfs', 'Fragmin_Inj 25 000u/ml 0.6ml Pfs', 'Singulair_Tab 10mg', 'Emerade_Auto Inj 1/1000 1mg/ml 0.15ml', 'Depixol_Inj 20mg/ml 1ml Amp', 'Oramorph_Oral Soln Conc 20mg/ml S/F', 'Dapoxetine HCl_Tab 30mg', 'Mini-Plasco_Water For Inj 5ml Amp', 'Lignospan Special_Inj 2% 2.2ml Cart', 'PolyMem 10cm x 10cm Wound Dress Polyuret', 'ActiFormCool 10cm x 10cm Wound Dress H/G', 'Surg Suture W1618T Non-Absorb Ster Syn', 'ClikSTAR Blue 3ml 1u (1-80u) Hypod Reusa', 'Great Bear_Libra Leg Bag Strap Calf', 'Salts_SecuPlast Aloe Rings 32mm', 'Levetiracetam_Gran Sach 500mg S/F', 'Memantine HCl_Orodisper Tab 10mg S/F', 'Betaxolol_Susp Eye Dps 0.25%', 'PolyMem 7cm x 7cm Wound Dress Polyureth', 'Flivasorb 20cm x 20cm Wound Dress Protea', 'Silvercel Non-Adher 11cm x 11cm Wound Dr', 'KerraMaxCare Border 16cm x 16cm Wound Dr', 'Prontosan Top Irrig 40ml', 'Jade_Ultra Flex Self-Adh Sheath Clr Inte', 'Normacol_Gran 62% Sach 7g', 'Oxprenolol HCl_Tab 40mg', 'Emerade_Auto Inj 1/1000 1mg/ml 0.3ml', 'Liskonum_Tab 450mg M/R', 'Topamax_Tab 200mg', 'Sastravi_Tab 150mg/37.5mg/200mg', 'Efracea_Cap 40mg M/R', 'Fosfomycin Trometamol_Sach 3g (Old)', 'Ins Insuman Basal_100u/ml 3ml Cart', 'Gyno-Daktarin_Crm 2% + Applic (14D)', 'Biatain Adh 12.5cm x 12.5cm Wound Dress', 'Cutimed Sorbact Ribbon 2cm x 50cm Wound', 'Blenderm 2.5cm x 5m Surg Adh Tape Imperm', 'Surg Suture W320 Ethilon Non-Absorb Ster', 'LoFric Hydro Nelaton Male NonPVC 8-18(20', 'Class 1 M/M C/Kt Thigh Stkn Elas Hose', 'Convatec_Combihesive Natura Flx Flng 57m', 'Melatonin_Oral Susp 2mg/5ml', 'Episenta_Gran Sach 500mg M/R', 'Tamiflu_Cap 45mg', 'Hospicrepe 233 10cm x 4.5m Cott Stch Ban', 'Tegaderm Foam Adh Oval 19cm x 22.2cm Wou', 'Scanpor 2.5cm x 10m Surg Adh Tape Perm N', 'Rochester_Clr Advantage Slc Sheath Lge 3', 'Chloroth_Oral Susp 250mg/5ml', 'Fragmin_Inj 25 000u/ml 0.72ml Pfs', 'Seroxat_Tab 30mg', 'Canesten_Vag Tab 200mg + Applic', 'Antaz Sulf/Xylomet_Eye Dps 0.5%/0.05%', 'Lido_Crm 2%', 'Anabact_Gel 0.75%', 'Coloplast_Brava Belt (For Sensura Mio) S', 'Amoxicillin_Oral Susp Paed 125mg/1.25ml', 'Protelos_Oral Susp Gran Sach 2g', 'Respond_OstoMart OstoZyme M/Odour Neutra', 'Nedocromil Sod_Inha 2mg (112 D) CFF', 'Pulmozyme_Neb Soln 2.5mg/2.5ml Amp', 'Cinnarizine/Dimenhydrinate_Tab 20mg/40mg', 'Hydromorphone HCl_Cap 1.3mg', 'Naramig_Tab 2.5mg', 'Imigran Subject_Inj 6mg/0.5ml Pfs + Dev', 'Levetiracetam_Gran Sach 250mg S/F', 'Nicotinell TTS 10_Patch 7mg/24hrs', 'Colistimeth Sod_Inj 2 000 000u Vl', 'Omnitrope SurePal 5_Inj 5mg/1.5ml Cart', 'Advazorb Border Lite 7.5cm x 7.5cm Wound', 'KCI NPWT Gauze Dress Kit Wound Dress Pac', 'ActiV.A.C Canister + Gel 300ml Wound Dra', 'Bioteque America Ring Pess Slc + No Supp', 'Clinipod Sod Chlor Top Irrig 0.9% 20ml', 'Salts_Simplicity Stoma Support Wear Unis', 'Sulfasalazine_Oral Susp 250mg/5ml S/F', 'Methyldopa_Tab 125mg', 'Levofloxacin_Tab 250mg', 'Viridal Duo_Cont Pack Inj 20mcg Cart', 'Fresubin Orig_Drink (5 Flav)', 'Zyloric-300_Tab 300mg', 'Salic Acid/Lactic Acid_Paint 16.7%/15%', 'Lido HCl 2%/Chlorhex_Gel 11ml Pfs', 'Mepore Ultra 7cm x 8cm VP Adh Film Dress', 'Hydrofilm 15cm x 20cm Vp Adh Film Dress', 'Hydrofilm 20cm x 30cm Vp Adh Film Dress', 'Cosmopor 10cm x 20cm Adh Dress Pfa', 'UrgoClean Rope 2.5cm x 40cm Wound Dress', 'Mepilex Border Sacrum 18cm x 18cm Wound', 'Unspecified Surg Adh Tape 5cm x 5m Perm', 'Haddenham Microfine Glove + Compressive', 'Unomedical_Careline E4 Night Bag + Lever', \"Bullen_NA'Scent Odour Eliminator\", 'Pelican_Deo-Mint Deod', 'Oakmed_Gel-X Cap', 'Salts_Confidence Natural Drnbl Pch Trans', 'Convatec_Stomahesive Seal 48mm x 3mm', 'Buscopan IBS Relief_Tab 10mg', 'Tensipine MR 20_Tab 20mg', 'Alprostadil_Cont Pack Inj 40mcg Cart', 'Eytazox_Cap 250mg M/R', 'Occlusal_Soln 26%', 'Simeticone_Cap 100mg', 'Imodium_Original Cap 2mg', 'Flexi-Ban 10cm x 3.5m Sub-Compress Waddi', 'Adaptic Touch 5cm x 7.6cm Wound Dress So', 'DermaSilk Knee-length Undersocks Longer', 'Limb LimbO Adult Elbow Slim/Med Build Wa', 'Respond_HiLINE L-Wt Support Belt 21cm (S', 'Dansac_GX-tra Seals Washers 30mm (60mm O', 'Convatec_C/Sive Natura Durahesive + Conv', 'Adaptic Touch 7.6cm x 11cm Wound Dress S', 'Cutimed Sorbact Gel 7.5cm x 7.5cm Wound', 'OxyNorm_Inj 10mg/ml 1ml Amp', 'Metalline 8cm x 9cm Tracheo Dress Ster', 'Glucoject Needles Pen Inj Screw On 5mm/3', 'Opus_Lift Plus 360 Citrus Medical Adh Re', 'OxyContin_Tab 80mg M/R', 'Trajenta_Tab 5mg', 'Diclomax SR_Cap 75mg', 'Aquacel Foam Non-Adhesive 5cm x 5cm Woun', 'Glucoject Needles Pen Inj Screw On 4mm/3', 'Covidien Dover All Slc Foy Male 5-10ml 1', 'Norgalax_Micro-Enem 120mg 10g Tube', 'Imigran Subject_Inj 6mg/0.5ml Ref', 'Zomig_Nsl Spy 5mg/0.1ml Ud', 'Sod Valpr_Gran Sach 100mg M/R S/F', 'Sod Valpr_Gran Sach 250mg M/R S/F', 'Cefuroxime Axetil_Tab 250mg', 'Genotropin_Inj 12mg Cart + Dil', 'Jaydess_Intra-Uterine Device 13.5mg', 'Nutrini_Low Energy M/Fibre Liq Feed', 'Polytar_Scalp Shampoo', 'Cetaphil_Gentle Skin Cleanser', 'Biatain Soft-Hold 10cm x 10cm Wound Dres', 'Mepitel One 9cm x 10cm Wound Dress Soft', 'Glucoject Needles Pen Inj Screw On 6mm/3', 'Coloplast_Trident T2 Leg Bag 500ml Short', 'Opus_Lift Plus Citrus Medical Adh Remove', 'Kavendor_Comfizz Stoma Support Wear Ladi', 'Salts_Dermacol Stoma Collar 35mm', 'Dansac_Nova 1 Convex Urost Pouch Clr P/C', 'Oxycodone HCl_Tab 80mg M/R', 'Cefadroxil_Cap 500mg', 'Otrivine_Adult Nsl P/Spy 0.1% 10ml', 'Canesten Crm Combi_Int & Extl Crm 10%/2%', 'Peak Flow Meter Unspec Low Range Hand He', 'MicardisPlus_Tab 80mg/12.5mg', 'Lurasidone_Tab 74mg', 'Clopixol_Tab 25mg', 'Sertraline HCl_Oral Susp 50mg/5ml', 'Escitalopram_Oral Dps 20mg/ml S/F', 'Cymbalta_Cap G/R 60mg', 'Paracet/Metoclopramide_SachEff 500mg/5mg', 'palmdoc (Reagent)_Strips', 'Nutrison Pack_M/Fibre', 'ProSource TF_Liq Sach 45ml', 'Ibuprofen_Cap 300mg M/R', 'Diamox SR_Cap 250mg', 'Setocrepe 10cm x 4.5m M/Layer Compress B', 'UrgoKTwo Size 18-25cm (10cm) M/Layer Com', 'Mextra Superabsorbent 20cmx30cm Wound Dr', 'Hollister_Moderma Flex L+R MaxiDrnbl Pch', 'Alu-Cap_Cap 475mg', 'Nicardipine HCl_Cap 45mg M/R', 'Amoxicillin_Oral Pdr Sach 3g S/F', 'Dalacin_Crm 2% + Applic (7D)', 'Fortisip Compact Fibre_Liq S/Pack', 'Betaxolol_Susp Eye Dps 0.25% 0.25ml Udv', 'Betoptic_Eye Dps 0.5%', 'Hydro-Caine Syrg Lubricant Gel 11ml', 'Rotigotine_Transdermal Patch 6mg/24hrs', 'Jobst Elvarex Soft For L/Extrem Class 2', 'Mag Hydrox_Oral Susp 415mg/5ml S/F', 'Sod Dihyd Phos Anh/Sod Bic_Supp680/500mg', 'Sacubitril/Valsartan_Tab 97mg/103mg', 'Prochlpzine Mesil_Inj 12.5mg/ml 1ml Amp', 'Mirapexin_Tab 1.05mg M/R', 'Indivina_Tab 2mg/5mg', 'AquaForm H/Gel 8g Wound Dress Ster', 'Allevyn Ag Heel 10.5cm x 13.5cm Wound Dr', 'Mepilex 5cm x 5cm Wound Dress Soft Slc', 'Coloplast Self-Cath Nelaton Fle Size 10-', 'Generics UK Sod Chlor Top Irrig 0.9% 20m', 'Great Bear_GB SOFT SKIN No Sting Barrier', 'Peak_Combimate SuperFlex 2-Piece Flng 57', 'Hollister_Compact Urost Pouch Transpt C/', 'Amitriptyline HCl_Oral Soln 10mg/5ml S/F', 'Iodosorb Oint 10g Wound Dress H/Gel Ster', 'Bard All Slc Foy Male/Stnd 10ml 12-22 Ca', 'Coloplast Folysil All Slc Foy O/End Male', 'Rochester_UltraFlex Clr Slc Sheath Self-', 'Unomedical_Careline Leg Bag Straps', 'Convatec_Natura+ Drnbl Pch + Invis Outl+', 'Oestro Conj_Tab 300mcg', 'Clomifene Cit_Tab 50mg', 'Ener-G_G/F W/F Rice Bread Brown', 'Methotrexate_Inj 22.5mg/0.45ml PF Dev', 'Unspecified Pfa 20cm x 10cm Plas Faced D', 'Jade_Ultra Flex Short Self-Adh Sheath Cl', 'Convatec_Esteem+ Convex Drnbl Pch+InvisO', 'Natrilix SR_Tab 1.5mg', 'Targinact_Tab 40mg/20mg M/R', 'Colistimeth Sod_Inj 1 000 000u Vl', 'Proguanil HCl/Atovaquone_Tab 100mg/250mg', 'Estradiol_Vag Delivery System7.5mcg/24hr', 'Estring_Vag Delivery System 7.5mcg/24hr', 'WyCath H2O Nelaton Soft Tip Male 40cm 10', 'Great Bear_GB3 Night Drain Bag + T-Tap 2', 'Coloplast_SenSura Mio Midi Drnbl Bag L/C', 'Detrusitol_Tab 2mg'])"
      ]
     },
     "execution_count": 24,
     "metadata": {},
     "output_type": "execute_result"
    }
   ],
   "source": [
    "groups_.keys()"
   ]
  },
  {
   "cell_type": "code",
   "execution_count": 25,
   "metadata": {},
   "outputs": [],
   "source": [
    "groups = group_by_field(scripts, ('bnf_name',))"
   ]
  },
  {
   "cell_type": "code",
   "execution_count": 26,
   "metadata": {},
   "outputs": [
    {
     "ename": "KeyError",
     "evalue": "'bnf_name'",
     "output_type": "error",
     "traceback": [
      "\u001b[0;31m---------------------------------------------------------------------------\u001b[0m",
      "\u001b[0;31mKeyError\u001b[0m                                  Traceback (most recent call last)",
      "\u001b[0;32m<ipython-input-26-98305d6d1d61>\u001b[0m in \u001b[0;36m<module>\u001b[0;34m\u001b[0m\n\u001b[0;32m----> 1\u001b[0;31m \u001b[0mgroups_\u001b[0m\u001b[0;34m[\u001b[0m\u001b[0;34m'bnf_name'\u001b[0m\u001b[0;34m]\u001b[0m\u001b[0;34m[\u001b[0m\u001b[0;34m'3m Health Care_Cavilon Durable Barrier C'\u001b[0m\u001b[0;34m]\u001b[0m\u001b[0;34m[\u001b[0m\u001b[0;34m:\u001b[0m\u001b[0;36m5\u001b[0m\u001b[0;34m]\u001b[0m\u001b[0;34m\u001b[0m\u001b[0;34m\u001b[0m\u001b[0m\n\u001b[0m",
      "\u001b[0;31mKeyError\u001b[0m: 'bnf_name'"
     ]
    }
   ],
   "source": [
    "groups_['bnf_name']['3m Health Care_Cavilon Durable Barrier C'][:5]"
   ]
  },
  {
   "cell_type": "code",
   "execution_count": null,
   "metadata": {},
   "outputs": [],
   "source": [
    "def max_items(groups):\n",
    "    q = [(key, sum([groups[key][x]['items'] for x in range(len(groups[key]))])) for key in groups.keys()]\n",
    "    q_ = [q[x][1] for x in range(len(q))]\n",
    "    \n",
    "    return ([q[q_.index(max(q_))]])"
   ]
  },
  {
   "cell_type": "code",
   "execution_count": null,
   "metadata": {},
   "outputs": [],
   "source": [
    "test_max_item = max_items(groups_)"
   ]
  },
  {
   "cell_type": "code",
   "execution_count": null,
   "metadata": {},
   "outputs": [],
   "source": [
    "assert test_max_item == max_item"
   ]
  },
  {
   "cell_type": "code",
   "execution_count": null,
   "metadata": {},
   "outputs": [],
   "source": []
  },
  {
   "cell_type": "markdown",
   "metadata": {},
   "source": [
    "## Question 3: postal_totals\n",
    "\n",
    "Our data set is broken up among different files. This is typical for tabular data to reduce redundancy. Each table typically contains data about a particular type of event, processes, or physical object. Data on prescriptions and medical practices are in separate files in our case. If we want to find the total items prescribed in each postal code, we will have to _join_ our prescription data (`scripts`) to our clinic data (`practices`).\n",
    "\n",
    "Find the total items prescribed in each postal code, representing the results as a list of tuples `(post code, total items prescribed)`. Sort your results ascending alphabetically by post code and take only results from the first 100 post codes. Only include post codes if there is at least one prescription from a practice in that post code.\n",
    "\n",
    "**NOTE:** Some practices have multiple postal codes associated with them. Use the alphabetically first postal code."
   ]
  },
  {
   "cell_type": "markdown",
   "metadata": {},
   "source": [
    "We can join `scripts` and `practices` based on the fact that `'practice'` in `scripts` matches `'code'` in `practices`. However, we must first deal with the repeated values of `'code'` in `practices`. We want the alphabetically first postal codes."
   ]
  },
  {
   "cell_type": "code",
   "execution_count": 29,
   "metadata": {},
   "outputs": [],
   "source": [
    "practice_postal = {}\n",
    "for practice in practices:\n",
    "    # if practice code already listed\n",
    "    if practice['code'] in practice_postal:\n",
    "        # choose alphabetically 1st postcode\n",
    "        # only if the alphabetically 1st postcode is the one in practices do we then append to dict with chosen postcodes\n",
    "        if practice['post_code'] == sorted([practice['post_code'], practice_postal[practice['code']]])[0]:  \n",
    "            practice_postal[practice['code']] = practice['post_code']  \n",
    "    else: # each time a new practice code appears\n",
    "        practice_postal[practice['code']] = practice['post_code']"
   ]
  },
  {
   "cell_type": "markdown",
   "metadata": {},
   "source": [
    "**Challenge:** This is an aggregation of the practice data grouped by practice codes. Write an alternative implementation of the above cell using the `group_by_field` function you defined previously."
   ]
  },
  {
   "cell_type": "code",
   "execution_count": 30,
   "metadata": {},
   "outputs": [],
   "source": [
    "assert practice_postal['K82019'] == 'HP21 8TR'"
   ]
  },
  {
   "cell_type": "code",
   "execution_count": 31,
   "metadata": {},
   "outputs": [],
   "source": [
    "newgroups = group_by_field(practices, ('code',))"
   ]
  },
  {
   "cell_type": "code",
   "execution_count": 32,
   "metadata": {},
   "outputs": [
    {
     "data": {
      "text/plain": [
       "[{'code': 'K82019',\n",
       "  'name': 'THE MANDEVILLE PRACTICE',\n",
       "  'addr_1': 'THE MANDEVILLE PRACTICE',\n",
       "  'addr_2': 'HANNON ROAD',\n",
       "  'borough': 'AYLESBURY',\n",
       "  'village': 'BUCKINGHAMSHIRE',\n",
       "  'post_code': 'HP21 8TR'},\n",
       " {'code': 'K82019',\n",
       "  'name': 'THE MANDEVILLE PRACTICE',\n",
       "  'addr_1': 'FISHERMEAD MEDICAL CENTRE',\n",
       "  'addr_2': 'FISHERMEAD BOULEVARD',\n",
       "  'borough': 'MILTON KEYNES',\n",
       "  'village': 'BUCKINGHAMSHIRE',\n",
       "  'post_code': 'MK6 2LR'}]"
      ]
     },
     "execution_count": 32,
     "metadata": {},
     "output_type": "execute_result"
    }
   ],
   "source": [
    "newgroups['code']['K82019'][:5]"
   ]
  },
  {
   "cell_type": "code",
   "execution_count": 33,
   "metadata": {},
   "outputs": [],
   "source": [
    "\n",
    "# create list of selected alphabetically 1st postcodes ordered by code\n",
    "postcodes = [sorted([newgroups['code'][key][x]['post_code'] \n",
    "                 for x in range(len(newgroups['code'][key]))])[0] for key in newgroups['code'].keys()]\n",
    "# initialise empty dict ordered by 'code'\n",
    "practice_postal_ = {code : [] for code in newgroups['code']}\n",
    "# populate dict with list according to the 'code' key\n",
    "ix=0\n",
    "for code in practice_postal_:\n",
    "    practice_postal_[code] = postcodes[ix]\n",
    "    ix+=1"
   ]
  },
  {
   "cell_type": "code",
   "execution_count": null,
   "metadata": {},
   "outputs": [],
   "source": []
  },
  {
   "cell_type": "code",
   "execution_count": null,
   "metadata": {},
   "outputs": [],
   "source": []
  },
  {
   "cell_type": "markdown",
   "metadata": {},
   "source": [
    "Now we can join `practice_postal` to `scripts`."
   ]
  },
  {
   "cell_type": "code",
   "execution_count": 34,
   "metadata": {},
   "outputs": [],
   "source": [
    "joined = scripts\n",
    "for script in joined:\n",
    "    script['post_code'] = practice_postal[script['practice']]"
   ]
  },
  {
   "cell_type": "markdown",
   "metadata": {},
   "source": [
    "Finally we'll group the prescription dictionaries in `joined` by `'post_code'` and sum up the items prescribed in each group, as we did in the previous question."
   ]
  },
  {
   "cell_type": "code",
   "execution_count": 35,
   "metadata": {},
   "outputs": [],
   "source": [
    "items_by_post = group_by_field(joined, ('post_code',))"
   ]
  },
  {
   "cell_type": "code",
   "execution_count": 37,
   "metadata": {},
   "outputs": [
    {
     "name": "stdout",
     "output_type": "stream",
     "text": [
      "==================\n",
      "Your score: 1.000\n",
      "==================\n"
     ]
    }
   ],
   "source": [
    "postal_totals = [(postcode, sum([items_by_post['post_code'][postcode][x]['items']\n",
    "     for x in range(len(items_by_post['post_code'][postcode]))])) \n",
    "                 for postcode in sorted(items_by_post['post_code'].keys())[:100]]#only 1st 100 alphabetically ordered pcodes\n",
    "\n",
    "grader.score.pw__postal_totals(postal_totals)"
   ]
  },
  {
   "cell_type": "markdown",
   "metadata": {},
   "source": [
    "## Question 4: items_by_region\n",
    "\n",
    "Now we'll combine the techniques we've developed to answer a more complex question. Find the most commonly dispensed item in each postal code, representing the results as a list of tuples (`post_code`, `bnf_name`, amount dispensed as proportion of total). Sort your results ascending alphabetically by post code and take only results from the first 100 post codes.\n",
    "\n",
    "**NOTE:** We'll continue to use the `joined` variable we created before, where we've chosen the alphabetically first postal code for each practice. Additionally, some postal codes will have multiple `'bnf_name'` with the same number of items prescribed for the maximum. In this case, we'll take the alphabetically first `'bnf_name'`.\n",
    "\n",
    "There are several approaches to solve this problem but we will guide you through one of them. Feel free to solve it your own way if it is easier for you to understand and implement. If your kernel keeps on dying, it's probably an indication that you are running out of memory. Consider deleting objects you don't need anymore using the `del` statement and shutdown any other running notebooks. For example:\n",
    "```Python\n",
    "del some_object_not_needed\n",
    "```"
   ]
  },
  {
   "cell_type": "markdown",
   "metadata": {},
   "source": [
    "The first step is to calculate the total items for each `'post_code'` and `'bnf_name'`. Let's call that result `total_items_by_post_bnf`. Consider what is the best data structure(s) to represent `total_items_by_post_bnf`. It should have 141196 `('post_code', 'bnf_name')` groups."
   ]
  },
  {
   "cell_type": "code",
   "execution_count": 48,
   "metadata": {},
   "outputs": [],
   "source": [
    "items_by_post_ = group_by_field_(joined, ('post_code',))"
   ]
  },
  {
   "cell_type": "code",
   "execution_count": 49,
   "metadata": {},
   "outputs": [],
   "source": [
    "total_items_by_bnf_post = {}\n",
    "for postcode in items_by_post_.keys():\n",
    "    groups = group_by_field_(items_by_post_[postcode], ('bnf_name',))\n",
    "    for bnf_name in groups.keys():\n",
    "        total_items_by_bnf_post[(postcode, bnf_name)] = sum([groups[bnf_name][x]['items'] \n",
    "                                                         for x in range(len(groups[bnf_name]))])"
   ]
  },
  {
   "cell_type": "code",
   "execution_count": 50,
   "metadata": {
    "scrolled": true
   },
   "outputs": [
    {
     "data": {
      "text/plain": [
       "[('B11 4BW', '3m Health Care_Cavilon Durable Barrier C'),\n",
       " ('B11 4BW', '3m Health Care_Cavilon No Sting Barrier'),\n",
       " ('B11 4BW', 'Abidec_Dps'),\n",
       " ('B11 4BW', 'Acetic Acid_Ear Spy 2% 5ml'),\n",
       " ('B11 4BW', 'Aciclovir_Crm 5%')]"
      ]
     },
     "execution_count": 50,
     "metadata": {},
     "output_type": "execute_result"
    }
   ],
   "source": [
    "sorted(total_items_by_bnf_post.keys())[:5]"
   ]
  },
  {
   "cell_type": "code",
   "execution_count": 51,
   "metadata": {},
   "outputs": [
    {
     "data": {
      "text/plain": [
       "7"
      ]
     },
     "execution_count": 51,
     "metadata": {},
     "output_type": "execute_result"
    }
   ],
   "source": [
    "total_items_by_bnf_post[('B11 4BW', '3m Health Care_Cavilon Durable Barrier C')]"
   ]
  },
  {
   "cell_type": "code",
   "execution_count": 54,
   "metadata": {},
   "outputs": [],
   "source": [
    "assert len(total_items_by_bnf_post) == 141196"
   ]
  },
  {
   "cell_type": "code",
   "execution_count": 56,
   "metadata": {},
   "outputs": [],
   "source": [
    "total_items_by_post = {postcode : [] for postcode in items_by_post_.keys()}    \n",
    "for key, totals in total_items_by_bnf_post.items():\n",
    "    if key[0] in total_items_by_post:\n",
    "        total_items_by_post[key[0]].append((key[1],totals))\n",
    "    else:\n",
    "        total_items_by_post[postcode].append((key[1],totals))"
   ]
  },
  {
   "cell_type": "code",
   "execution_count": 57,
   "metadata": {},
   "outputs": [
    {
     "data": {
      "text/plain": [
       "dict_keys(['SK11 6JL', 'CW5 5NX', 'CW1 3AW', 'CW7 1AT', 'CH65 6TG', 'CH1 4DS', 'TS10 4NW', 'TS24 7PW', 'TS17 0EE', 'TS23 2DG', 'TS3 6AL', 'TS1 2NX', 'OL4 1YN', 'OL1 1NL', 'BL9 0SN', 'WN7 1HR', 'BL3 5HP', 'BL1 8TU', 'M26 2SP', 'BL9 0NJ', 'M35 0AD', 'OL9 7AY', 'OL11 1DN', 'M30 0NU', 'M11 4EJ', 'SK6 1ND', 'WN3 5HL', 'WN2 5NG', 'WN7 2PE', 'BB2 1AX', 'BB3 1PY', 'FY2 0JG', 'FY4 1TJ', 'BB11 2DL', 'BB8 0JZ', 'BB9 7SR', 'BB7 2JG', 'BB4 5SL', 'LA1 1PN', 'FY5 2TZ', 'FY7 8GU', 'WA7 1AB', 'L36 7XY', 'L31 0DJ', 'WA10 2DJ', 'WA9 1LN', 'L7 6HD', 'L5 0QW', 'NE24 1DX', 'NE10 9QG', 'NE38 7NQ', 'SR4 7XF', 'NE37 2PU', 'SR5 2LT', 'YO16 4LZ', 'HG1 5AR', 'HU7 4DW', 'DN34 4GB', 'S63 9EH', 'S74 9AF', 'DN22 7XF', 'S65 1DA', 'WF13 1HN', 'BD3 8QH', 'LS9 9EF', 'CV1 4FS', 'B11 4BW', 'B21 9RY', 'B18 7AL', 'B70 7AW', 'WV13 2DR', 'WS10 8SY', 'WS3 3JP', 'B23 6DJ', 'NG7 3GW', 'NG7 5HY', 'TN24 0GP', 'CB9 8HF', 'SS13 3HQ', 'SS8 0JA', 'SS9 5UU', 'SS0 7AF', 'NN16 8DN', 'WD18 0JP', 'LN2 2JP', 'LE18 2EW', 'LE5 3GH', 'LE10 1DS', 'ST8 6AG', 'ST1 4PB', 'ST3 6AB', 'N9 7HD', 'RM3 9SU', 'W10 6DZ', 'HA0 4UZ', 'NW10 8RY', 'TW8 8DS', 'TW13 4GU', 'TW3 3LN', 'HA3 7LT', 'KT6 6EZ', 'SE1 6JP', 'SE15 5LJ', 'SM3 8EP', 'SM6 0HY', 'GL1 3PX', 'GL50 4DP', 'TR1 2JA', 'PL7 1AD', 'DA11 8BZ', 'DA1 2HA', 'ME8 8AA', 'CT11 8AD', 'TN34 1BA', 'KT14 6DH', 'BH18 8EE', 'BH23 3AF', 'GU9 9QS'])"
      ]
     },
     "execution_count": 57,
     "metadata": {},
     "output_type": "execute_result"
    }
   ],
   "source": [
    "total_items_by_post.keys()"
   ]
  },
  {
   "cell_type": "code",
   "execution_count": 58,
   "metadata": {
    "scrolled": true
   },
   "outputs": [
    {
     "data": {
      "text/plain": [
       "[('Co-Magaldrox_Susp 195mg/220mg/5ml S/F', 5),\n",
       " ('Alginate_Raft-Forming Oral Susp S/F', 3),\n",
       " ('Sod Algin/Pot Bicarb_Susp S/F', 94),\n",
       " ('Sod Alginate/Pot Bicarb_Tab Chble 500mg', 9),\n",
       " ('Gaviscon Infant_Sach 2g (Dual Pack) S/F', 41)]"
      ]
     },
     "execution_count": 58,
     "metadata": {},
     "output_type": "execute_result"
    }
   ],
   "source": [
    "total_items_by_post['SK11 6JL'][:5]"
   ]
  },
  {
   "cell_type": "code",
   "execution_count": 59,
   "metadata": {},
   "outputs": [
    {
     "data": {
      "text/plain": [
       "('SK11 6JL', [('Omeprazole_Cap E/C 20mg', 3219)])"
      ]
     },
     "execution_count": 59,
     "metadata": {},
     "output_type": "execute_result"
    }
   ],
   "source": [
    "'SK11 6JL', sorted(total_items_by_post['SK11 6JL'], key=lambda pair: pair[1])[-1:]"
   ]
  },
  {
   "cell_type": "markdown",
   "metadata": {},
   "source": [
    "Next, let's take `total_items_by_post_bnf` and group it by `'post_code'`. In other words, we want a  data structure that maps a `'post_code'` to a list of all records that belong to that `'post_code'`. There should be 118 groups."
   ]
  },
  {
   "cell_type": "code",
   "execution_count": 61,
   "metadata": {},
   "outputs": [],
   "source": [
    "\n",
    "assert len(total_items_by_post) == 118"
   ]
  },
  {
   "cell_type": "markdown",
   "metadata": {},
   "source": [
    "Now with `grouped_post_code`, let's iterate over each group and calculate the following fields for each `'post_code'`:\n",
    "1. the sum of total items for all `'bnf_name'`\n",
    "1. the most total items\n",
    "1. the `'bnf_name'` that had the most total items\n",
    "\n",
    "Once again, consider the best data structure(s) to use to represent the result. It may help to write and use a function when developing your solution."
   ]
  },
  {
   "cell_type": "code",
   "execution_count": null,
   "metadata": {},
   "outputs": [],
   "source": [
    "most_item_data_by_post = ...\n",
    "\n",
    "\n",
    "max_item_by_post = [(postcode, sorted(group, key=lambda pair: pair[1])[-1]) \n",
    "                    for postcode, group in total_items_by_post.items()]\n",
    "sorted(max_item_by_post)"
   ]
  },
  {
   "cell_type": "markdown",
   "metadata": {},
   "source": [
    "Now, we are ready to:\n",
    "1. calculate the ratio (the amount dispensed as proportion of total)\n",
    "1. [sort](https://docs.python.org/3/howto/sorting.html) alphabetically by the post code\n",
    "1. format the answer as a list of tuples\n",
    "1. take only the first 100 tuples\n",
    "1. submit to the grader"
   ]
  },
  {
   "cell_type": "code",
   "execution_count": null,
   "metadata": {},
   "outputs": [],
   "source": [
    "items_by_region = [('B11 4BW', 'Salbutamol_Inha 100mcg (200 D) CFF', 0.0341508247)] * 100"
   ]
  },
  {
   "cell_type": "code",
   "execution_count": null,
   "metadata": {},
   "outputs": [],
   "source": [
    "grader.score.pw__items_by_region(items_by_region)"
   ]
  },
  {
   "cell_type": "markdown",
   "metadata": {},
   "source": [
    "*Copyright &copy; 2021 WorldQuant University. This content is licensed solely for personal use. Redistribution or publication of this material is strictly prohibited.*"
   ]
  }
 ],
 "metadata": {
  "kernelspec": {
   "display_name": "Python 3",
   "language": "python",
   "name": "python3"
  },
  "language_info": {
   "codemirror_mode": {
    "name": "ipython",
    "version": 3
   },
   "file_extension": ".py",
   "mimetype": "text/x-python",
   "name": "python",
   "nbconvert_exporter": "python",
   "pygments_lexer": "ipython3",
   "version": "3.8.8"
  },
  "nbclean": true
 },
 "nbformat": 4,
 "nbformat_minor": 1
}
